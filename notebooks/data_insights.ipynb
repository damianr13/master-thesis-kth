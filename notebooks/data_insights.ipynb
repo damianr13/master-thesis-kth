{
 "cells": [
  {
   "cell_type": "code",
   "execution_count": 1,
   "metadata": {
    "pycharm": {
     "name": "#%%\n"
    }
   },
   "outputs": [],
   "source": [
    "import string\n",
    "\n",
    "import pandas as pd\n",
    "pd.set_option('display.max_colwidth', None)"
   ]
  },
  {
   "cell_type": "code",
   "execution_count": 2,
   "metadata": {
    "pycharm": {
     "name": "#%%\n"
    }
   },
   "outputs": [
    {
     "data": {
      "text/html": [
       "<div>\n",
       "<style scoped>\n",
       "    .dataframe tbody tr th:only-of-type {\n",
       "        vertical-align: middle;\n",
       "    }\n",
       "\n",
       "    .dataframe tbody tr th {\n",
       "        vertical-align: top;\n",
       "    }\n",
       "\n",
       "    .dataframe thead th {\n",
       "        text-align: right;\n",
       "    }\n",
       "</style>\n",
       "<table border=\"1\" class=\"dataframe\">\n",
       "  <thead>\n",
       "    <tr style=\"text-align: right;\">\n",
       "      <th></th>\n",
       "      <th>left_id</th>\n",
       "      <th>left_name</th>\n",
       "      <th>left_description</th>\n",
       "      <th>right_id</th>\n",
       "      <th>right_name</th>\n",
       "      <th>right_description</th>\n",
       "      <th>label</th>\n",
       "    </tr>\n",
       "  </thead>\n",
       "  <tbody>\n",
       "    <tr>\n",
       "      <th>0</th>\n",
       "      <td>445</td>\n",
       "      <td>sony pink cyber-shot 7.2 megapixel digital camera dscw120p</td>\n",
       "      <td>sony pink cyber-shot 7.2 megapixel digital camera dscw120p 7.2 megapixel 4x optical zoom 2.5 ' tft lcd 15 mb internal memory face detection super steadyshot image stabilization smile shutter mode smart zoom pink finish</td>\n",
       "      <td>910</td>\n",
       "      <td>olympus fe-360 digital camera pink 226540</td>\n",
       "      <td>8 megapixel 16:9 3x optical zoom 4x digital zoom 2.5 ' color lcd</td>\n",
       "      <td>0</td>\n",
       "    </tr>\n",
       "    <tr>\n",
       "      <th>1</th>\n",
       "      <td>477</td>\n",
       "      <td>sony silver cyber-shot digital camera dscw150</td>\n",
       "      <td>sony silver cyber-shot digital camera dscw150 8.1 megapixels 2.7 ' lcd display 15 mb internal memory carl zeiss 5x optical zoom lens 16:9 high-resolution mode 9-point auto focus automatic macro shooting high sensitivity mode burst mode face detection intelligent scene recognition mode in-camera retouching super steadyshot optical image stabilization with anti-blur solution music slideshow hdtv compatibility beginner-friendly function guide silver finish</td>\n",
       "      <td>910</td>\n",
       "      <td>olympus fe-360 digital camera pink 226540</td>\n",
       "      <td>8 megapixel 16:9 3x optical zoom 4x digital zoom 2.5 ' color lcd</td>\n",
       "      <td>0</td>\n",
       "    </tr>\n",
       "    <tr>\n",
       "      <th>2</th>\n",
       "      <td>445</td>\n",
       "      <td>sony pink cyber-shot 7.2 megapixel digital camera dscw120p</td>\n",
       "      <td>sony pink cyber-shot 7.2 megapixel digital camera dscw120p 7.2 megapixel 4x optical zoom 2.5 ' tft lcd 15 mb internal memory face detection super steadyshot image stabilization smile shutter mode smart zoom pink finish</td>\n",
       "      <td>415</td>\n",
       "      <td>sony lcs-twa/b cyber-shot camera case lcstwa/b</td>\n",
       "      <td>top loading leather black</td>\n",
       "      <td>0</td>\n",
       "    </tr>\n",
       "    <tr>\n",
       "      <th>3</th>\n",
       "      <td>483</td>\n",
       "      <td>sony red cyber-shot digital camera dscw170r</td>\n",
       "      <td>sony dscw170 red cyber-shot digital camera dscw170r 10.1 megapixels 2.7 ' lcd display 15 mb internal memory carl zeiss 5x optical zoom lens bionz real imaging processor technology 16:9 high-resolution mode 9-point auto focus automatic macro shooting high sensitivity mode burst mode face detection intelligent scene recognition mode in-camera retouching super steadyshot optical image stabilization with anti-blur solution music slideshow hdtv compatibility beginner-friendly function guide red finish</td>\n",
       "      <td>415</td>\n",
       "      <td>sony lcs-twa/b cyber-shot camera case lcstwa/b</td>\n",
       "      <td>top loading leather black</td>\n",
       "      <td>0</td>\n",
       "    </tr>\n",
       "    <tr>\n",
       "      <th>4</th>\n",
       "      <td>241</td>\n",
       "      <td>sony lcs-twa/r red soft leather carrying case lcstwar</td>\n",
       "      <td>sony lcs-twa/r red soft leather carrying case lcstwar genuine leather construction compatible with cyber-shot w and t series digital cameras integrated belt loop and magnetic closure red finish</td>\n",
       "      <td>415</td>\n",
       "      <td>sony lcs-twa/b cyber-shot camera case lcstwa/b</td>\n",
       "      <td>top loading leather black</td>\n",
       "      <td>0</td>\n",
       "    </tr>\n",
       "  </tbody>\n",
       "</table>\n",
       "</div>"
      ],
      "text/plain": [
       "   left_id                                                   left_name  \\\n",
       "0      445  sony pink cyber-shot 7.2 megapixel digital camera dscw120p   \n",
       "1      477               sony silver cyber-shot digital camera dscw150   \n",
       "2      445  sony pink cyber-shot 7.2 megapixel digital camera dscw120p   \n",
       "3      483                 sony red cyber-shot digital camera dscw170r   \n",
       "4      241       sony lcs-twa/r red soft leather carrying case lcstwar   \n",
       "\n",
       "                                                                                                                                                                                                                                                                                                                                                                                                                                                                                                        left_description  \\\n",
       "0                                                                                                                                                                                                                                                                                             sony pink cyber-shot 7.2 megapixel digital camera dscw120p 7.2 megapixel 4x optical zoom 2.5 ' tft lcd 15 mb internal memory face detection super steadyshot image stabilization smile shutter mode smart zoom pink finish   \n",
       "1                                              sony silver cyber-shot digital camera dscw150 8.1 megapixels 2.7 ' lcd display 15 mb internal memory carl zeiss 5x optical zoom lens 16:9 high-resolution mode 9-point auto focus automatic macro shooting high sensitivity mode burst mode face detection intelligent scene recognition mode in-camera retouching super steadyshot optical image stabilization with anti-blur solution music slideshow hdtv compatibility beginner-friendly function guide silver finish   \n",
       "2                                                                                                                                                                                                                                                                                             sony pink cyber-shot 7.2 megapixel digital camera dscw120p 7.2 megapixel 4x optical zoom 2.5 ' tft lcd 15 mb internal memory face detection super steadyshot image stabilization smile shutter mode smart zoom pink finish   \n",
       "3  sony dscw170 red cyber-shot digital camera dscw170r 10.1 megapixels 2.7 ' lcd display 15 mb internal memory carl zeiss 5x optical zoom lens bionz real imaging processor technology 16:9 high-resolution mode 9-point auto focus automatic macro shooting high sensitivity mode burst mode face detection intelligent scene recognition mode in-camera retouching super steadyshot optical image stabilization with anti-blur solution music slideshow hdtv compatibility beginner-friendly function guide red finish   \n",
       "4                                                                                                                                                                                                                                                                                                                      sony lcs-twa/r red soft leather carrying case lcstwar genuine leather construction compatible with cyber-shot w and t series digital cameras integrated belt loop and magnetic closure red finish   \n",
       "\n",
       "   right_id                                      right_name  \\\n",
       "0       910       olympus fe-360 digital camera pink 226540   \n",
       "1       910       olympus fe-360 digital camera pink 226540   \n",
       "2       415  sony lcs-twa/b cyber-shot camera case lcstwa/b   \n",
       "3       415  sony lcs-twa/b cyber-shot camera case lcstwa/b   \n",
       "4       415  sony lcs-twa/b cyber-shot camera case lcstwa/b   \n",
       "\n",
       "                                                  right_description  label  \n",
       "0  8 megapixel 16:9 3x optical zoom 4x digital zoom 2.5 ' color lcd      0  \n",
       "1  8 megapixel 16:9 3x optical zoom 4x digital zoom 2.5 ' color lcd      0  \n",
       "2                                         top loading leather black      0  \n",
       "3                                         top loading leather black      0  \n",
       "4                                         top loading leather black      0  "
      ]
     },
     "execution_count": 2,
     "metadata": {},
     "output_type": "execute_result"
    }
   ],
   "source": [
    "abt_test_df = pd.read_csv('../data/interim/abt_buy/test.csv')\n",
    "abt_test_df.head()"
   ]
  },
  {
   "cell_type": "code",
   "execution_count": 4,
   "metadata": {
    "pycharm": {
     "name": "#%%\n"
    }
   },
   "outputs": [
    {
     "name": "stdout",
     "output_type": "stream",
     "text": [
      "206 positive examples\n"
     ]
    }
   ],
   "source": [
    "pos_abt_test_df = abt_test_df[abt_test_df['label'] == 1]\n",
    "print(f'{len(pos_abt_test_df)} positive examples')"
   ]
  },
  {
   "cell_type": "code",
   "execution_count": 5,
   "metadata": {
    "pycharm": {
     "name": "#%%\n"
    }
   },
   "outputs": [],
   "source": [
    "import os\n",
    "os.chdir(\"/home/robert/thesis-public\")"
   ]
  },
  {
   "cell_type": "code",
   "execution_count": 6,
   "metadata": {
    "pycharm": {
     "name": "#%%\n"
    }
   },
   "outputs": [
    {
     "name": "stderr",
     "output_type": "stream",
     "text": [
      "/opt/conda/envs/thesis-env/lib/python3.9/site-packages/xgboost/compat.py:36: FutureWarning: pandas.Int64Index is deprecated and will be removed from pandas in a future version. Use pandas.Index with the appropriate dtype instead.\n",
      "  from pandas import MultiIndex, Int64Index\n"
     ]
    },
    {
     "name": "stdout",
     "output_type": "stream",
     "text": [
      "Working with model: bernoulli\n",
      "\n",
      "Testing 1 combination(s)\n",
      "Working with model: xgboost\n",
      "\n",
      "Testing 500 combination(s)\n"
     ]
    },
    {
     "name": "stderr",
     "output_type": "stream",
     "text": [
      "/opt/conda/envs/thesis-env/lib/python3.9/site-packages/xgboost/compat.py:36: FutureWarning: pandas.Int64Index is deprecated and will be removed from pandas in a future version. Use pandas.Index with the appropriate dtype instead.\n",
      "  from pandas import MultiIndex, Int64Index\n",
      "/opt/conda/envs/thesis-env/lib/python3.9/site-packages/xgboost/compat.py:36: FutureWarning: pandas.Int64Index is deprecated and will be removed from pandas in a future version. Use pandas.Index with the appropriate dtype instead.\n",
      "  from pandas import MultiIndex, Int64Index\n",
      "/opt/conda/envs/thesis-env/lib/python3.9/site-packages/xgboost/compat.py:36: FutureWarning: pandas.Int64Index is deprecated and will be removed from pandas in a future version. Use pandas.Index with the appropriate dtype instead.\n",
      "  from pandas import MultiIndex, Int64Index\n",
      "/opt/conda/envs/thesis-env/lib/python3.9/site-packages/xgboost/compat.py:36: FutureWarning: pandas.Int64Index is deprecated and will be removed from pandas in a future version. Use pandas.Index with the appropriate dtype instead.\n",
      "  from pandas import MultiIndex, Int64Index\n"
     ]
    },
    {
     "name": "stdout",
     "output_type": "stream",
     "text": [
      "Working with model: random_forest\n",
      "\n",
      "Testing 384 combination(s)\n",
      "Working with model: decision_tree\n",
      "\n",
      "Testing 384 combination(s)\n",
      "Working with model: linear_svc\n",
      "\n",
      "Testing 16 combination(s)\n"
     ]
    },
    {
     "name": "stderr",
     "output_type": "stream",
     "text": [
      "/opt/conda/envs/thesis-env/lib/python3.9/site-packages/sklearn/svm/_base.py:1206: ConvergenceWarning: Liblinear failed to converge, increase the number of iterations.\n",
      "  warnings.warn(\n"
     ]
    },
    {
     "name": "stdout",
     "output_type": "stream",
     "text": [
      "Working with model: logistic_regression\n",
      "\n",
      "Testing 16 combination(s)\n"
     ]
    }
   ],
   "source": [
    "from src.preprocess.model_specific.word_cooc import WordCoocPreprocessor\n",
    "from src.predictors.word_cooc import WordCoocPredictor\n",
    "\n",
    "WordCoocPreprocessor('configs/model_specific/word_cooc/abt_buy.json').preprocess()\n",
    "\n",
    "predictor = WordCoocPredictor(config_path='configs/model_train/word_cooc.json')\n",
    "\n",
    "train_df = pd.read_csv('data/processed/word_cooc/abt_buy/train.csv')\n",
    "valid_df = pd.read_csv('data/processed/word_cooc/abt_buy/valid.csv')\n",
    "test_df = pd.read_csv('data/processed/word_cooc/abt_buy/test.csv')\n",
    "predictor.train(train_set=train_df, valid_set=valid_df)\n",
    "\n",
    "f1 = predictor.test(test_df)"
   ]
  },
  {
   "cell_type": "code",
   "execution_count": 6,
   "metadata": {
    "pycharm": {
     "name": "#%%\n"
    }
   },
   "outputs": [],
   "source": [
    "test_wooc_preds = predictor.predict(test_df)"
   ]
  },
  {
   "cell_type": "code",
   "execution_count": 7,
   "metadata": {
    "pycharm": {
     "name": "#%%\n"
    }
   },
   "outputs": [
    {
     "name": "stdout",
     "output_type": "stream",
     "text": [
      "1916\n"
     ]
    }
   ],
   "source": [
    "print(len(test_wooc_preds == 1))"
   ]
  },
  {
   "cell_type": "code",
   "execution_count": 8,
   "metadata": {
    "pycharm": {
     "name": "#%%\n"
    }
   },
   "outputs": [
    {
     "name": "stdout",
     "output_type": "stream",
     "text": [
      "340 wrong, 1576 correct\n"
     ]
    }
   ],
   "source": [
    "mislabeled = test_df[test_df['label'] != test_wooc_preds]\n",
    "correct = test_df[test_df['label'] == test_wooc_preds]\n",
    "\n",
    "print(f'{len(mislabeled)} wrong, {len(correct)} correct')"
   ]
  },
  {
   "cell_type": "code",
   "execution_count": 9,
   "metadata": {
    "pycharm": {
     "name": "#%%\n"
    }
   },
   "outputs": [],
   "source": [
    "import string\n",
    "\n",
    "\n",
    "def alternate_colors(row):\n",
    "    color = 'light_blue' if row.name % 2 == 1 else 'black'\n",
    "    return [f'background-color: {color}'] * len(row.values)\n",
    "\n",
    "\n",
    "def highlight_text(text):\n",
    "    return '<i style=\"background-color: yellow\">' + text + '</i>'\n",
    "\n",
    "\n",
    "def is_known(word):\n",
    "    if len(word) == 1 and word in string.punctuation:\n",
    "        return True\n",
    "\n",
    "    return word in predictor.count_model.vocabulary_.keys()\n",
    "\n",
    "\n",
    "def highlight_unknown_words(text):\n",
    "    words = text.split(' ')\n",
    "    return ' '.join([word if is_known(word) else highlight_text(word) for word in words])\n",
    "\n",
    "\n",
    "def show_with_contrast(df: pd.DataFrame) -> pd.DataFrame:\n",
    "    result = pd.DataFrame()\n",
    "    result['comparison'] = (df['ltext'].apply(highlight_unknown_words).astype(str) + '<br>' + df['rtext'].apply(highlight_unknown_words).astype(str)).iloc[:20]\n",
    "    result.index = pd.RangeIndex(0, len(result))\n",
    "    result = result.style.set_properties(**{\n",
    "        'text-align': 'left',\n",
    "        'white-space': 'pre-wrap',\n",
    "        'background-color': 'light-blue'\n",
    "    })\n",
    "    result = result.apply(alternate_colors, axis=1)\n",
    "    return result"
   ]
  },
  {
   "cell_type": "code",
   "execution_count": 10,
   "metadata": {
    "pycharm": {
     "name": "#%%\n"
    }
   },
   "outputs": [
    {
     "data": {
      "text/html": [
       "<style type=\"text/css\">\n",
       "#T_c6117_row0_col0, #T_c6117_row2_col0, #T_c6117_row4_col0, #T_c6117_row6_col0, #T_c6117_row8_col0, #T_c6117_row10_col0, #T_c6117_row12_col0, #T_c6117_row14_col0, #T_c6117_row16_col0, #T_c6117_row18_col0 {\n",
       "  text-align: left;\n",
       "  white-space: pre-wrap;\n",
       "  background-color: light-blue;\n",
       "  background-color: black;\n",
       "}\n",
       "#T_c6117_row1_col0, #T_c6117_row3_col0, #T_c6117_row5_col0, #T_c6117_row7_col0, #T_c6117_row9_col0, #T_c6117_row11_col0, #T_c6117_row13_col0, #T_c6117_row15_col0, #T_c6117_row17_col0, #T_c6117_row19_col0 {\n",
       "  text-align: left;\n",
       "  white-space: pre-wrap;\n",
       "  background-color: light-blue;\n",
       "  background-color: light_blue;\n",
       "}\n",
       "</style>\n",
       "<table id=\"T_c6117\">\n",
       "  <thead>\n",
       "    <tr>\n",
       "      <th class=\"blank level0\" >&nbsp;</th>\n",
       "      <th id=\"T_c6117_level0_col0\" class=\"col_heading level0 col0\" >comparison</th>\n",
       "    </tr>\n",
       "  </thead>\n",
       "  <tbody>\n",
       "    <tr>\n",
       "      <th id=\"T_c6117_level0_row0\" class=\"row_heading level0 row0\" >0</th>\n",
       "      <td id=\"T_c6117_row0_col0\" class=\"data row0 col0\" >panasonic black <i style=\"background-color: yellow\">8.5</i> ' portable dvd player dvdls83 panasonic black <i style=\"background-color: yellow\">8.5</i> ' portable dvd player dvdls83 <i style=\"background-color: yellow\">8.5</i> ' free style wide screen lcd display <i style=\"background-color: yellow\">6</i> hour battery multi format playback dual headphone jacks divx playback car dc adapter included black finish<br>panasonic <i style=\"background-color: yellow\">dvd-ls83</i> portable dvd player <i style=\"background-color: yellow\">8.5</i> ' lcd dvd + rw , <i style=\"background-color: yellow\">dvd-rw</i> , <i style=\"background-color: yellow\">dvd-ram</i> , dvd + <i style=\"background-color: yellow\">r</i> , <i style=\"background-color: yellow\">dvd-r</i> , <i style=\"background-color: yellow\">cd-rw</i> dvd video , <i style=\"background-color: yellow\">cd-da</i> , mp3 , jpeg , <i style=\"background-color: yellow\">mpeg-4</i> , divx , wma , video cd , svcd , highmat playback</td>\n",
       "    </tr>\n",
       "    <tr>\n",
       "      <th id=\"T_c6117_level0_row1\" class=\"row_heading level0 row1\" >1</th>\n",
       "      <td id=\"T_c6117_row1_col0\" class=\"data row1 col0\" >sony bravia theater black micro system davis50b sony bravia theater black micro system davis50b <i style=\"background-color: yellow\">5.1-channel</i> surround sound golf <i style=\"background-color: yellow\">ball-sized</i> speakers compact design <i style=\"background-color: yellow\">s-air</i> digital wireless capability hdmi connectivity bravia sync digital cinema sound ( dcs ) technology <i style=\"background-color: yellow\">s-master</i> digital amplifier portable audio enhancer black finish<br>sony bravia <i style=\"background-color: yellow\">dav-is50</i> / <i style=\"background-color: yellow\">b</i> home theater system dvd player , <i style=\"background-color: yellow\">5.1</i> speakers <i style=\"background-color: yellow\">1</i> disc ( <i style=\"background-color: yellow\">s</i> ) progressive scan 450w rms dolby digital ex , dolby pro logic , dolby pro logic ii</td>\n",
       "    </tr>\n",
       "    <tr>\n",
       "      <th id=\"T_c6117_level0_row2\" class=\"row_heading level0 row2\" >2</th>\n",
       "      <td id=\"T_c6117_row2_col0\" class=\"data row2 col0\" >sony <i style=\"background-color: yellow\">cyber-shot</i> black digital camera dsch10b sony dsch10 <i style=\"background-color: yellow\">cyber-shot</i> black digital camera dsch10b <i style=\"background-color: yellow\">8.1</i> megapixels <i style=\"background-color: yellow\">3.0</i> ' lcd display carl zeiss 10x optical zoom lens 31 mb internal memory versatile flash advanced sports mode <i style=\"background-color: yellow\">9-point</i> auto focus high sensitivity mode burst mode face detection <i style=\"background-color: yellow\">in-camera</i> retouching super steadyshot optical image stabilization with <i style=\"background-color: yellow\">anti-blur</i> solution music slideshow hdtv compatibility stamina battery power <i style=\"background-color: yellow\">beginner-friendly</i> function guide black finish<br>sony <i style=\"background-color: yellow\">cyber-shot</i> <i style=\"background-color: yellow\">dsc-h10</i> digital camera black <i style=\"background-color: yellow\">dsch10/b</i> <i style=\"background-color: yellow\">8.1</i> megapixel <i style=\"background-color: yellow\">16:9</i> 2x digital zoom <i style=\"background-color: yellow\">3</i> ' active matrix tft color lcd</td>\n",
       "    </tr>\n",
       "    <tr>\n",
       "      <th id=\"T_c6117_level0_row3\" class=\"row_heading level0 row3\" >3</th>\n",
       "      <td id=\"T_c6117_row3_col0\" class=\"data row3 col0\" >canon battery charger 1133b001 canon battery charger 1133b001 compatible with canon <i style=\"background-color: yellow\">nb-5l</i> lithium battery black finish<br>canon <i style=\"background-color: yellow\">cb-2lx</i> battery charger 1133b001 <i style=\"background-color: yellow\"></i></td>\n",
       "    </tr>\n",
       "    <tr>\n",
       "      <th id=\"T_c6117_level0_row4\" class=\"row_heading level0 row4\" >4</th>\n",
       "      <td id=\"T_c6117_row4_col0\" class=\"data row4 col0\" >sirius sportster <i style=\"background-color: yellow\">4</i> with car kit sp4tk1 sirius sportster <i style=\"background-color: yellow\">4</i> with car kit sp4tk1 replays 44 minutes of content large <i style=\"background-color: yellow\">easy-to-read</i> <i style=\"background-color: yellow\">6-line</i> display 30 channel presets game alerts and game zone features one touch jump<br>directed electronics sportster <i style=\"background-color: yellow\">4</i> sirius satellite radio receiver sp4tk1 xs fm transmitter <i style=\"background-color: yellow\">6</i> lines lcd</td>\n",
       "    </tr>\n",
       "    <tr>\n",
       "      <th id=\"T_c6117_level0_row5\" class=\"row_heading level0 row5\" >5</th>\n",
       "      <td id=\"T_c6117_row5_col0\" class=\"data row5 col0\" >panasonic <i style=\"background-color: yellow\">kx-tg6702b</i> <i style=\"background-color: yellow\">5.8</i> ghz fhss gigarange expandable black cordless phone system kxtg6702b panasonic <i style=\"background-color: yellow\">kx-tg6702b</i> <i style=\"background-color: yellow\">5.8</i> ghz fhss gigarange expandable black cordless phone system kxtg6702b <i style=\"background-color: yellow\">all-digital</i> answering system lcd call counter speakerphone navigator key up to <i style=\"background-color: yellow\">8</i> handsets with just one phone jack line status indicator voice scramble handset locator volume control black finish<br>panasonic <i style=\"background-color: yellow\">kx-tg6702b</i> cordless telephone <i style=\"background-color: yellow\">kx-tg6702b</i> panasonic <i style=\"background-color: yellow\">5.8</i> ghz <i style=\"background-color: yellow\">2</i> line expandable phone with extra handset</td>\n",
       "    </tr>\n",
       "    <tr>\n",
       "      <th id=\"T_c6117_level0_row6\" class=\"row_heading level0 row6\" >6</th>\n",
       "      <td id=\"T_c6117_row6_col0\" class=\"data row6 col0\" >panasonic black expandable digital cordless dect <i style=\"background-color: yellow\">6.0</i> phone system kxtg9348t panasonic black expandable digital cordless dect <i style=\"background-color: yellow\">6.0</i> phone system kxtg9348t automatic clarity booster <i style=\"background-color: yellow\">5</i> hours talk time 11 days standby white backlit lcd <i style=\"background-color: yellow\">6-step</i> speakerphone volume <i style=\"background-color: yellow\">1</i> drop & splash resistant phone <i style=\"background-color: yellow\">1.9</i> ghz frequency range night mode black finish<br>panasonic <i style=\"background-color: yellow\">kx-tg9348t</i> expandable digital cordless phone <i style=\"background-color: yellow\">1</i> <i style=\"background-color: yellow\">x</i> phone line ( <i style=\"background-color: yellow\">s</i> ) metallic black</td>\n",
       "    </tr>\n",
       "    <tr>\n",
       "      <th id=\"T_c6117_level0_row7\" class=\"row_heading level0 row7\" >7</th>\n",
       "      <td id=\"T_c6117_row7_col0\" class=\"data row7 col0\" >samsung 50 ' widescreen plasma hdtv pn50a650 samsung 50 ' widescreen plasma hdtv pn50a650 touch of color ultra filterbright anti glare technology <i style=\"background-color: yellow\">1,000,000:1</i> dynamic contrast ratio <i style=\"background-color: yellow\">picture-in-picture</i> <i style=\"background-color: yellow\">anti-burn-in</i> technology <i style=\"background-color: yellow\">sports/game/movie</i> modes single integrated user interface with <i style=\"background-color: yellow\">wheel-key</i> remote <i style=\"background-color: yellow\">atsc/ntsc/clear</i> qa tuners<br>samsung pn50a650 50 ' 1080p plasma hdtv <i style=\"background-color: yellow\">1,000,000:1</i> dynamic contrast ratio anti <i style=\"background-color: yellow\">burn-in</i> technology <i style=\"background-color: yellow\"></i></td>\n",
       "    </tr>\n",
       "    <tr>\n",
       "      <th id=\"T_c6117_level0_row8\" class=\"row_heading level0 row8\" >8</th>\n",
       "      <td id=\"T_c6117_row8_col0\" class=\"data row8 col0\" >samsung 67 ' black widescreen series <i style=\"background-color: yellow\">7</i> led dlp hdtv hl67a750 samsung 67 ' black widescreen series <i style=\"background-color: yellow\">7</i> led dlp hdtv hl67a750 1920 <i style=\"background-color: yellow\">x</i> 1080p resolution <i style=\"background-color: yellow\">10,000:1</i> contrast ratio digital noise reduction cinemapure color engine get the full effect of 3d led backlight <i style=\"background-color: yellow\">ntsc/atsc/clear</i> qam <i style=\"background-color: yellow\">built-in</i> tuners <i style=\"background-color: yellow\">60,000</i> hours lamp life black finish<br>samsung <i style=\"background-color: yellow\">hl-67a750</i> 67 ' widescreen 1080p dlp hdtv <i style=\"background-color: yellow\">10,000:1</i> contrast ratio hl67a750 <i style=\"background-color: yellow\"></i></td>\n",
       "    </tr>\n",
       "    <tr>\n",
       "      <th id=\"T_c6117_level0_row9\" class=\"row_heading level0 row9\" >9</th>\n",
       "      <td id=\"T_c6117_row9_col0\" class=\"data row9 col0\" >panasonic silver dect <i style=\"background-color: yellow\">6.0</i> cordless telephone kxtg1033s panasonic <i style=\"background-color: yellow\">kx-tg1033s</i> silver dect <i style=\"background-color: yellow\">6.0</i> cordless telephone kxtg1033s dect <i style=\"background-color: yellow\">6.0</i> technology light up indicator <i style=\"background-color: yellow\">16-minute</i> <i style=\"background-color: yellow\">all-digital</i> answering system silver finish<br>panasonic <i style=\"background-color: yellow\">kx-tg1033s</i> digital cordless phone with three handsets <i style=\"background-color: yellow\">1</i> <i style=\"background-color: yellow\">x</i> phone line ( <i style=\"background-color: yellow\">s</i> ) headset jack silver</td>\n",
       "    </tr>\n",
       "    <tr>\n",
       "      <th id=\"T_c6117_level0_row10\" class=\"row_heading level0 row10\" >10</th>\n",
       "      <td id=\"T_c6117_row10_col0\" class=\"data row10 col0\" >panasonic <i style=\"background-color: yellow\">kx-tga450b</i> black <i style=\"background-color: yellow\">5.8</i> ghz cordless handset kxtga450b panasonic <i style=\"background-color: yellow\">kx-tga450b</i> black <i style=\"background-color: yellow\">5.8</i> ghz cordless handset kxtga450b frequency hopping digital spread spectrum technology answering system with compatible base unit call waiting caller id join <i style=\"background-color: yellow\">in/privacy</i> <i style=\"background-color: yellow\">2-way</i> intercom voice scramble black finish<br>panasonic <i style=\"background-color: yellow\">kx-tga450b</i> cordless handset panasonic <i style=\"background-color: yellow\">kx-tga450b</i> additional handset for pankxtg4500b</td>\n",
       "    </tr>\n",
       "    <tr>\n",
       "      <th id=\"T_c6117_level0_row11\" class=\"row_heading level0 row11\" >11</th>\n",
       "      <td id=\"T_c6117_row11_col0\" class=\"data row11 col0\" >panasonic expandable digital cordless dect <i style=\"background-color: yellow\">6.0</i> handset in silver kxtga101s panasonic expandable digital cordless dect <i style=\"background-color: yellow\">6.0</i> handset in silver kxtga101s expansion handset and charger select 1000 series phone systems big buttons <i style=\"background-color: yellow\">built-in</i> clock with alarm silver finish<br>panasonic <i style=\"background-color: yellow\">kx-tga101s</i> dect <i style=\"background-color: yellow\">6.0</i> expansion handset <i style=\"background-color: yellow\"></i></td>\n",
       "    </tr>\n",
       "    <tr>\n",
       "      <th id=\"T_c6117_level0_row12\" class=\"row_heading level0 row12\" >12</th>\n",
       "      <td id=\"T_c6117_row12_col0\" class=\"data row12 col0\" >sony <i style=\"background-color: yellow\">blu-ray</i> disc player bdps550 sony <i style=\"background-color: yellow\">blu-ray</i> disc player bdps550 decode dolby truehd and dts hd internally full hd 1080 video output 24p true cinema dvd upscaling to 1080p via hdmi bravia theatre sync ( <i style=\"background-color: yellow\">hdmi-cec</i> ) <i style=\"background-color: yellow\">bd/dvd/cd</i> playback and avchd with <i style=\"background-color: yellow\">x.v.</i> color output dolby digital plus decoding backlit remote glass front finish<br>sony <i style=\"background-color: yellow\">bdp-s550</i> <i style=\"background-color: yellow\">blu-ray</i> dvd player <i style=\"background-color: yellow\"></i></td>\n",
       "    </tr>\n",
       "    <tr>\n",
       "      <th id=\"T_c6117_level0_row13\" class=\"row_heading level0 row13\" >13</th>\n",
       "      <td id=\"T_c6117_row13_col0\" class=\"data row13 col0\" >linksys <i style=\"background-color: yellow\">wireless-g</i> printserver wpsm54g linksys <i style=\"background-color: yellow\">wireless-g</i> printserver wpsm54g share <i style=\"background-color: yellow\">a</i> multifunction printer with everyone on your network ( works with most usb printers ) allows full access to printing , faxing , scanning and copying functions connects your printer directly to the network by <i style=\"background-color: yellow\">10/100</i> wired ethernet or 54mbps <i style=\"background-color: yellow\">wireless-g</i><br>linksys wpsm54g <i style=\"background-color: yellow\">wireless-g</i> usb print server <i style=\"background-color: yellow\">1</i> <i style=\"background-color: yellow\">x</i> <i style=\"background-color: yellow\">10/100base-tx</i> network , <i style=\"background-color: yellow\">1</i> <i style=\"background-color: yellow\">x</i> usb <i style=\"background-color: yellow\">wi-fi</i> ieee <i style=\"background-color: yellow\">802.11</i> <i style=\"background-color: yellow\">b/g</i></td>\n",
       "    </tr>\n",
       "    <tr>\n",
       "      <th id=\"T_c6117_level0_row14\" class=\"row_heading level0 row14\" >14</th>\n",
       "      <td id=\"T_c6117_row14_col0\" class=\"data row14 col0\" >samsung 32 ' series <i style=\"background-color: yellow\">5</i> lcd black flat panel hdtv ln32a550 samsung 32 ' series <i style=\"background-color: yellow\">5</i> lcd black flat panel hdtv ln32a550 full 1080p high definition resolution <i style=\"background-color: yellow\">16:9</i> widescreen aspect ratio <i style=\"background-color: yellow\">30,000:1</i> dynamic contrast ratio 5ms response time srs trusurround xt audio <i style=\"background-color: yellow\">built-in</i> digital tuner ( <i style=\"background-color: yellow\">atsc/clear</i> qam ) <i style=\"background-color: yellow\">picture-in-picture</i> sound leveler <i style=\"background-color: yellow\">3</i> hdmi slots swivel stand black finish<br>samsung ln32a550 32 ' lcd tv samsung ln32a550 32 ' widescreen 1080p lcd hdtv <i style=\"background-color: yellow\">15,000:1</i> dynamic contrast ratio 5ms response time piano black</td>\n",
       "    </tr>\n",
       "    <tr>\n",
       "      <th id=\"T_c6117_level0_row15\" class=\"row_heading level0 row15\" >15</th>\n",
       "      <td id=\"T_c6117_row15_col0\" class=\"data row15 col0\" >sony silver <i style=\"background-color: yellow\">cyber-shot</i> digital camera dscs750 sony silver <i style=\"background-color: yellow\">cyber-shot</i> digital camera dscs750 <i style=\"background-color: yellow\">7.2</i> megapixel super had ccd <i style=\"background-color: yellow\">2.5</i> ' lcd display 3x optical zoom high sensitivity mode auto focus 22 mb internal memory face detection burst mode convenient photo modes <i style=\"background-color: yellow\">beginner-friendly</i> function guide silver finish<br>sony <i style=\"background-color: yellow\">dsc-750</i> <i style=\"background-color: yellow\">cyber-shot</i> digital camera dsc750 <i style=\"background-color: yellow\"></i></td>\n",
       "    </tr>\n",
       "    <tr>\n",
       "      <th id=\"T_c6117_level0_row16\" class=\"row_heading level0 row16\" >16</th>\n",
       "      <td id=\"T_c6117_row16_col0\" class=\"data row16 col0\" >sony <i style=\"background-color: yellow\">9</i> ' digital photo frame in black dpfv900 sony <i style=\"background-color: yellow\">9</i> ' digital photo frame dpfv900 <i style=\"background-color: yellow\">9</i> ' lcd with 800 <i style=\"background-color: yellow\">x</i> 480 resolution <i style=\"background-color: yellow\">15:9</i> aspect ratio 512mb internal memory supports most memory cards variety of display modes auto rotation and auto touch up feature hdmi output and bluetooth ready brilliant color photo display store up to <i style=\"background-color: yellow\">1,000</i> photos auto correction function remote control black finish<br>sony dpfv900 digital photo frame <i style=\"background-color: yellow\">dpf-v900</i> photo viewer <i style=\"background-color: yellow\">9</i> ' lcd</td>\n",
       "    </tr>\n",
       "    <tr>\n",
       "      <th id=\"T_c6117_level0_row17\" class=\"row_heading level0 row17\" >17</th>\n",
       "      <td id=\"T_c6117_row17_col0\" class=\"data row17 col0\" >canon black <i style=\"background-color: yellow\">21.1</i> megapixel eos digital slr camera body eos5dmarkiibody canon black <i style=\"background-color: yellow\">21.1</i> megapixel eos digital slr camera body eos5dmarkiibody <i style=\"background-color: yellow\">21.1</i> megapixel <i style=\"background-color: yellow\">3.0</i> ' clear view lcd monitor hd video shooting digic <i style=\"background-color: yellow\">4</i> image processor live view mode self cleaning sensor unit dust delete data detection <i style=\"background-color: yellow\">anti-reflective</i> and <i style=\"background-color: yellow\">scratch-resistant</i> coatings lens not included black finish<br>canon eos 5d mark ii digital slr camera 2764b003 <i style=\"background-color: yellow\">21.1</i> megapixel <i style=\"background-color: yellow\">16:9</i> <i style=\"background-color: yellow\">3</i> ' active matrix tft color lcd</td>\n",
       "    </tr>\n",
       "    <tr>\n",
       "      <th id=\"T_c6117_level0_row18\" class=\"row_heading level0 row18\" >18</th>\n",
       "      <td id=\"T_c6117_row18_col0\" class=\"data row18 col0\" >omnimount <i style=\"background-color: yellow\">cmk</i> white wall cable management kit <i style=\"background-color: yellow\">cmkmini</i> omnimount <i style=\"background-color: yellow\">cmk</i> white wall cable management kit <i style=\"background-color: yellow\">cmkmini</i> <i style=\"background-color: yellow\">organize</i> and <i style=\"background-color: yellow\">hide</i> cables and wires <i style=\"background-color: yellow\">able</i> to cut and <i style=\"background-color: yellow\">paint</i> to match any wall white finish<br>omnimount <i style=\"background-color: yellow\">cmk-mini</i> mini wall mounted cable management system <i style=\"background-color: yellow\"></i></td>\n",
       "    </tr>\n",
       "    <tr>\n",
       "      <th id=\"T_c6117_level0_row19\" class=\"row_heading level0 row19\" >19</th>\n",
       "      <td id=\"T_c6117_row19_col0\" class=\"data row19 col0\" >sanus center channel speaker mount black finish vmcc1b sanus center channel speaker mount vmcc1b works with sanus models vmsa , vmaa18 , vmaa26 , vmdd26 and vmcm1 easy to install mounting hardware included black finish<br>sanus center channel speaker mount vmcc1b steel</td>\n",
       "    </tr>\n",
       "  </tbody>\n",
       "</table>\n"
      ],
      "text/plain": [
       "<pandas.io.formats.style.Styler at 0x7f741fe84e50>"
      ]
     },
     "metadata": {},
     "output_type": "display_data"
    }
   ],
   "source": [
    "from IPython.display import display\n",
    "\n",
    "display(show_with_contrast(mislabeled[mislabeled['label'] == 1]))"
   ]
  },
  {
   "cell_type": "code",
   "execution_count": 11,
   "metadata": {
    "pycharm": {
     "name": "#%%\n"
    }
   },
   "outputs": [
    {
     "data": {
      "text/html": [
       "<style type=\"text/css\">\n",
       "#T_33a1d_row0_col0, #T_33a1d_row2_col0, #T_33a1d_row4_col0, #T_33a1d_row6_col0, #T_33a1d_row8_col0, #T_33a1d_row10_col0, #T_33a1d_row12_col0, #T_33a1d_row14_col0, #T_33a1d_row16_col0, #T_33a1d_row18_col0 {\n",
       "  text-align: left;\n",
       "  white-space: pre-wrap;\n",
       "  background-color: light-blue;\n",
       "  background-color: black;\n",
       "}\n",
       "#T_33a1d_row1_col0, #T_33a1d_row3_col0, #T_33a1d_row5_col0, #T_33a1d_row7_col0, #T_33a1d_row9_col0, #T_33a1d_row11_col0, #T_33a1d_row13_col0, #T_33a1d_row15_col0, #T_33a1d_row17_col0, #T_33a1d_row19_col0 {\n",
       "  text-align: left;\n",
       "  white-space: pre-wrap;\n",
       "  background-color: light-blue;\n",
       "  background-color: light_blue;\n",
       "}\n",
       "</style>\n",
       "<table id=\"T_33a1d\">\n",
       "  <thead>\n",
       "    <tr>\n",
       "      <th class=\"blank level0\" >&nbsp;</th>\n",
       "      <th id=\"T_33a1d_level0_col0\" class=\"col_heading level0 col0\" >comparison</th>\n",
       "    </tr>\n",
       "  </thead>\n",
       "  <tbody>\n",
       "    <tr>\n",
       "      <th id=\"T_33a1d_level0_row0\" class=\"row_heading level0 row0\" >0</th>\n",
       "      <td id=\"T_33a1d_row0_col0\" class=\"data row0 col0\" >samsung l200 black <i style=\"background-color: yellow\">10.2</i> megapixel digital camera ecl200zbba samsung l200 black <i style=\"background-color: yellow\">10.2</i> megapixel digital camera ecl200zbba <i style=\"background-color: yellow\">2.5</i> ' intelligent lcd screen <i style=\"background-color: yellow\">1/2</i> <i style=\"background-color: yellow\">.33</i> ' high resolution ccd sensor 3x optical zoom lens dis ( digital image stabilization ) face detection function black finish<br>samsung l200 digital camera black <i style=\"background-color: yellow\">ec-l200zbba</i> / us samsung l200 10 megapixel digital camera with <i style=\"background-color: yellow\">2.5</i> lcd , 3x optical zoom , digital image stabilization , face detection function black</td>\n",
       "    </tr>\n",
       "    <tr>\n",
       "      <th id=\"T_33a1d_level0_row1\" class=\"row_heading level0 row1\" >1</th>\n",
       "      <td id=\"T_33a1d_row1_col0\" class=\"data row1 col0\" >olympus <i style=\"background-color: yellow\">evolt-420</i> 10 megapixel digital slr camera with <i style=\"background-color: yellow\">14-42mm</i> lens in black evolte420kit olympus <i style=\"background-color: yellow\">evolt-420</i> 10 megapixel digital slr camera with <i style=\"background-color: yellow\">14-42mm</i> lens in black evolte420kit <i style=\"background-color: yellow\">on-screen</i> autofocus face detection shadow adjustment digital image stabilization dust reduction system <i style=\"background-color: yellow\">10-megapixel</i> <i style=\"background-color: yellow\">2.7</i> ' hypercrystal ii lcd <i style=\"background-color: yellow\">in-camera</i> panorama mode perfect shot preview includes ed <i style=\"background-color: yellow\">14-42mm</i> f3 <i style=\"background-color: yellow\">.5</i> / <i style=\"background-color: yellow\">5.6</i> zuiko digital zoom lens black finish<br>olympus evolt <i style=\"background-color: yellow\">e-420</i> digital slr camera with 14 42mm <i style=\"background-color: yellow\">f/3</i> <i style=\"background-color: yellow\">.5</i> - <i style=\"background-color: yellow\">f/5</i> <i style=\"background-color: yellow\">.6</i> zuiko digital zoom lens black 262081 olympus evolt <i style=\"background-color: yellow\">e-420</i> 10 megapixel digital slr camera with <i style=\"background-color: yellow\">14-42mm</i> outfit , autofocus , live view , face detection & dust reduction</td>\n",
       "    </tr>\n",
       "    <tr>\n",
       "      <th id=\"T_33a1d_level0_row2\" class=\"row_heading level0 row2\" >2</th>\n",
       "      <td id=\"T_33a1d_row2_col0\" class=\"data row2 col0\" >canon silver powershot digital camera sd880is canon silver powershot digital camera sd880is 10 megapixel 4x optical zoom optical image stabilizer <i style=\"background-color: yellow\">3.0</i> ' purecolor lcd ii digic <i style=\"background-color: yellow\">4</i> image processor face detection <i style=\"background-color: yellow\">self-timer</i> <i style=\"background-color: yellow\">red-eye</i> correction 19 shooting modes <i style=\"background-color: yellow\">print/share</i> button silver finish<br>canon powershot sd880 is digital camera silver 3197b001 canon powershot sd880 is 10 megapixel digital camera <i style=\"background-color: yellow\">w</i> / ua lens , 4x optical zoom , 28mm wide lens , optical image stabilizer , & purecolor ii <i style=\"background-color: yellow\">3</i> ' lcd silver</td>\n",
       "    </tr>\n",
       "    <tr>\n",
       "      <th id=\"T_33a1d_level0_row3\" class=\"row_heading level0 row3\" >3</th>\n",
       "      <td id=\"T_33a1d_row3_col0\" class=\"data row3 col0\" >canon deluxe grey leather case 2349b001 canon deluxe grey leather case 2349b001 genuine leather case designed for the powershot sd770 is , sd1100 and sd1000 grey finish<br>canon <i style=\"background-color: yellow\">psc-1000</i> <i style=\"background-color: yellow\">semi-hard</i> leather case 2349b001 canon <i style=\"background-color: yellow\">psc-1000</i> deluxe grey leather case</td>\n",
       "    </tr>\n",
       "    <tr>\n",
       "      <th id=\"T_33a1d_level0_row4\" class=\"row_heading level0 row4\" >4</th>\n",
       "      <td id=\"T_33a1d_row4_col0\" class=\"data row4 col0\" >samsung 40 ' series <i style=\"background-color: yellow\">6</i> lcd black flat panel hdtv ln40a650 samsung 40 ' series <i style=\"background-color: yellow\">6</i> lcd black flat panel hdtv ln40a650 full 1080p high definition resolution <i style=\"background-color: yellow\">16:9</i> widescreen aspect ratio <i style=\"background-color: yellow\">50,000:1</i> dynamic contrast ratio 4ms response time and auto motion plus 120hz technology srs trusurround xt audio <i style=\"background-color: yellow\">built-in</i> digital tuner ( <i style=\"background-color: yellow\">atsc/clear</i> qam ) <i style=\"background-color: yellow\">picture-in-picture</i> auto volume leveler <i style=\"background-color: yellow\">4</i> hdmi slots swivel stand piano black with hint amber finish<br>samsung ln40a650 40 ' lcd tv samsung ln40a650 40 ' 1080p lcd hdtv <i style=\"background-color: yellow\">50,000:1</i> dynamic contrast ratio 120hz 4ms response time</td>\n",
       "    </tr>\n",
       "    <tr>\n",
       "      <th id=\"T_33a1d_level0_row5\" class=\"row_heading level0 row5\" >5</th>\n",
       "      <td id=\"T_33a1d_row5_col0\" class=\"data row5 col0\" >toshiba 42 ' regza theaterwide black flat panel lcd hdtv 42rv535u toshiba 42 ' regza theaterwide black flat panel lcd hdtv 42rv535u 1080p full hd cinespeed display <i style=\"background-color: yellow\">14-bit</i> pixelpure 4g video processor <i style=\"background-color: yellow\">4</i> hdmi inputs dynalight dynamic backlight control <i style=\"background-color: yellow\">atsc/qam/ntsc</i> tuner color temperature control colormaster color control black finish<br>toshiba 42rv535u 42 ' widescreen 1080p lcd hdtv <i style=\"background-color: yellow\">w</i> / cinespeed piano black <i style=\"background-color: yellow\"></i></td>\n",
       "    </tr>\n",
       "    <tr>\n",
       "      <th id=\"T_33a1d_level0_row6\" class=\"row_heading level0 row6\" >6</th>\n",
       "      <td id=\"T_33a1d_row6_col0\" class=\"data row6 col0\" >belkin neoprene <i style=\"background-color: yellow\">sleeve</i> for macbook air <i style=\"background-color: yellow\">f8n065blk</i> belkin neoprene <i style=\"background-color: yellow\">sleeve</i> for macbook air <i style=\"background-color: yellow\">f8n065blk</i> slim and lightweight high quality neoprene protective case <i style=\"background-color: yellow\">asymmetrical</i> <i style=\"background-color: yellow\">zipper</i> black finish<br>belkin neoprene <i style=\"background-color: yellow\">sleeve</i> for macbook air neoprene black <i style=\"background-color: yellow\"></i></td>\n",
       "    </tr>\n",
       "    <tr>\n",
       "      <th id=\"T_33a1d_level0_row7\" class=\"row_heading level0 row7\" >7</th>\n",
       "      <td id=\"T_33a1d_row7_col0\" class=\"data row7 col0\" >samsung 46 ' series <i style=\"background-color: yellow\">5</i> lcd black flat panel hdtv ln46a550 samsung 46 ' series <i style=\"background-color: yellow\">5</i> lcd black flat panel hdtv ln46a550 full 1080p high definition resolution <i style=\"background-color: yellow\">16:9</i> widescreen aspect ratio <i style=\"background-color: yellow\">30,000:1</i> dynamic contrast ratio 5ms response time srs trusurround xt audio <i style=\"background-color: yellow\">built-in</i> digital tuner ( <i style=\"background-color: yellow\">atsc/clear</i> qam ) <i style=\"background-color: yellow\">picture-in-picture</i> sound leveler <i style=\"background-color: yellow\">3</i> hdmi slots swivel stand black finish<br>samsung ln46a550 46 ' lcd tv samsung ln46a550 46 ' widescreen 1080p lcd hdtv <i style=\"background-color: yellow\">30,000:1</i> dynamic contrast ratio 5ms response time piano black</td>\n",
       "    </tr>\n",
       "    <tr>\n",
       "      <th id=\"T_33a1d_level0_row8\" class=\"row_heading level0 row8\" >8</th>\n",
       "      <td id=\"T_33a1d_row8_col0\" class=\"data row8 col0\" >lg black freestanding electric range lre30757bk lg black freestanding electric range lre30757bk <i style=\"background-color: yellow\">5.6</i> cu . <i style=\"background-color: yellow\">ft.</i> capacity dual convection <i style=\"background-color: yellow\">self-cleaning</i> touch controls ceramic cooktop wideview window warming drawer interior oven light black finish<br>lg <i style=\"background-color: yellow\">5.6</i> <i style=\"background-color: yellow\">cu.ft</i> . freestanding electric range <i style=\"background-color: yellow\"></i></td>\n",
       "    </tr>\n",
       "    <tr>\n",
       "      <th id=\"T_33a1d_level0_row9\" class=\"row_heading level0 row9\" >9</th>\n",
       "      <td id=\"T_33a1d_row9_col0\" class=\"data row9 col0\" >sony <i style=\"background-color: yellow\">lcs-twa/r</i> red soft leather carrying case lcstwar sony <i style=\"background-color: yellow\">lcs-twa/r</i> red soft leather carrying case lcstwar genuine leather construction compatible with <i style=\"background-color: yellow\">cyber-shot</i> <i style=\"background-color: yellow\">w</i> and <i style=\"background-color: yellow\">t</i> series digital cameras integrated belt loop and magnetic closure red finish<br>sony <i style=\"background-color: yellow\">lcs-twa/r</i> <i style=\"background-color: yellow\">cyber-shot</i> camera case top loading leather red</td>\n",
       "    </tr>\n",
       "    <tr>\n",
       "      <th id=\"T_33a1d_level0_row10\" class=\"row_heading level0 row10\" >10</th>\n",
       "      <td id=\"T_33a1d_row10_col0\" class=\"data row10 col0\" >samsung 22 ' white flat panel lcd hdtv ln22a451 samsung 22 ' white flat panel series <i style=\"background-color: yellow\">4</i> lcd hdtv ln22a451 1680 <i style=\"background-color: yellow\">x</i> 1050 resolution <i style=\"background-color: yellow\">3000:1</i> contrast ratio srs trusurround xt cold cathode fluorescent lamp ( ccfl ) 8ms response time hidden bottom speakers pc compatible white finish<br>samsung <i style=\"background-color: yellow\">4</i> series ln22a451 22 ' lcd tv samsung ln22a451 22 ' widescreen lcd hdtv <i style=\"background-color: yellow\">3,000:1</i> dynamic contrast ratio 8ms response time white</td>\n",
       "    </tr>\n",
       "    <tr>\n",
       "      <th id=\"T_33a1d_level0_row11\" class=\"row_heading level0 row11\" >11</th>\n",
       "      <td id=\"T_33a1d_row11_col0\" class=\"data row11 col0\" >lg 14 ' washer and dryer red pedestal with drawer <i style=\"background-color: yellow\">wdp3r</i> lg 14 ' washer and dryer red pedestal with drawer <i style=\"background-color: yellow\">wdp3r</i> each drawer has storage for laundry <i style=\"background-color: yellow\">bottles</i> , <i style=\"background-color: yellow\">boxes</i> and more provides easy access to front loading doors by <i style=\"background-color: yellow\">raising</i> the washer and dryer by 14 ' <i style=\"background-color: yellow\">minimizes</i> <i style=\"background-color: yellow\">bending</i> and <i style=\"background-color: yellow\">stooping</i> at doors red finish<br>lg electronics <i style=\"background-color: yellow\">wdp3</i> laundry pedestal with drawer - <i style=\"background-color: yellow\">w</i> / <i style=\"background-color: yellow\">b</i> / <i style=\"background-color: yellow\">s</i> / <i style=\"background-color: yellow\">n</i> <i style=\"background-color: yellow\">wdp3r</i> <i style=\"background-color: yellow\">wild</i> cherry <i style=\"background-color: yellow\"></i></td>\n",
       "    </tr>\n",
       "    <tr>\n",
       "      <th id=\"T_33a1d_level0_row12\" class=\"row_heading level0 row12\" >12</th>\n",
       "      <td id=\"T_33a1d_row12_col0\" class=\"data row12 col0\" >sony digital photo printer paper 40 pack svmf40p sony digital photo printer paper 40 pack svmf40p <i style=\"background-color: yellow\">4</i> ' <i style=\"background-color: yellow\">x</i> <i style=\"background-color: yellow\">6</i> ' print paper with <i style=\"background-color: yellow\">snap-off</i> edges super coat <i style=\"background-color: yellow\">2</i> protective lamination water damage and fingerprint resistant prints 40 sheets of paper and print ribbon for dppf series digital photo printers only<br>sony print paper svmf40p <i style=\"background-color: yellow\">svm-f40p</i> <i style=\"background-color: yellow\">4</i> ` x6 ' photo paper <i style=\"background-color: yellow\">40-count</i></td>\n",
       "    </tr>\n",
       "    <tr>\n",
       "      <th id=\"T_33a1d_level0_row13\" class=\"row_heading level0 row13\" >13</th>\n",
       "      <td id=\"T_33a1d_row13_col0\" class=\"data row13 col0\" >canon powershot silver digital camera sx110is canon powershot sx110 is silver digital camera sx110is <i style=\"background-color: yellow\">9.0</i> megapixel 10x optical zoom lens with optical image stabilizer technology <i style=\"background-color: yellow\">3.0</i> ' lcd display digic iii image processor face detection motion detection 20 shooting modes including <i style=\"background-color: yellow\">8</i> special scene modes <i style=\"background-color: yellow\">red-eye</i> correction automatic iso settings <i style=\"background-color: yellow\">print-share</i> button power by aa batteries for convenient silver finish<br>canon powershot sx110 is digital camera silver 2666b001 canon powershot sx110 is <i style=\"background-color: yellow\">9</i> megapixel digital camera <i style=\"background-color: yellow\">w</i> / 10x optical zoom , <i style=\"background-color: yellow\">3</i> ' lcd , iso 1600 , optical image stabilizer silver</td>\n",
       "    </tr>\n",
       "    <tr>\n",
       "      <th id=\"T_33a1d_level0_row14\" class=\"row_heading level0 row14\" >14</th>\n",
       "      <td id=\"T_33a1d_row14_col0\" class=\"data row14 col0\" >speck seethru purple hard shell case for 15 ' macbook mb15purseev2 speck seethru purple hard shell case for 15 ' macbook mb15purseev2 translucent hard plastic shell gives great protection full access to all controls rubber feet for added support purple finish<br>speck products seethru case for apple 15 ' macbook pro <i style=\"background-color: yellow\">mb15-pur-see-v2</i> plastic purple</td>\n",
       "    </tr>\n",
       "    <tr>\n",
       "      <th id=\"T_33a1d_level0_row15\" class=\"row_heading level0 row15\" >15</th>\n",
       "      <td id=\"T_33a1d_row15_col0\" class=\"data row15 col0\" >speck seethru pink hard shell case for 13 ' macbook mb13pnkseev2 speck seethru pink hard shell case for 13 ' macbook mb13pnkseev2 translucent hard plastic shell gives great protection full access to all controls rubber feet for added support pink finish<br>speck products seethru case for apple 13 ' macbook <i style=\"background-color: yellow\">mb13-pnk-see-v2</i> plastic pink</td>\n",
       "    </tr>\n",
       "    <tr>\n",
       "      <th id=\"T_33a1d_level0_row16\" class=\"row_heading level0 row16\" >16</th>\n",
       "      <td id=\"T_33a1d_row16_col0\" class=\"data row16 col0\" >kenwood <i style=\"background-color: yellow\">6-disc</i> cd changer kdcc669 kenwood <i style=\"background-color: yellow\">6-disc</i> cd changer kdcc669 <i style=\"background-color: yellow\">3-angle</i> mounting cd , <i style=\"background-color: yellow\">cd-r</i> and <i style=\"background-color: yellow\">cd-rw</i> playback <i style=\"background-color: yellow\">anti-vibration</i> disc transport compatible with all kenwood units with changer control<br>kenwood <i style=\"background-color: yellow\">kdc-c669</i> car cd changer kdcc669 <i style=\"background-color: yellow\">cd-rw</i> <i style=\"background-color: yellow\">cd-text</i></td>\n",
       "    </tr>\n",
       "    <tr>\n",
       "      <th id=\"T_33a1d_level0_row17\" class=\"row_heading level0 row17\" >17</th>\n",
       "      <td id=\"T_33a1d_row17_col0\" class=\"data row17 col0\" >peerless 37 ' 60 ' flat panel tv black wall mount st660p peerless 37 ' 60 ' flat panel tv black wall mount st660p plasma flat panel tvs 200 lbs load capacity up to 15 degrees of forward tilt and <i style=\"background-color: yellow\">-5</i> degrees backward tilt black finish<br>peerless universal tilt wall mount peerless smart mount st660p universal tilt wall mount for 37 ' to 60 ' screens ( black ) up to 200lbs</td>\n",
       "    </tr>\n",
       "    <tr>\n",
       "      <th id=\"T_33a1d_level0_row18\" class=\"row_heading level0 row18\" >18</th>\n",
       "      <td id=\"T_33a1d_row18_col0\" class=\"data row18 col0\" >onkyo thx ultra2 certified <i style=\"background-color: yellow\">7.1</i> channel home theater black receiver txnr906b onkyo thx ultra2 certified <i style=\"background-color: yellow\">7.1</i> channel home theater black receiver txnr906b 145w <i style=\"background-color: yellow\">x</i> <i style=\"background-color: yellow\">7</i> hdmi v1 <i style=\"background-color: yellow\">.3</i> all discrete circuitry absolute ground plate optimum gain volume audyssey dynamic eq <i style=\"background-color: yellow\">non-scaling</i> configuration toroidal transformer dolby digital plus , dolbyl truehd , <i style=\"background-color: yellow\">dts-hd</i> master audio , <i style=\"background-color: yellow\">dts-hd</i> high resolution audio decoder music optimizer hdmi deep color capable ( 36bit ) 1080p upscaling via hdmi analog to hdmi upconversion permanent memory storage <i style=\"background-color: yellow\">back-lit</i> remote black finish<br>onkyo <i style=\"background-color: yellow\">tx-nr906</i> <i style=\"background-color: yellow\">a/v</i> receiver txnr906b thx ultra <i style=\"background-color: yellow\">2</i> , dolby digital plus , dolby truehd , <i style=\"background-color: yellow\">dts-hd</i> , neural surroundfm , am</td>\n",
       "    </tr>\n",
       "    <tr>\n",
       "      <th id=\"T_33a1d_level0_row19\" class=\"row_heading level0 row19\" >19</th>\n",
       "      <td id=\"T_33a1d_row19_col0\" class=\"data row19 col0\" >sony alpha dslr black camera body with <i style=\"background-color: yellow\">18-70mm</i> zoom lens dslra300k sony alpha dslr black camera body with <i style=\"background-color: yellow\">18-70mm</i> zoom lens dslra300k <i style=\"background-color: yellow\">10.2</i> mp super had ccd tiltable <i style=\"background-color: yellow\">2.7</i> clear photo lcd plus screen smart teleconverter 2x zoom expanded iso sensitivity super steadyshot <i style=\"background-color: yellow\">in-camera</i> image stabilization <i style=\"background-color: yellow\">anti-dust</i> technology <i style=\"background-color: yellow\">9-point</i> center cross af sensor index and slide show display black finish<br>sony alpha <i style=\"background-color: yellow\">dslr-a300</i> digital slr camera with <i style=\"background-color: yellow\">18-70mm</i> zoom lens black dslra300k <i style=\"background-color: yellow\">10.2</i> megapixel <i style=\"background-color: yellow\">3.9</i> <i style=\"background-color: yellow\">x</i> optical zoom <i style=\"background-color: yellow\">2.7</i> ' active matrix tft color lcd</td>\n",
       "    </tr>\n",
       "  </tbody>\n",
       "</table>\n"
      ],
      "text/plain": [
       "<pandas.io.formats.style.Styler at 0x7f74200456d0>"
      ]
     },
     "metadata": {},
     "output_type": "display_data"
    }
   ],
   "source": [
    "display(show_with_contrast(correct[correct['label'] == 1]))"
   ]
  },
  {
   "cell_type": "code",
   "execution_count": 7,
   "metadata": {
    "pycharm": {
     "name": "#%%\n"
    }
   },
   "outputs": [
    {
     "data": {
      "text/html": [
       "<div>\n",
       "<style scoped>\n",
       "    .dataframe tbody tr th:only-of-type {\n",
       "        vertical-align: middle;\n",
       "    }\n",
       "\n",
       "    .dataframe tbody tr th {\n",
       "        vertical-align: top;\n",
       "    }\n",
       "\n",
       "    .dataframe thead th {\n",
       "        text-align: right;\n",
       "    }\n",
       "</style>\n",
       "<table border=\"1\" class=\"dataframe\">\n",
       "  <thead>\n",
       "    <tr style=\"text-align: right;\">\n",
       "      <th></th>\n",
       "      <th>Unnamed: 0</th>\n",
       "      <th>ltext</th>\n",
       "      <th>rtext</th>\n",
       "      <th>label</th>\n",
       "    </tr>\n",
       "  </thead>\n",
       "  <tbody>\n",
       "    <tr>\n",
       "      <th>0</th>\n",
       "      <td>0</td>\n",
       "      <td>lg 24 ' lds4821ww semi integrated built in white dishwasher lds4821wh lg 24 ' lds4821ww semi integrated built in white dishwasher lds4821wh xl tall tub cleans up to 16 place settings at once adjustable upper rack lodecibel quiet operation senseclean wash system 4 wash cycles with 3 spray arms multi-level water direction slim direct drive motor semi-integrated electronic control panel white finish</td>\n",
       "      <td>lg ldf6920bb fully integrated dishwasher</td>\n",
       "      <td>0</td>\n",
       "    </tr>\n",
       "    <tr>\n",
       "      <th>1</th>\n",
       "      <td>1</td>\n",
       "      <td>lg 24 ' lds4821bb semi integrated built in black dishwasher lds4821bk lg 24 ' lds4821bb semi integrated built in black dishwasher lds4821bk xl tall tub cleans up to 16 place settings at once adjustable upper rack lodecibel quiet operation senseclean wash system 4 wash cycles with 3 spray arms multi-level water direction slim direct drive motor semi-integrated electronic control panel black finish</td>\n",
       "      <td>lg ldf6920bb fully integrated dishwasher</td>\n",
       "      <td>0</td>\n",
       "    </tr>\n",
       "    <tr>\n",
       "      <th>2</th>\n",
       "      <td>2</td>\n",
       "      <td>lg 24 ' ldf6920bb fully integrated built in black dishwasher ldf6920bk lg 24 ' ldf6920bb fully integrated built in black dishwasher ldf6920bk xl tall tub cleans up to 16 place settings at once adjustable upper rack lodecibel quiet operation senseclean wash system 5 wash cycles with 3 spray arms multi-level water direction slim direct drive motor fully integrated electronic control panel black finish</td>\n",
       "      <td>lg ldf6920bb fully integrated dishwasher</td>\n",
       "      <td>1</td>\n",
       "    </tr>\n",
       "    <tr>\n",
       "      <th>3</th>\n",
       "      <td>3</td>\n",
       "      <td>lg 24 ' ldf6920ww fully integrated built in white dishwasher ldf6920wh lg 24 ' ldf6920ww fully integrated built in white dishwasher ldf6920wh xl tall tub cleans up to 16 place settings at once adjustable upper rack lodecibel quiet operation senseclean wash system 5 wash cycles with 3 spray arms multi-level water direction slim direct drive motor fully integrated electronic control panel white finish</td>\n",
       "      <td>lg ldf6920bb fully integrated dishwasher</td>\n",
       "      <td>0</td>\n",
       "    </tr>\n",
       "    <tr>\n",
       "      <th>4</th>\n",
       "      <td>4</td>\n",
       "      <td>lg 24 ' ldf6920st fully integrated built in stainless steel dishwasher ldf6920ss lg 24 ' ldf6920st fully integrated built in stainless steel dishwasher ldf6920ss xl tall tub cleans up to 16 place settings at once adjustable upper rack lodecibel quiet operation senseclean wash system 5 wash cycles with 3 spray arms multi-level water direction slim direct drive motor fully integrated electronic control panel stainless steel finish</td>\n",
       "      <td>lg ldf6920bb fully integrated dishwasher</td>\n",
       "      <td>0</td>\n",
       "    </tr>\n",
       "    <tr>\n",
       "      <th>5</th>\n",
       "      <td>5</td>\n",
       "      <td>lg 24 ' lds4821ww semi integrated built in white dishwasher lds4821wh lg 24 ' lds4821ww semi integrated built in white dishwasher lds4821wh xl tall tub cleans up to 16 place settings at once adjustable upper rack lodecibel quiet operation senseclean wash system 4 wash cycles with 3 spray arms multi-level water direction slim direct drive motor semi-integrated electronic control panel white finish</td>\n",
       "      <td>frigidaire fdb130rgs 24 ' built-in dishwasher ( white )</td>\n",
       "      <td>0</td>\n",
       "    </tr>\n",
       "    <tr>\n",
       "      <th>6</th>\n",
       "      <td>6</td>\n",
       "      <td>whirlpool 24 ' built-in dishwasher du1100ss whirlpool 24 ' built-in dishwasher du1100ss 14-five piece place setting super capacity tub 5 level wash temperature and pressure sensors 4 automatic cycles soak and scour option anyware plus silverware basket hard food disposer with self-cleaning filter quiet partner ii sound package energy star qualified black-on-stainless finish</td>\n",
       "      <td>frigidaire fdb130rgs 24 ' built-in dishwasher ( white )</td>\n",
       "      <td>0</td>\n",
       "    </tr>\n",
       "    <tr>\n",
       "      <th>7</th>\n",
       "      <td>7</td>\n",
       "      <td>frigidaire professional 24 ' pld4555rfc built-in stainless steel dishwasher pld4555ss frigidaire professional 24 ' pld4555rfc built-in stainless steel dishwasher pld4555ss granitegrey interior idry intelligent saharadry system silentdesign sound insulation package 12 easy clean electronic touchpads digital display 5-level precision direct wash system with aquasurge and variable washing pressure smart soil sensor stainless steel finish</td>\n",
       "      <td>frigidaire fdb130rgs 24 ' built-in dishwasher ( white )</td>\n",
       "      <td>0</td>\n",
       "    </tr>\n",
       "    <tr>\n",
       "      <th>8</th>\n",
       "      <td>8</td>\n",
       "      <td>frigidaire gld4355rfb gallery speedclean 24 ' black dishwasher gld4355bk frigidaire gld4355rfb gallery speedclean 24 ' black dishwasher gld4355bk 5-level precision direct wash system variable washing pressure power dry drying system granitegrey interior stainless steel food disposer and self cleaning filter 12 easy clean electronic touchpads with digital display smart soil sensor ultraquiet plus sound insulation package black finish</td>\n",
       "      <td>frigidaire fdb130rgs 24 ' built-in dishwasher ( white )</td>\n",
       "      <td>0</td>\n",
       "    </tr>\n",
       "    <tr>\n",
       "      <th>9</th>\n",
       "      <td>9</td>\n",
       "      <td>ge gsd4000nww white built-in dishwasher gsd4000wh ge gsd4000nww white built-in dishwasher gsd4000wh 5-level powerscrub wash system with powershower electronic controls 100 percent water filtration with extrafine filter 2/4/8-hour delay start china/crystal cycle white finish</td>\n",
       "      <td>frigidaire fdb130rgs 24 ' built-in dishwasher ( white )</td>\n",
       "      <td>0</td>\n",
       "    </tr>\n",
       "  </tbody>\n",
       "</table>\n",
       "</div>"
      ],
      "text/plain": [
       "   Unnamed: 0  \\\n",
       "0           0   \n",
       "1           1   \n",
       "2           2   \n",
       "3           3   \n",
       "4           4   \n",
       "5           5   \n",
       "6           6   \n",
       "7           7   \n",
       "8           8   \n",
       "9           9   \n",
       "\n",
       "                                                                                                                                                                                                                                                                                                                                                                                                                                                    ltext  \\\n",
       "0                                         lg 24 ' lds4821ww semi integrated built in white dishwasher lds4821wh lg 24 ' lds4821ww semi integrated built in white dishwasher lds4821wh xl tall tub cleans up to 16 place settings at once adjustable upper rack lodecibel quiet operation senseclean wash system 4 wash cycles with 3 spray arms multi-level water direction slim direct drive motor semi-integrated electronic control panel white finish   \n",
       "1                                         lg 24 ' lds4821bb semi integrated built in black dishwasher lds4821bk lg 24 ' lds4821bb semi integrated built in black dishwasher lds4821bk xl tall tub cleans up to 16 place settings at once adjustable upper rack lodecibel quiet operation senseclean wash system 4 wash cycles with 3 spray arms multi-level water direction slim direct drive motor semi-integrated electronic control panel black finish   \n",
       "2                                      lg 24 ' ldf6920bb fully integrated built in black dishwasher ldf6920bk lg 24 ' ldf6920bb fully integrated built in black dishwasher ldf6920bk xl tall tub cleans up to 16 place settings at once adjustable upper rack lodecibel quiet operation senseclean wash system 5 wash cycles with 3 spray arms multi-level water direction slim direct drive motor fully integrated electronic control panel black finish   \n",
       "3                                      lg 24 ' ldf6920ww fully integrated built in white dishwasher ldf6920wh lg 24 ' ldf6920ww fully integrated built in white dishwasher ldf6920wh xl tall tub cleans up to 16 place settings at once adjustable upper rack lodecibel quiet operation senseclean wash system 5 wash cycles with 3 spray arms multi-level water direction slim direct drive motor fully integrated electronic control panel white finish   \n",
       "4        lg 24 ' ldf6920st fully integrated built in stainless steel dishwasher ldf6920ss lg 24 ' ldf6920st fully integrated built in stainless steel dishwasher ldf6920ss xl tall tub cleans up to 16 place settings at once adjustable upper rack lodecibel quiet operation senseclean wash system 5 wash cycles with 3 spray arms multi-level water direction slim direct drive motor fully integrated electronic control panel stainless steel finish   \n",
       "5                                         lg 24 ' lds4821ww semi integrated built in white dishwasher lds4821wh lg 24 ' lds4821ww semi integrated built in white dishwasher lds4821wh xl tall tub cleans up to 16 place settings at once adjustable upper rack lodecibel quiet operation senseclean wash system 4 wash cycles with 3 spray arms multi-level water direction slim direct drive motor semi-integrated electronic control panel white finish   \n",
       "6                                                                whirlpool 24 ' built-in dishwasher du1100ss whirlpool 24 ' built-in dishwasher du1100ss 14-five piece place setting super capacity tub 5 level wash temperature and pressure sensors 4 automatic cycles soak and scour option anyware plus silverware basket hard food disposer with self-cleaning filter quiet partner ii sound package energy star qualified black-on-stainless finish   \n",
       "7  frigidaire professional 24 ' pld4555rfc built-in stainless steel dishwasher pld4555ss frigidaire professional 24 ' pld4555rfc built-in stainless steel dishwasher pld4555ss granitegrey interior idry intelligent saharadry system silentdesign sound insulation package 12 easy clean electronic touchpads digital display 5-level precision direct wash system with aquasurge and variable washing pressure smart soil sensor stainless steel finish   \n",
       "8    frigidaire gld4355rfb gallery speedclean 24 ' black dishwasher gld4355bk frigidaire gld4355rfb gallery speedclean 24 ' black dishwasher gld4355bk 5-level precision direct wash system variable washing pressure power dry drying system granitegrey interior stainless steel food disposer and self cleaning filter 12 easy clean electronic touchpads with digital display smart soil sensor ultraquiet plus sound insulation package black finish   \n",
       "9                                                                                                                                                                      ge gsd4000nww white built-in dishwasher gsd4000wh ge gsd4000nww white built-in dishwasher gsd4000wh 5-level powerscrub wash system with powershower electronic controls 100 percent water filtration with extrafine filter 2/4/8-hour delay start china/crystal cycle white finish   \n",
       "\n",
       "                                                      rtext  label  \n",
       "0                 lg ldf6920bb fully integrated dishwasher       0  \n",
       "1                 lg ldf6920bb fully integrated dishwasher       0  \n",
       "2                 lg ldf6920bb fully integrated dishwasher       1  \n",
       "3                 lg ldf6920bb fully integrated dishwasher       0  \n",
       "4                 lg ldf6920bb fully integrated dishwasher       0  \n",
       "5  frigidaire fdb130rgs 24 ' built-in dishwasher ( white )       0  \n",
       "6  frigidaire fdb130rgs 24 ' built-in dishwasher ( white )       0  \n",
       "7  frigidaire fdb130rgs 24 ' built-in dishwasher ( white )       0  \n",
       "8  frigidaire fdb130rgs 24 ' built-in dishwasher ( white )       0  \n",
       "9  frigidaire fdb130rgs 24 ' built-in dishwasher ( white )       0  "
      ]
     },
     "execution_count": 7,
     "metadata": {},
     "output_type": "execute_result"
    }
   ],
   "source": [
    "train_valid_df = pd.concat((train_df, valid_df))\n",
    "train_valid_df.head(10)"
   ]
  },
  {
   "cell_type": "code",
   "execution_count": 11,
   "metadata": {
    "pycharm": {
     "name": "#%%\n"
    }
   },
   "outputs": [],
   "source": [
    "train_valid_df['full_text'] = pd.Series(train_valid_df[['ltext', 'rtext']].values.tolist()).str.join(' ')\n",
    "test_df['full_text'] = pd.Series(test_df[['ltext', 'rtext']].values.tolist()).str.join(' ')"
   ]
  },
  {
   "cell_type": "code",
   "execution_count": 18,
   "metadata": {
    "pycharm": {
     "name": "#%%\n"
    }
   },
   "outputs": [
    {
     "name": "stdout",
     "output_type": "stream",
     "text": [
      "Stats for dataset: abt_buy\n",
      "Common words: 3549\n",
      "Only train: 1461\n",
      "Only test: 134\n",
      "Comparing on average 45.67118997912317 words on the left with 15.223903966597078 words on the right\n",
      "Stats for dataset: amazon_google\n",
      "Common words: 1146\n",
      "Only train: 921\n",
      "Only test: 79\n",
      "Comparing on average 6.96860008722198 words on the left with 6.829481029219363 words on the right\n",
      "Stats for dataset: wdc_computers_large\n",
      "Common words: 5004\n",
      "Only train: 12404\n",
      "Only test: 0\n",
      "Comparing on average 78.24727272727273 words on the left with 72.93 words on the right\n"
     ]
    }
   ],
   "source": [
    "from sklearn.feature_extraction.text import CountVectorizer\n",
    "from typing import Set\n",
    "import numpy as np\n",
    "\n",
    "def extract_words(df: pd.DataFrame, counter: CountVectorizer) -> Set[str]:\n",
    "    counter.fit(df['full_text'])\n",
    "    return set(counter.get_feature_names_out())\n",
    "\n",
    "def extract_average_word_count(df: pd.DataFrame, counter: CountVectorizer):\n",
    "    left_counts = counter.transform(df['ltext']).toarray().sum(axis=1)\n",
    "    right_counts = counter.transform(df['rtext']).toarray().sum(axis=1)\n",
    "\n",
    "    return np.average(left_counts), np.average(right_counts)\n",
    "\n",
    "def compute_word_stats(path: str) -> None:\n",
    "    train_df = pd.read_csv(os.path.join(path, 'train.csv'))\n",
    "    valid_df = pd.read_csv(os.path.join(path, 'valid.csv'))\n",
    "    test_df = pd.read_csv(os.path.join(path, 'test.csv'))\n",
    "\n",
    "    train_valid_df = pd.concat((train_df, valid_df))\n",
    "\n",
    "    train_valid_df['full_text'] = pd.Series(train_valid_df[['ltext', 'rtext']].values.tolist()).str.join(' ')\n",
    "    test_df['full_text'] = pd.Series(test_df[['ltext', 'rtext']].values.tolist()).str.join(' ')\n",
    "\n",
    "    counter = CountVectorizer(ngram_range=(1, 1), binary=False, min_df=2)\n",
    "    train_words = extract_words(train_valid_df, counter)\n",
    "    test_words = extract_words(test_df, counter)\n",
    "\n",
    "    left_average, right_average = extract_average_word_count(test_df, counter)\n",
    "\n",
    "    print(f'Stats for dataset: {path.split(\"/\")[-1]}')\n",
    "    print(f'Common words: {len(set.intersection(train_words, test_words))}')\n",
    "    print(f'Only train: {len(train_words - test_words)}')\n",
    "    print(f'Only test: {len(test_words - train_words)}')\n",
    "    print(f'Comparing on average {left_average} words on the left with {right_average} words on the right')\n",
    "\n",
    "\n",
    "compute_word_stats('data/processed/word_cooc/abt_buy')\n",
    "compute_word_stats('data/processed/word_cooc/amazon_google')\n",
    "compute_word_stats('data/processed/word_cooc/wdc_computers_large')\n"
   ]
  },
  {
   "cell_type": "code",
   "execution_count": 2,
   "metadata": {
    "pycharm": {
     "name": "#%%\n"
    }
   },
   "outputs": [
    {
     "name": "stdout",
     "output_type": "stream",
     "text": [
      "Skipping non sampled dataset: abt_buy\n",
      "==========================================================================\n",
      "Analyzing abt_buy_25\n",
      "Frozen f1 score: 0\n",
      "Ditto f1 score: 0.6666666666666666\n",
      "Unfreeze f1 score: 0\n",
      "Total number of pairs: 696\n",
      "Total number of offers: 448\n",
      "Total number of products: 347\n",
      "Total number of matching pairs: 97\n",
      "==========================================================================\n",
      "Analyzing abt_buy_50\n",
      "Frozen f1 score: 0\n",
      "Ditto f1 score: 0.6873614190687363\n",
      "Unfreeze f1 score: 0.7487179487179487\n",
      "Total number of pairs: 2051\n",
      "Total number of offers: 910\n",
      "Total number of products: 621\n",
      "Total number of matching pairs: 253\n",
      "==========================================================================\n",
      "Analyzing abt_buy_75\n",
      "Frozen f1 score: 0.6204620462046205\n",
      "Ditto f1 score: 0.7906976744186047\n",
      "Unfreeze f1 score: 0.8447837150127225\n",
      "Total number of pairs: 3789\n",
      "Total number of offers: 1361\n",
      "Total number of products: 840\n",
      "Total number of matching pairs: 432\n",
      "==========================================================================\n",
      "Skipping non sampled dataset: amazon_google\n",
      "==========================================================================\n",
      "Analyzing amazon_google_25\n",
      "Frozen f1 score: 0\n",
      "Ditto f1 score: 0.5931372549019608\n",
      "Unfreeze f1 score: 0.28378378378378377\n",
      "Total number of pairs: 970\n",
      "Total number of offers: 669\n",
      "Total number of products: 539\n",
      "Total number of matching pairs: 133\n",
      "==========================================================================\n",
      "Analyzing amazon_google_50\n",
      "Frozen f1 score: 0.5322128851540616\n",
      "Ditto f1 score: 0.6902286902286903\n",
      "Unfreeze f1 score: 0.7319148936170214\n",
      "Total number of pairs: 2495\n",
      "Total number of offers: 1302\n",
      "Total number of products: 991\n",
      "Total number of matching pairs: 300\n",
      "==========================================================================\n",
      "Analyzing amazon_google_75\n",
      "Frozen f1 score: 0.7546391752577318\n",
      "Ditto f1 score: 0.6876310272536688\n",
      "Unfreeze f1 score: 0.736\n",
      "Total number of pairs: 4667\n",
      "Total number of offers: 2029\n",
      "Total number of products: 1448\n",
      "Total number of matching pairs: 503\n",
      "==========================================================================\n",
      "Skipping non sampled dataset: wdc_computers_medium\n",
      "==========================================================================\n",
      "Analyzing wdc_computers_medium_25\n",
      "Frozen f1 score: 0.08306709265175719\n",
      "Ditto f1 score: 0.6862745098039216\n",
      "Unfreeze f1 score: 0.6775510204081634\n",
      "Total number of pairs: 1033\n",
      "Total number of offers: 1151\n",
      "Total number of products: 560\n",
      "Total number of matching pairs: 251\n",
      "==========================================================================\n",
      "Analyzing wdc_computers_medium_50\n",
      "Frozen f1 score: 0.8633879781420766\n",
      "Ditto f1 score: 0.7514285714285713\n",
      "Unfreeze f1 score: 0.8764044943820225\n",
      "Total number of pairs: 2568\n",
      "Total number of offers: 2147\n",
      "Total number of products: 694\n",
      "Total number of matching pairs: 603\n",
      "==========================================================================\n",
      "Analyzing wdc_computers_medium_75\n",
      "Frozen f1 score: 0.9449081803005008\n",
      "Ditto f1 score: 0.8154761904761905\n",
      "Unfreeze f1 score: 0.9427168576104744\n",
      "Total number of pairs: 4421\n",
      "Total number of offers: 2943\n",
      "Total number of products: 738\n",
      "Total number of matching pairs: 1006\n",
      "==========================================================================\n"
     ]
    }
   ],
   "source": [
    "from typing import Iterable\n",
    "from wandb.apis.public import Run\n",
    "import os\n",
    "import wandb\n",
    "\n",
    "interim_dir = '../data/interim/'\n",
    "processed_dir = '../data/processed/contrastive/'\n",
    "datasets = os.listdir(interim_dir)\n",
    "datasets = sorted(datasets)\n",
    "\n",
    "frozen_training_name = \"frozen_no-aug_batch-pt128_sample{sample}_{dataset}_train\"\n",
    "ditto_training_name = \"ditto_sample{sample}_{dataset}_\"\n",
    "unfreeze_training_name = \"unfreeze_no-aug_batch-pt128_sample{sample}_{dataset}_train_2\"\n",
    "\n",
    "client = wandb.Api()\n",
    "def extract_f1_score_for_name(run_name: str) -> float:\n",
    "    previous_runs: Iterable[Run] = client.runs(path=\"damianr13/master-thesis\", filters={\n",
    "        \"display_name\": run_name\n",
    "    }, order=\"-created_at\")\n",
    "    target_run = next(iter(previous_runs))\n",
    "    return target_run.summary['f1']\n",
    "\n",
    "data_for_samples = {}\n",
    "for d in datasets:\n",
    "    segments = d.split('_')\n",
    "    if not segments[-1].isnumeric():\n",
    "        print(f\"Skipping non sampled dataset: {d}\")\n",
    "        print('==========================================================================')\n",
    "        continue\n",
    "\n",
    "    train_path = os.path.join(interim_dir, d, 'train.csv')\n",
    "    pretrain_path = os.path.join(processed_dir, d, 'pretrain-train.csv')\n",
    "    train_set = pd.read_csv(train_path)\n",
    "    try:\n",
    "        pretrain_set = pd.read_csv(pretrain_path)\n",
    "    except FileNotFoundError:\n",
    "        continue\n",
    "\n",
    "    sample = int(segments[-1])\n",
    "    dataset = \"-\".join(segments[:-1])\n",
    "\n",
    "    print(f'Analyzing {d}')\n",
    "    data_for_samples[d] = {}\n",
    "    try:\n",
    "        frozen_f1 = extract_f1_score_for_name(frozen_training_name.format(sample=sample, dataset=dataset))\n",
    "        print(f'Frozen f1 score: {frozen_f1}')\n",
    "        data_for_samples[d]['frozen'] = frozen_f1\n",
    "\n",
    "        ditto_f1 = extract_f1_score_for_name(ditto_training_name.format(sample=sample, dataset=dataset))\n",
    "        print(f'Ditto f1 score: {ditto_f1}')\n",
    "        data_for_samples[d]['ditto'] = ditto_f1\n",
    "\n",
    "        unfreeze_f1 = extract_f1_score_for_name(unfreeze_training_name.format(sample=sample, dataset=dataset))\n",
    "        print(f'Unfreeze f1 score: {unfreeze_f1}')\n",
    "        data_for_samples[d]['unfreeze'] = unfreeze_f1\n",
    "    except StopIteration:\n",
    "        print(f'Missing f1 value for {d}')\n",
    "\n",
    "    print(f'Total number of pairs: {len(train_set)}')\n",
    "    data_for_samples[d]['pairs'] = len(train_set)\n",
    "    print(f'Total number of offers: {len(pretrain_set)}')\n",
    "    data_for_samples[d]['offers'] = len(pretrain_set)\n",
    "    print(f'Total number of products: {pretrain_set[\"cluster_id\"].nunique()}')\n",
    "    data_for_samples[d]['products'] = pretrain_set[\"cluster_id\"].nunique()\n",
    "    print(f'Total number of matching pairs: {len(train_set[train_set[\"label\"] == 1])}')\n",
    "    data_for_samples[d]['positives'] = len(train_set[train_set[\"label\"] == 1])\n",
    "    print('==========================================================================')"
   ]
  },
  {
   "cell_type": "code",
   "execution_count": 3,
   "metadata": {
    "pycharm": {
     "name": "#%%\n"
    }
   },
   "outputs": [
    {
     "name": "stdout",
     "output_type": "stream",
     "text": [
      "Requirement already satisfied: matplotlib in /home/robert/tools/anaconda3/lib/python3.8/site-packages (3.5.0)\n",
      "Requirement already satisfied: kiwisolver>=1.0.1 in /home/robert/tools/anaconda3/lib/python3.8/site-packages (from matplotlib) (1.3.2)\n",
      "Requirement already satisfied: cycler>=0.10 in /home/robert/tools/anaconda3/lib/python3.8/site-packages (from matplotlib) (0.11.0)\n",
      "Requirement already satisfied: pyparsing>=2.2.1 in /home/robert/.local/lib/python3.8/site-packages (from matplotlib) (2.4.7)\n",
      "Requirement already satisfied: packaging>=20.0 in /home/robert/tools/anaconda3/lib/python3.8/site-packages (from matplotlib) (21.3)\n",
      "Requirement already satisfied: numpy>=1.17 in /home/robert/tools/anaconda3/lib/python3.8/site-packages (from matplotlib) (1.22.2)\n",
      "Requirement already satisfied: python-dateutil>=2.7 in /home/robert/tools/anaconda3/lib/python3.8/site-packages (from matplotlib) (2.8.2)\n",
      "Requirement already satisfied: fonttools>=4.22.0 in /home/robert/tools/anaconda3/lib/python3.8/site-packages (from matplotlib) (4.25.0)\n",
      "Requirement already satisfied: pillow>=6.2.0 in /home/robert/tools/anaconda3/lib/python3.8/site-packages (from matplotlib) (8.4.0)\n",
      "Requirement already satisfied: six>=1.5 in /home/robert/tools/anaconda3/lib/python3.8/site-packages (from python-dateutil>=2.7->matplotlib) (1.16.0)\n",
      "\u001B[33mWARNING: You are using pip version 22.0.4; however, version 22.1 is available.\n",
      "You should consider upgrading via the '/home/robert/tools/anaconda3/bin/python -m pip install --upgrade pip' command.\u001B[0m\n"
     ]
    }
   ],
   "source": [
    "!pip install matplotlib"
   ]
  },
  {
   "cell_type": "code",
   "execution_count": 3,
   "metadata": {
    "pycharm": {
     "name": "#%%\n"
    }
   },
   "outputs": [
    {
     "name": "stdout",
     "output_type": "stream",
     "text": [
      "[0 3 1 6 4 2 5 7 8]\n"
     ]
    },
    {
     "data": {
      "text/plain": "<Figure size 1440x360 with 1 Axes>",
      "image/png": "[encoded data removed]"
     },
     "metadata": {
      "needs_background": "light"
     },
     "output_type": "display_data"
    },
    {
     "name": "stdout",
     "output_type": "stream",
     "text": [
      "[0 3 6 1 4 7 2 8 5]\n"
     ]
    },
    {
     "data": {
      "text/plain": "<Figure size 1440x360 with 1 Axes>",
      "image/png": "[encoded data removed]"
     },
     "metadata": {
      "needs_background": "light"
     },
     "output_type": "display_data"
    },
    {
     "name": "stdout",
     "output_type": "stream",
     "text": [
      "[0 3 6 1 7 8 2 4 5]\n"
     ]
    },
    {
     "data": {
      "text/plain": "<Figure size 1440x360 with 1 Axes>",
      "image/png": "[encoded data removed]"
     },
     "metadata": {
      "needs_background": "light"
     },
     "output_type": "display_data"
    },
    {
     "name": "stdout",
     "output_type": "stream",
     "text": [
      "[0 3 6 1 4 2 5 7 8]\n"
     ]
    },
    {
     "data": {
      "text/plain": "<Figure size 1440x360 with 1 Axes>",
      "image/png": "[encoded data removed]"
     },
     "metadata": {
      "needs_background": "light"
     },
     "output_type": "display_data"
    }
   ],
   "source": [
    "import matplotlib.pyplot as plt\n",
    "import numpy as np\n",
    "\n",
    "plt.rcParams[\"figure.figsize\"]=20,5\n",
    "\n",
    "for x_axis in ['offers', 'pairs', 'products', 'positives']:\n",
    "    x = [d[x_axis] for d in data_for_samples.values()]\n",
    "    sorted_indices = np.argsort(x)\n",
    "    print(sorted_indices)\n",
    "    x = np.array(x)[sorted_indices]\n",
    "\n",
    "    y_frozen = np.array([d['frozen'] for d in data_for_samples.values()])[sorted_indices]\n",
    "    y_ditto = np.array([d['ditto'] for d in data_for_samples.values()])[sorted_indices]\n",
    "    y_unfreeze = np.array([d['unfreeze'] for d in data_for_samples.values()])[sorted_indices]\n",
    "\n",
    "    plt.plot(x, y_frozen, label='Frozen')\n",
    "    plt.plot(x, y_ditto, label='Ditto')\n",
    "    plt.plot(x, y_unfreeze, label='Unfreeze')\n",
    "\n",
    "    plt.xlabel(f'Number of {x_axis}')\n",
    "    plt.ylabel('F1 score')\n",
    "    plt.legend()\n",
    "    plt.show()"
   ]
  },
  {
   "cell_type": "markdown",
   "metadata": {
    "pycharm": {
     "name": "#%% md\n"
    }
   },
   "source": [
    "# Interpretability"
   ]
  },
  {
   "cell_type": "code",
   "execution_count": 11,
   "metadata": {
    "pycharm": {
     "name": "#%%\n"
    }
   },
   "outputs": [],
   "source": [
    "import pandas as pd\n",
    "import numpy as np\n",
    "np.random.seed(42)\n",
    "import random\n",
    "random.seed(42)\n",
    "\n",
    "import time\n",
    "from pathlib import Path\n",
    "import os\n",
    "os.environ[\"CUDA_VISIBLE_DEVICES\"] = \"0\"\n",
    "\n",
    "import torch\n",
    "from transformers import AutoTokenizer\n",
    "import string"
   ]
  },
  {
   "cell_type": "code",
   "execution_count": 11,
   "metadata": {
    "pycharm": {
     "name": "#%%\n"
    }
   },
   "outputs": [],
   "source": []
  }
 ],
 "metadata": {
  "kernelspec": {
   "display_name": "thesis",
   "language": "python",
   "name": "thesis"
  },
  "language_info": {
   "codemirror_mode": {
    "name": "ipython",
    "version": 3
   },
   "file_extension": ".py",
   "mimetype": "text/x-python",
   "name": "python",
   "nbconvert_exporter": "python",
   "pygments_lexer": "ipython3",
   "version": "3.8.13"
  }
 },
 "nbformat": 4,
 "nbformat_minor": 1
}