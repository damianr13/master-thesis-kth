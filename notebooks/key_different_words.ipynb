{
 "cells": [
  {
   "cell_type": "code",
   "execution_count": 8,
   "outputs": [],
   "source": [
    "import os\n",
    "import string\n",
    "\n",
    "if os.getcwd().endswith('notebooks'):\n",
    "    os.chdir('..')\n",
    "\n",
    "from IPython.core.interactiveshell import InteractiveShell\n",
    "InteractiveShell.ast_node_interactivity = 'all'"
   ],
   "metadata": {
    "collapsed": false,
    "pycharm": {
     "name": "#%%\n"
    }
   }
  },
  {
   "cell_type": "code",
   "execution_count": 10,
   "outputs": [],
   "source": [
    "import pandas as pd"
   ],
   "metadata": {
    "collapsed": false,
    "pycharm": {
     "name": "#%%\n"
    }
   }
  },
  {
   "cell_type": "code",
   "execution_count": 1,
   "metadata": {
    "pycharm": {
     "name": "#%%\n"
    }
   },
   "outputs": [
    {
     "data": {
      "text/plain": [
       "'/home/robert/tools/anaconda3/envs/thesis/bin'"
      ]
     },
     "execution_count": 1,
     "metadata": {},
     "output_type": "execute_result"
    }
   ],
   "source": [
    "import sys, os\n",
    "os.path.dirname(sys.executable)"
   ]
  },
  {
   "cell_type": "code",
   "execution_count": 70,
   "outputs": [
    {
     "data": {
      "text/plain": "   left_id                                         left_title  \\\n0      571      microsoft visio standard 2007 version upgrade   \n1     1174  adobe indesign cs3 upgrade from pagemaker [ mac ]   \n2      588   adobe creative suite cs3 design standard [ mac ]   \n3      518     microsoft office 2004 standard upgrade ( mac )   \n4      572                      adobe dreamweaver cs3 upgrade   \n\n  left_manufacturer  right_id                        right_title  \\\n0         microsoft       946  adobe cs3 design standard upgrade   \n1             adobe       946  adobe cs3 design standard upgrade   \n2             adobe       946  adobe cs3 design standard upgrade   \n3         microsoft       946  adobe cs3 design standard upgrade   \n4             adobe       946  adobe cs3 design standard upgrade   \n\n  right_manufacturer  label  \n0                NaN      0  \n1                NaN      0  \n2                NaN      0  \n3                NaN      0  \n4                NaN      0  ",
      "text/html": "<div>\n<style scoped>\n    .dataframe tbody tr th:only-of-type {\n        vertical-align: middle;\n    }\n\n    .dataframe tbody tr th {\n        vertical-align: top;\n    }\n\n    .dataframe thead th {\n        text-align: right;\n    }\n</style>\n<table border=\"1\" class=\"dataframe\">\n  <thead>\n    <tr style=\"text-align: right;\">\n      <th></th>\n      <th>left_id</th>\n      <th>left_title</th>\n      <th>left_manufacturer</th>\n      <th>right_id</th>\n      <th>right_title</th>\n      <th>right_manufacturer</th>\n      <th>label</th>\n    </tr>\n  </thead>\n  <tbody>\n    <tr>\n      <th>0</th>\n      <td>571</td>\n      <td>microsoft visio standard 2007 version upgrade</td>\n      <td>microsoft</td>\n      <td>946</td>\n      <td>adobe cs3 design standard upgrade</td>\n      <td>NaN</td>\n      <td>0</td>\n    </tr>\n    <tr>\n      <th>1</th>\n      <td>1174</td>\n      <td>adobe indesign cs3 upgrade from pagemaker [ mac ]</td>\n      <td>adobe</td>\n      <td>946</td>\n      <td>adobe cs3 design standard upgrade</td>\n      <td>NaN</td>\n      <td>0</td>\n    </tr>\n    <tr>\n      <th>2</th>\n      <td>588</td>\n      <td>adobe creative suite cs3 design standard [ mac ]</td>\n      <td>adobe</td>\n      <td>946</td>\n      <td>adobe cs3 design standard upgrade</td>\n      <td>NaN</td>\n      <td>0</td>\n    </tr>\n    <tr>\n      <th>3</th>\n      <td>518</td>\n      <td>microsoft office 2004 standard upgrade ( mac )</td>\n      <td>microsoft</td>\n      <td>946</td>\n      <td>adobe cs3 design standard upgrade</td>\n      <td>NaN</td>\n      <td>0</td>\n    </tr>\n    <tr>\n      <th>4</th>\n      <td>572</td>\n      <td>adobe dreamweaver cs3 upgrade</td>\n      <td>adobe</td>\n      <td>946</td>\n      <td>adobe cs3 design standard upgrade</td>\n      <td>NaN</td>\n      <td>0</td>\n    </tr>\n  </tbody>\n</table>\n</div>"
     },
     "execution_count": 70,
     "metadata": {},
     "output_type": "execute_result"
    }
   ],
   "source": [
    "train_set = pd.read_csv('data/interim/amazon_google_75/train.csv')\n",
    "train_set.head()"
   ],
   "metadata": {
    "collapsed": false,
    "pycharm": {
     "name": "#%%\n"
    }
   }
  },
  {
   "cell_type": "code",
   "execution_count": 38,
   "outputs": [],
   "source": [
    "from typing import Tuple, Set\n",
    "import string\n",
    "\n",
    "\n",
    "def differentiate(left_title: str, right_title: str) -> Tuple[Set[str], Set[str]]:\n",
    "    left_token_set: Set[str] = set([word for word in left_title.split(' ') if word not in string.punctuation])\n",
    "    right_token_set: Set[str] = set([word for word in right_title.split(' ') if word not in string.punctuation])\n",
    "\n",
    "    common_tokens = left_token_set.intersection(right_token_set)\n",
    "    left_only_tokens = left_token_set - right_token_set\n",
    "    right_only_tokens = right_token_set - left_token_set\n",
    "\n",
    "    return common_tokens, left_only_tokens.union(right_only_tokens)"
   ],
   "metadata": {
    "collapsed": false,
    "pycharm": {
     "name": "#%%\n"
    }
   }
  },
  {
   "cell_type": "code",
   "execution_count": 121,
   "outputs": [
    {
     "data": {
      "text/plain": "      left_id                                       left_title  \\\n21        571    microsoft visio standard 2007 version upgrade   \n195       858                   microsoft onenote 2007 upgrade   \n229       519  microsoft student with encarta premium 2008 dvd   \n231       574                 microsoft mappoint 2006 with gps   \n251       225                microsoft powerpoint 2004 ( mac )   \n...       ...                                              ...   \n3305      612                             corel ventura 10 dvd   \n3306      491                               hollywood volume 1   \n3307     1194                           roxio toast 8 titanium   \n3308     1291          big tiny little a tiny little christmas   \n3310      926                 pc hoyle jewels : swap & drop it   \n\n     left_manufacturer  right_id  \\\n21           microsoft      3027   \n195          microsoft      2848   \n229          microsoft      2423   \n231          microsoft      3029   \n251          microsoft      2316   \n...                ...       ...   \n3305             corel      2299   \n3306            yamaha      2427   \n3307             roxio       573   \n3308            yamaha       701   \n3310   encore software      2554   \n\n                                            right_title right_manufacturer  \\\n21    microsoft office visio standard 2007 upgrade (...                NaN   \n195               microsoft onenote 2007 upgrade ( pc )                NaN   \n229   microsoft student with encarta premium 2008 co...                NaN   \n231     microsoft mappoint 2006 with gps locator ( pc )                NaN   \n251   microsoft powerpoint 2004 software mac apple &...                NaN   \n...                                                 ...                ...   \n3305                                     ventura 10 dvd                NaN   \n3306          phillip keveren 501056 hollywood volume 1                NaN   \n3307                roxio toast 8 titanium cdr software                NaN   \n3308  big tiny little big tiny little a tiny little ...                NaN   \n3310  encore software 10662 hoyle jewels : swap & dr...                NaN   \n\n      label                                               diff  \n21        1  ({microsoft, 2007, standard, visio, upgrade}, ...  \n195       1        ({microsoft, 2007, onenote, upgrade}, {pc})  \n229       1  ({microsoft, student, with, premium, 2008, enc...  \n231       1  ({microsoft, with, gps, 2006, mappoint}, {loca...  \n251       1  ({microsoft, mac, powerpoint, 2004}, {apple, s...  \n...     ...                                                ...  \n3305      1                      ({10, ventura, dvd}, {corel})  \n3306      1  ({volume, 1, hollywood}, {501056, phillip, kev...  \n3307      1     ({8, roxio, titanium, toast}, {cdr, software})  \n3308      1            ({a, tiny, big, christmas, little}, {})  \n3310      1  ({drop, jewels, hoyle, swap}, {it, 2000, win, ...  \n\n[453 rows x 8 columns]",
      "text/html": "<div>\n<style scoped>\n    .dataframe tbody tr th:only-of-type {\n        vertical-align: middle;\n    }\n\n    .dataframe tbody tr th {\n        vertical-align: top;\n    }\n\n    .dataframe thead th {\n        text-align: right;\n    }\n</style>\n<table border=\"1\" class=\"dataframe\">\n  <thead>\n    <tr style=\"text-align: right;\">\n      <th></th>\n      <th>left_id</th>\n      <th>left_title</th>\n      <th>left_manufacturer</th>\n      <th>right_id</th>\n      <th>right_title</th>\n      <th>right_manufacturer</th>\n      <th>label</th>\n      <th>diff</th>\n    </tr>\n  </thead>\n  <tbody>\n    <tr>\n      <th>21</th>\n      <td>571</td>\n      <td>microsoft visio standard 2007 version upgrade</td>\n      <td>microsoft</td>\n      <td>3027</td>\n      <td>microsoft office visio standard 2007 upgrade (...</td>\n      <td>NaN</td>\n      <td>1</td>\n      <td>({microsoft, 2007, standard, visio, upgrade}, ...</td>\n    </tr>\n    <tr>\n      <th>195</th>\n      <td>858</td>\n      <td>microsoft onenote 2007 upgrade</td>\n      <td>microsoft</td>\n      <td>2848</td>\n      <td>microsoft onenote 2007 upgrade ( pc )</td>\n      <td>NaN</td>\n      <td>1</td>\n      <td>({microsoft, 2007, onenote, upgrade}, {pc})</td>\n    </tr>\n    <tr>\n      <th>229</th>\n      <td>519</td>\n      <td>microsoft student with encarta premium 2008 dvd</td>\n      <td>microsoft</td>\n      <td>2423</td>\n      <td>microsoft student with encarta premium 2008 co...</td>\n      <td>NaN</td>\n      <td>1</td>\n      <td>({microsoft, student, with, premium, 2008, enc...</td>\n    </tr>\n    <tr>\n      <th>231</th>\n      <td>574</td>\n      <td>microsoft mappoint 2006 with gps</td>\n      <td>microsoft</td>\n      <td>3029</td>\n      <td>microsoft mappoint 2006 with gps locator ( pc )</td>\n      <td>NaN</td>\n      <td>1</td>\n      <td>({microsoft, with, gps, 2006, mappoint}, {loca...</td>\n    </tr>\n    <tr>\n      <th>251</th>\n      <td>225</td>\n      <td>microsoft powerpoint 2004 ( mac )</td>\n      <td>microsoft</td>\n      <td>2316</td>\n      <td>microsoft powerpoint 2004 software mac apple &amp;...</td>\n      <td>NaN</td>\n      <td>1</td>\n      <td>({microsoft, mac, powerpoint, 2004}, {apple, s...</td>\n    </tr>\n    <tr>\n      <th>...</th>\n      <td>...</td>\n      <td>...</td>\n      <td>...</td>\n      <td>...</td>\n      <td>...</td>\n      <td>...</td>\n      <td>...</td>\n      <td>...</td>\n    </tr>\n    <tr>\n      <th>3305</th>\n      <td>612</td>\n      <td>corel ventura 10 dvd</td>\n      <td>corel</td>\n      <td>2299</td>\n      <td>ventura 10 dvd</td>\n      <td>NaN</td>\n      <td>1</td>\n      <td>({10, ventura, dvd}, {corel})</td>\n    </tr>\n    <tr>\n      <th>3306</th>\n      <td>491</td>\n      <td>hollywood volume 1</td>\n      <td>yamaha</td>\n      <td>2427</td>\n      <td>phillip keveren 501056 hollywood volume 1</td>\n      <td>NaN</td>\n      <td>1</td>\n      <td>({volume, 1, hollywood}, {501056, phillip, kev...</td>\n    </tr>\n    <tr>\n      <th>3307</th>\n      <td>1194</td>\n      <td>roxio toast 8 titanium</td>\n      <td>roxio</td>\n      <td>573</td>\n      <td>roxio toast 8 titanium cdr software</td>\n      <td>NaN</td>\n      <td>1</td>\n      <td>({8, roxio, titanium, toast}, {cdr, software})</td>\n    </tr>\n    <tr>\n      <th>3308</th>\n      <td>1291</td>\n      <td>big tiny little a tiny little christmas</td>\n      <td>yamaha</td>\n      <td>701</td>\n      <td>big tiny little big tiny little a tiny little ...</td>\n      <td>NaN</td>\n      <td>1</td>\n      <td>({a, tiny, big, christmas, little}, {})</td>\n    </tr>\n    <tr>\n      <th>3310</th>\n      <td>926</td>\n      <td>pc hoyle jewels : swap &amp; drop it</td>\n      <td>encore software</td>\n      <td>2554</td>\n      <td>encore software 10662 hoyle jewels : swap &amp; dr...</td>\n      <td>NaN</td>\n      <td>1</td>\n      <td>({drop, jewels, hoyle, swap}, {it, 2000, win, ...</td>\n    </tr>\n  </tbody>\n</table>\n<p>453 rows × 8 columns</p>\n</div>"
     },
     "execution_count": 121,
     "metadata": {},
     "output_type": "execute_result"
    }
   ],
   "source": [
    "train_set[train_set['label'] == 1]"
   ],
   "metadata": {
    "collapsed": false,
    "pycharm": {
     "name": "#%%\n"
    }
   }
  },
  {
   "cell_type": "code",
   "execution_count": 157,
   "outputs": [],
   "source": [
    "import numpy as np\n",
    "\n",
    "\n",
    "def extract_interesting_tokens(df: pd.DataFrame, label: int) -> pd.DataFrame:\n",
    "    v = np.vectorize(differentiate)\n",
    "    df = df[df['label'] == label].copy()\n",
    "\n",
    "    result = v(df['left_title'], df['right_title'])\n",
    "    result = [(result[0][i], result[1][i]) for i in range(len(result[0]))]\n",
    "    df['diff'] = result\n",
    "\n",
    "    interesting_set = pd.DataFrame()\n",
    "    # (train_set['diff'].map(lambda x: len(x[0]) > len(x[1]))) &\n",
    "    interesting_set['diff'] = df[df['diff'].map(lambda x: len(x[0]) > len([x[1]]))]['diff']\n",
    "    interesting_set['key_tokens'] = interesting_set['diff'].apply(lambda x: x[1])\n",
    "    interesting_set = interesting_set.explode('key_tokens')\n",
    "\n",
    "    interesting_set = interesting_set.groupby('key_tokens').key_tokens.count().rename('count').reset_index()\n",
    "\n",
    "    interesting_set['count_relative'] = interesting_set['count'] / len(df)\n",
    "    interesting_set = interesting_set.sort_values('count_relative', ascending=False)\n",
    "\n",
    "    return interesting_set"
   ],
   "metadata": {
    "collapsed": false,
    "pycharm": {
     "name": "#%%\n"
    }
   }
  },
  {
   "cell_type": "code",
   "execution_count": 158,
   "outputs": [
    {
     "data": {
      "text/plain": "        key_tokens  count  count_relative\n1286      software    527        0.184266\n908            mac    478        0.167133\n701            for    394        0.137762\n1439       upgrade    334        0.116783\n1340         suite    307        0.107343\n555         design    247        0.086364\n1117       premium    233        0.081469\n1315      standard    229        0.080070\n1519       windows    214        0.074825\n1132           pro    207        0.072378\n618        edition    200        0.069930\n527       creative    197        0.068881\n537            cs3    192        0.067133\n1473       version    186        0.065035\n1145  professional    177        0.061888\n147           2007    170        0.059441\n1171             r    167        0.058392\n1062            pc    162        0.056643\n1445          user    161        0.056294\n646         encore    149        0.052098",
      "text/html": "<div>\n<style scoped>\n    .dataframe tbody tr th:only-of-type {\n        vertical-align: middle;\n    }\n\n    .dataframe tbody tr th {\n        vertical-align: top;\n    }\n\n    .dataframe thead th {\n        text-align: right;\n    }\n</style>\n<table border=\"1\" class=\"dataframe\">\n  <thead>\n    <tr style=\"text-align: right;\">\n      <th></th>\n      <th>key_tokens</th>\n      <th>count</th>\n      <th>count_relative</th>\n    </tr>\n  </thead>\n  <tbody>\n    <tr>\n      <th>1286</th>\n      <td>software</td>\n      <td>527</td>\n      <td>0.184266</td>\n    </tr>\n    <tr>\n      <th>908</th>\n      <td>mac</td>\n      <td>478</td>\n      <td>0.167133</td>\n    </tr>\n    <tr>\n      <th>701</th>\n      <td>for</td>\n      <td>394</td>\n      <td>0.137762</td>\n    </tr>\n    <tr>\n      <th>1439</th>\n      <td>upgrade</td>\n      <td>334</td>\n      <td>0.116783</td>\n    </tr>\n    <tr>\n      <th>1340</th>\n      <td>suite</td>\n      <td>307</td>\n      <td>0.107343</td>\n    </tr>\n    <tr>\n      <th>555</th>\n      <td>design</td>\n      <td>247</td>\n      <td>0.086364</td>\n    </tr>\n    <tr>\n      <th>1117</th>\n      <td>premium</td>\n      <td>233</td>\n      <td>0.081469</td>\n    </tr>\n    <tr>\n      <th>1315</th>\n      <td>standard</td>\n      <td>229</td>\n      <td>0.080070</td>\n    </tr>\n    <tr>\n      <th>1519</th>\n      <td>windows</td>\n      <td>214</td>\n      <td>0.074825</td>\n    </tr>\n    <tr>\n      <th>1132</th>\n      <td>pro</td>\n      <td>207</td>\n      <td>0.072378</td>\n    </tr>\n    <tr>\n      <th>618</th>\n      <td>edition</td>\n      <td>200</td>\n      <td>0.069930</td>\n    </tr>\n    <tr>\n      <th>527</th>\n      <td>creative</td>\n      <td>197</td>\n      <td>0.068881</td>\n    </tr>\n    <tr>\n      <th>537</th>\n      <td>cs3</td>\n      <td>192</td>\n      <td>0.067133</td>\n    </tr>\n    <tr>\n      <th>1473</th>\n      <td>version</td>\n      <td>186</td>\n      <td>0.065035</td>\n    </tr>\n    <tr>\n      <th>1145</th>\n      <td>professional</td>\n      <td>177</td>\n      <td>0.061888</td>\n    </tr>\n    <tr>\n      <th>147</th>\n      <td>2007</td>\n      <td>170</td>\n      <td>0.059441</td>\n    </tr>\n    <tr>\n      <th>1171</th>\n      <td>r</td>\n      <td>167</td>\n      <td>0.058392</td>\n    </tr>\n    <tr>\n      <th>1062</th>\n      <td>pc</td>\n      <td>162</td>\n      <td>0.056643</td>\n    </tr>\n    <tr>\n      <th>1445</th>\n      <td>user</td>\n      <td>161</td>\n      <td>0.056294</td>\n    </tr>\n    <tr>\n      <th>646</th>\n      <td>encore</td>\n      <td>149</td>\n      <td>0.052098</td>\n    </tr>\n  </tbody>\n</table>\n</div>"
     },
     "execution_count": 158,
     "metadata": {},
     "output_type": "execute_result"
    }
   ],
   "source": [
    "negative_tokens = extract_interesting_tokens(train_set, 0)\n",
    "negative_tokens.head(20)"
   ],
   "metadata": {
    "collapsed": false,
    "pycharm": {
     "name": "#%%\n"
    }
   }
  },
  {
   "cell_type": "code",
   "execution_count": 159,
   "outputs": [
    {
     "data": {
      "text/plain": "     key_tokens  count  count_relative\n595    software    135        0.298013\n698         win     49        0.108168\n423         mac     48        0.105960\n311      encore     47        0.103753\n338         for     42        0.092715\n500          pc     40        0.088300\n81         2000     40        0.088300\n707          xp     37        0.081678\n373         inc     33        0.072848\n142          98     29        0.064018\n443          me     29        0.064018\n700     windows     27        0.059603\n10            1     19        0.041943\n670        user     19        0.041943\n171         and     19        0.041943\n699     win/mac     18        0.039735\n533  production     17        0.037528\n216          by     17        0.037528\n462       music     17        0.037528\n235    complete     17        0.037528",
      "text/html": "<div>\n<style scoped>\n    .dataframe tbody tr th:only-of-type {\n        vertical-align: middle;\n    }\n\n    .dataframe tbody tr th {\n        vertical-align: top;\n    }\n\n    .dataframe thead th {\n        text-align: right;\n    }\n</style>\n<table border=\"1\" class=\"dataframe\">\n  <thead>\n    <tr style=\"text-align: right;\">\n      <th></th>\n      <th>key_tokens</th>\n      <th>count</th>\n      <th>count_relative</th>\n    </tr>\n  </thead>\n  <tbody>\n    <tr>\n      <th>595</th>\n      <td>software</td>\n      <td>135</td>\n      <td>0.298013</td>\n    </tr>\n    <tr>\n      <th>698</th>\n      <td>win</td>\n      <td>49</td>\n      <td>0.108168</td>\n    </tr>\n    <tr>\n      <th>423</th>\n      <td>mac</td>\n      <td>48</td>\n      <td>0.105960</td>\n    </tr>\n    <tr>\n      <th>311</th>\n      <td>encore</td>\n      <td>47</td>\n      <td>0.103753</td>\n    </tr>\n    <tr>\n      <th>338</th>\n      <td>for</td>\n      <td>42</td>\n      <td>0.092715</td>\n    </tr>\n    <tr>\n      <th>500</th>\n      <td>pc</td>\n      <td>40</td>\n      <td>0.088300</td>\n    </tr>\n    <tr>\n      <th>81</th>\n      <td>2000</td>\n      <td>40</td>\n      <td>0.088300</td>\n    </tr>\n    <tr>\n      <th>707</th>\n      <td>xp</td>\n      <td>37</td>\n      <td>0.081678</td>\n    </tr>\n    <tr>\n      <th>373</th>\n      <td>inc</td>\n      <td>33</td>\n      <td>0.072848</td>\n    </tr>\n    <tr>\n      <th>142</th>\n      <td>98</td>\n      <td>29</td>\n      <td>0.064018</td>\n    </tr>\n    <tr>\n      <th>443</th>\n      <td>me</td>\n      <td>29</td>\n      <td>0.064018</td>\n    </tr>\n    <tr>\n      <th>700</th>\n      <td>windows</td>\n      <td>27</td>\n      <td>0.059603</td>\n    </tr>\n    <tr>\n      <th>10</th>\n      <td>1</td>\n      <td>19</td>\n      <td>0.041943</td>\n    </tr>\n    <tr>\n      <th>670</th>\n      <td>user</td>\n      <td>19</td>\n      <td>0.041943</td>\n    </tr>\n    <tr>\n      <th>171</th>\n      <td>and</td>\n      <td>19</td>\n      <td>0.041943</td>\n    </tr>\n    <tr>\n      <th>699</th>\n      <td>win/mac</td>\n      <td>18</td>\n      <td>0.039735</td>\n    </tr>\n    <tr>\n      <th>533</th>\n      <td>production</td>\n      <td>17</td>\n      <td>0.037528</td>\n    </tr>\n    <tr>\n      <th>216</th>\n      <td>by</td>\n      <td>17</td>\n      <td>0.037528</td>\n    </tr>\n    <tr>\n      <th>462</th>\n      <td>music</td>\n      <td>17</td>\n      <td>0.037528</td>\n    </tr>\n    <tr>\n      <th>235</th>\n      <td>complete</td>\n      <td>17</td>\n      <td>0.037528</td>\n    </tr>\n  </tbody>\n</table>\n</div>"
     },
     "execution_count": 159,
     "metadata": {},
     "output_type": "execute_result"
    }
   ],
   "source": [
    "neutral_tokens = extract_interesting_tokens(train_set, 1)\n",
    "neutral_tokens.head(20)"
   ],
   "metadata": {
    "collapsed": false,
    "pycharm": {
     "name": "#%%\n"
    }
   }
  },
  {
   "cell_type": "markdown",
   "source": [],
   "metadata": {
    "collapsed": false
   }
  }
 ],
 "metadata": {
  "kernelspec": {
   "display_name": "thesis",
   "language": "python",
   "name": "thesis"
  },
  "language_info": {
   "codemirror_mode": {
    "name": "ipython",
    "version": 3
   },
   "file_extension": ".py",
   "mimetype": "text/x-python",
   "name": "python",
   "nbconvert_exporter": "python",
   "pygments_lexer": "ipython3",
   "version": "3.8.13"
  }
 },
 "nbformat": 4,
 "nbformat_minor": 4
}