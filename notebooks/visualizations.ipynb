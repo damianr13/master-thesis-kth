{
 "cells": [
  {
   "cell_type": "code",
   "execution_count": 1,
   "metadata": {
    "collapsed": true
   },
   "outputs": [],
   "source": [
    "import pandas as pd\n",
    "import os\n",
    "\n",
    "os.chdir('..')"
   ]
  },
  {
   "cell_type": "code",
   "execution_count": 2,
   "outputs": [],
   "source": [
    "from IPython.core.interactiveshell import InteractiveShell\n",
    "InteractiveShell.ast_node_interactivity = 'all'"
   ],
   "metadata": {
    "collapsed": false,
    "pycharm": {
     "name": "#%%\n"
    }
   }
  },
  {
   "cell_type": "code",
   "execution_count": 3,
   "outputs": [],
   "source": [
    "from transformers import AutoTokenizer\n",
    "from src.predictors.contrastive import ContrastivePretrainModel, ContrastiveClassifierConfig\n",
    "from src.utils import load_as_object\n",
    "import torch"
   ],
   "metadata": {
    "collapsed": false,
    "pycharm": {
     "name": "#%%\n"
    }
   }
  },
  {
   "cell_type": "code",
   "execution_count": 4,
   "outputs": [
    {
     "data": {
      "text/plain": "   Unnamed: 0                                               text  cluster_id\n0         804  [COL] title [VAL] null , 154457 b21 hp wide ul...    10805188\n1         658  [COL] title [VAL] asus sabertooth x99 [COL] de...      390554\n2          31  [COL] title [VAL] 643778 b21 hp xeon e78867 2 ...     9313979\n3         448  [COL] title [VAL] amd a6 7400k 3 5ghz socket f...      610055\n4        1018  [COL] title [VAL] kingston 64gb datatraveler s...      156285\n5         354  [COL] title [VAL] apple mac mini 2 8ghz intel ...     1464841\n6         751  [COL] title [VAL] null , 432094 b21 hp 146 gb ...      267367\n7         817  [COL] title [VAL] null , 647909 b21 hp 8gb 1x8...    13847889\n8         389  [COL] title [VAL] hp probook 640 g3 i5 7200u 8...      713835\n9         640  [COL] title [VAL] acer aspire es1 132 p194 bus...     8708940",
      "text/html": "<div>\n<style scoped>\n    .dataframe tbody tr th:only-of-type {\n        vertical-align: middle;\n    }\n\n    .dataframe tbody tr th {\n        vertical-align: top;\n    }\n\n    .dataframe thead th {\n        text-align: right;\n    }\n</style>\n<table border=\"1\" class=\"dataframe\">\n  <thead>\n    <tr style=\"text-align: right;\">\n      <th></th>\n      <th>Unnamed: 0</th>\n      <th>text</th>\n      <th>cluster_id</th>\n    </tr>\n  </thead>\n  <tbody>\n    <tr>\n      <th>0</th>\n      <td>804</td>\n      <td>[COL] title [VAL] null , 154457 b21 hp wide ul...</td>\n      <td>10805188</td>\n    </tr>\n    <tr>\n      <th>1</th>\n      <td>658</td>\n      <td>[COL] title [VAL] asus sabertooth x99 [COL] de...</td>\n      <td>390554</td>\n    </tr>\n    <tr>\n      <th>2</th>\n      <td>31</td>\n      <td>[COL] title [VAL] 643778 b21 hp xeon e78867 2 ...</td>\n      <td>9313979</td>\n    </tr>\n    <tr>\n      <th>3</th>\n      <td>448</td>\n      <td>[COL] title [VAL] amd a6 7400k 3 5ghz socket f...</td>\n      <td>610055</td>\n    </tr>\n    <tr>\n      <th>4</th>\n      <td>1018</td>\n      <td>[COL] title [VAL] kingston 64gb datatraveler s...</td>\n      <td>156285</td>\n    </tr>\n    <tr>\n      <th>5</th>\n      <td>354</td>\n      <td>[COL] title [VAL] apple mac mini 2 8ghz intel ...</td>\n      <td>1464841</td>\n    </tr>\n    <tr>\n      <th>6</th>\n      <td>751</td>\n      <td>[COL] title [VAL] null , 432094 b21 hp 146 gb ...</td>\n      <td>267367</td>\n    </tr>\n    <tr>\n      <th>7</th>\n      <td>817</td>\n      <td>[COL] title [VAL] null , 647909 b21 hp 8gb 1x8...</td>\n      <td>13847889</td>\n    </tr>\n    <tr>\n      <th>8</th>\n      <td>389</td>\n      <td>[COL] title [VAL] hp probook 640 g3 i5 7200u 8...</td>\n      <td>713835</td>\n    </tr>\n    <tr>\n      <th>9</th>\n      <td>640</td>\n      <td>[COL] title [VAL] acer aspire es1 132 p194 bus...</td>\n      <td>8708940</td>\n    </tr>\n  </tbody>\n</table>\n</div>"
     },
     "execution_count": 4,
     "metadata": {},
     "output_type": "execute_result"
    }
   ],
   "source": [
    "test_offers_df = pd.read_csv('data/processed/contrastive/wdc_computers_medium/pretrain-test.csv')\n",
    "test_offers_df.head(10)"
   ],
   "metadata": {
    "collapsed": false,
    "pycharm": {
     "name": "#%%\n"
    }
   }
  },
  {
   "cell_type": "code",
   "execution_count": null,
   "outputs": [],
   "source": [
    "# tokenizer(test_offers_df['text'].iloc[0]).tokens()"
   ],
   "metadata": {
    "collapsed": false,
    "pycharm": {
     "name": "#%%\n"
    }
   }
  },
  {
   "cell_type": "code",
   "execution_count": 5,
   "outputs": [],
   "source": [
    "from typing import List\n",
    "\n",
    "\n",
    "def encode_offer(value: str, tokenizer, bert) -> List[int]:\n",
    "    tokens = tokenizer(value, return_tensors=\"pt\", max_length=config.max_tokens, truncation=True)\n",
    "    encoding = bert(tokens['input_ids'], attention_mask=tokens['attention_mask'])\n",
    "    return encoding.last_hidden_state[0][0].tolist()"
   ],
   "metadata": {
    "collapsed": false,
    "pycharm": {
     "name": "#%%\n"
    }
   }
  },
  {
   "cell_type": "code",
   "execution_count": 8,
   "outputs": [],
   "source": [
    "# with torch.no_grad():\n",
    "#     test_offers_df['embedding'] = test_offers_df['text'].apply(encode_offer)"
   ],
   "metadata": {
    "collapsed": false,
    "pycharm": {
     "name": "#%%\n"
    }
   }
  },
  {
   "cell_type": "code",
   "execution_count": 38,
   "outputs": [
    {
     "name": "stdout",
     "output_type": "stream",
     "text": [
      "torch.Size([1, 128, 768])\n",
      "128\n"
     ]
    }
   ],
   "source": [
    "# with torch.no_grad():\n",
    "#     result = encode_offer(test_offers_df['text'].iloc[0])\n",
    "#     print(len(result))"
   ],
   "metadata": {
    "collapsed": false,
    "pycharm": {
     "name": "#%%\n"
    }
   }
  },
  {
   "cell_type": "code",
   "execution_count": 6,
   "outputs": [
    {
     "name": "stdout",
     "output_type": "stream",
     "text": [
      "Installed numpy version 1.21.6\n"
     ]
    }
   ],
   "source": [
    "import numpy as np\n",
    "\n",
    "print(f'Installed numpy version {np.__version__}')"
   ],
   "metadata": {
    "collapsed": false,
    "pycharm": {
     "name": "#%%\n"
    }
   }
  },
  {
   "cell_type": "code",
   "execution_count": 7,
   "outputs": [],
   "source": [
    "import umap.umap_ as umap\n",
    "from sklearn.preprocessing import MinMaxScaler\n",
    "import numpy as np\n",
    "\n",
    "def project2d(target: pd.DataFrame, tokenizer, model: ContrastivePretrainModel) -> pd.DataFrame:\n",
    "    df = target.copy()\n",
    "    with torch.no_grad():\n",
    "        df['embedding'] = df['text'].apply(lambda v: encode_offer(v, tokenizer, model.transformer))\n",
    "\n",
    "    embeddings_list = df['embedding'].tolist()\n",
    "    embeddings = np.asarray(embeddings_list, dtype='float')\n",
    "    scaler =  MinMaxScaler()\n",
    "    features = scaler.fit_transform(embeddings)\n",
    "    mapper = umap.UMAP(n_components=2, metric=\"cosine\").fit(features) # TODO: fit once use it for all the epochs\n",
    "\n",
    "    projection_df = pd.DataFrame(mapper.embedding_, columns=['X', 'Y'])\n",
    "    projection_df['X'] = scaler.fit_transform(projection_df[['X']])\n",
    "    projection_df['Y'] = scaler.fit_transform(projection_df[['Y']])\n",
    "    projection_df['label'] = df['cluster_id']\n",
    "    return projection_df"
   ],
   "metadata": {
    "collapsed": false,
    "pycharm": {
     "name": "#%%\n"
    }
   }
  },
  {
   "cell_type": "code",
   "execution_count": 8,
   "outputs": [],
   "source": [
    "import mplcursors\n",
    "import matplotlib.pyplot as plt\n",
    "%matplotlib notebook"
   ],
   "metadata": {
    "collapsed": false,
    "pycharm": {
     "name": "#%%\n"
    }
   }
  },
  {
   "cell_type": "code",
   "execution_count": 10,
   "outputs": [
    {
     "name": "stdout",
     "output_type": "stream",
     "text": [
      "99\n"
     ]
    }
   ],
   "source": [
    "from distinctipy import distinctipy\n",
    "\n",
    "train_offers_df = pd.read_csv('data/processed/contrastive/wdc_computers_medium/pretrain-train.csv')\n",
    "df_emb = train_offers_df.copy()\n",
    "color_palette = distinctipy.get_colors(50)\n",
    "\n",
    "df_labels = df_emb[['cluster_id']].drop_duplicates()\n",
    "color_repeat_count = len(df_labels) // len(color_palette) + 1\n",
    "color_palette = color_palette * color_repeat_count\n",
    "color_palette = color_palette[:len(df_labels)]\n",
    "df_labels['color'] = color_palette\n",
    "df_labels = df_labels.sample(n=20)\n",
    "\n",
    "df_sampled_emb = df_emb.join(df_labels.set_index('cluster_id'), on='cluster_id', rsuffix='_c', how=\"right\")\n",
    "df_sampled_emb = df_sampled_emb.reset_index()\n",
    "print(len(df_sampled_emb))"
   ],
   "metadata": {
    "collapsed": false,
    "pycharm": {
     "name": "#%%\n"
    }
   }
  },
  {
   "cell_type": "code",
   "execution_count": 10,
   "outputs": [
    {
     "name": "stderr",
     "output_type": "stream",
     "text": [
      "Special tokens have been added in the vocabulary, make sure the associated word embeddings are fine-tuned or trained.\n",
      "Special tokens have been added in the vocabulary, make sure the associated word embeddings are fine-tuned or trained.\n"
     ]
    }
   ],
   "source": [
    "import glob\n",
    "\n",
    "checkpoints = glob.glob(\"output/contrastive_frozen_wdc-computers-medium/pretrain/checkpoint-[0-9]*\")\n",
    "checkpoints = sorted(checkpoints, key=lambda x: int(x.split('/')[-1].split('-')[-1]))\n",
    "\n",
    "config: ContrastiveClassifierConfig = load_as_object(\n",
    "    \"configs/model_train/contrastive/frozen_no-aug_wdc-computers-medium.json\",\n",
    "    ContrastiveClassifierConfig.parse_obj)\n",
    "pretrained_tokenizer = AutoTokenizer.from_pretrained(config.transformer_name,\n",
    "                                                     additional_special_tokens=('[COL]', '[VAL]'))\n",
    "\n",
    "figures_dir = os.path.join('output', 'figures', 'contrastive_frozen_wdc-computers-medium')\n",
    "if not os.path.exists(figures_dir):\n",
    "    os.makedirs(figures_dir)\n",
    "\n",
    "for checkpoint in checkpoints:\n",
    "    checkpoint_model = ContrastivePretrainModel(len_tokenizer=len(pretrained_tokenizer), model=config.transformer_name)\n",
    "\n",
    "    model_state = torch.load(os.path.join(checkpoint, 'pytorch_model.bin'))\n",
    "    checkpoint_model.load_state_dict(model_state)\n",
    "    checkpoint_model.to(torch.device('cpu'))\n",
    "\n",
    "\n",
    "    df_emb = project2d(df_sampled_emb, tokenizer=pretrained_tokenizer, model=checkpoint_model)\n",
    "    df_colored_emb = df_emb.set_index('label').join(df_labels.set_index('cluster_id'), rsuffix='_c')\n",
    "    df_colored_emb = df_colored_emb.reset_index().rename(columns={'index': 'label'})\n",
    "\n",
    "    fig, ax = plt.subplots()\n",
    "    sc = ax.scatter(df_colored_emb['X'], df_colored_emb['Y'], c=df_colored_emb['color'])\n",
    "    # cursor = mplcursors.cursor(sc, hover=True)\n",
    "    # cursor.connect(\"add\", lambda sel: sel.annotation.set_text(df_colored_emb['label'].loc[sel.index]))\n",
    "    checkpoint_path = checkpoint.split('/')\n",
    "    plt.savefig(os.path.join(figures_dir, f'{checkpoint_path[-1]}.png'))\n",
    "    print(f'Saved {checkpoint_path[-1]}')\n"
   ],
   "metadata": {
    "collapsed": false,
    "pycharm": {
     "name": "#%%\n"
    }
   }
  },
  {
   "cell_type": "code",
   "execution_count": 11,
   "outputs": [],
   "source": [
    "from PIL import Image\n",
    "\n",
    "figures_dir = os.path.join('output', 'figures', 'contrastive_frozen_wdc-computers-medium')\n",
    "frame_paths = glob.glob(os.path.join(figures_dir, '*.png'))\n",
    "frame_paths = sorted(frame_paths, key=lambda x: int(x.split('/')[-1].split('.')[0].split('-')[-1]))\n",
    "\n",
    "frames = [Image.open(i) for i in frame_paths]\n",
    "frames[0].save(os.path.join(figures_dir, 'all.gif'), format='GIF', append_images=frames[1:], save_all=True, duration=500, loop=0)"
   ],
   "metadata": {
    "collapsed": false,
    "pycharm": {
     "name": "#%%\n"
    }
   }
  },
  {
   "cell_type": "code",
   "execution_count": null,
   "outputs": [],
   "source": [],
   "metadata": {
    "collapsed": false,
    "pycharm": {
     "name": "#%%\n"
    }
   }
  }
 ],
 "metadata": {
  "kernelspec": {
   "name": "thesis-env",
   "language": "python",
   "display_name": "thesis-env"
  },
  "language_info": {
   "codemirror_mode": {
    "name": "ipython",
    "version": 2
   },
   "file_extension": ".py",
   "mimetype": "text/x-python",
   "name": "python",
   "nbconvert_exporter": "python",
   "pygments_lexer": "ipython2",
   "version": "2.7.6"
  }
 },
 "nbformat": 4,
 "nbformat_minor": 0
}