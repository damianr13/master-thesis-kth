{
 "cells": [
  {
   "cell_type": "code",
   "execution_count": 1,
   "metadata": {
    "pycharm": {
     "name": "#%%\n"
    }
   },
   "outputs": [],
   "source": [
    "CUDA_LAUNCH_BLOCKING=1"
   ]
  },
  {
   "cell_type": "code",
   "execution_count": 2,
   "metadata": {},
   "outputs": [
    {
     "name": "stdout",
     "output_type": "stream",
     "text": [
      "Current working directory: /home/robert/Workspace/university/thesis-public\n"
     ]
    }
   ],
   "source": [
    "import os\n",
    "if os.getcwd().endswith('notebooks'):\n",
    "    os.chdir(\"..\")\n",
    "    \n",
    "print(f'Current working directory: {os.getcwd()}')"
   ]
  },
  {
   "cell_type": "code",
   "execution_count": 3,
   "metadata": {},
   "outputs": [
    {
     "name": "stdout",
     "output_type": "stream",
     "text": [
      "Obtaining file:///home/robert/Workspace/university/thesis-public\r\n",
      "Installing collected packages: src\r\n",
      "  Attempting uninstall: src\r\n",
      "    Found existing installation: src 0.1.0\r\n",
      "    Uninstalling src-0.1.0:\r\n",
      "      Successfully uninstalled src-0.1.0\r\n",
      "  Running setup.py develop for src\r\n",
      "Successfully installed src-0.1.0\r\n",
      "\u001B[33mWARNING: You are using pip version 22.0.4; however, version 22.1.1 is available.\r\n",
      "You should consider upgrading via the '/home/robert/tools/anaconda3/bin/python -m pip install --upgrade pip' command.\u001B[0m\r\n"
     ]
    }
   ],
   "source": [
    "!pip install -e ."
   ]
  },
  {
   "cell_type": "code",
   "execution_count": 4,
   "metadata": {},
   "outputs": [
    {
     "name": "stdout",
     "output_type": "stream",
     "text": [
      "All files are already in place, skipping step for target location: data/interim/proprietary_scarce/\n",
      "All files are already in place, skipping step for target location: data/processed/contrastive/proprietary_scarce\n"
     ]
    }
   ],
   "source": [
    "from src.preprocess.model_specific.contrastive import ContrastivePreprocessorKnownClusters, \\\n",
    "    ContrastivePreprocessorUnknownClusters\n",
    "from src.preprocess.model_specific.word_cooc import WordCoocPreprocessor\n",
    "from src.preprocess.standardize import RelationalDatasetStandardizer, WDCDatasetStandardizer, CSVNoSplitStandardizer\n",
    "from src.utils import seed_all\n",
    "\n",
    "seed_all(42)\n",
    "\n",
    "stand_path = 'configs/stands_tasks/proprietary_scarce.json'\n",
    "standardizer = CSVNoSplitStandardizer(stand_path)\n",
    "standardizer.preprocess()\n",
    "\n",
    "proc_path = 'configs/model_specific/contrastive/proprietary_scarce.json'\n",
    "preprocessor = ContrastivePreprocessorUnknownClusters(proc_path)\n",
    "\n",
    "target_split = standardizer.config.target_location.split('/')\n",
    "directory = target_split[-1] if target_split[-1] != '' else target_split[-2]\n",
    "default_preproc_target = os.path.join('data', 'processed', 'contrastive', directory)\n",
    "\n",
    "preprocessor.preprocess(original_location=standardizer.config.target_location,\n",
    "                        target_location=default_preproc_target)"
   ]
  },
  {
   "cell_type": "code",
   "execution_count": 5,
   "metadata": {},
   "outputs": [],
   "source": [
    "import pandas as pd\n",
    "from typing import Tuple\n",
    "\n",
    "def load_data(path: str) -> Tuple[pd.DataFrame, pd.DataFrame, pd.DataFrame]:\n",
    "    return pd.read_csv(os.path.join(path, 'train.csv')),\\\n",
    "            pd.read_csv(os.path.join(path, 'valid.csv')),\\\n",
    "            pd.read_csv(os.path.join(path, 'test.csv'))"
   ]
  },
  {
   "cell_type": "code",
   "execution_count": 6,
   "metadata": {},
   "outputs": [],
   "source": [
    "train_set, valid_set, test_set = load_data('data/processed/contrastive/proprietary_scarce')"
   ]
  },
  {
   "cell_type": "code",
   "execution_count": 12,
   "metadata": {
    "pycharm": {
     "name": "#%%\n"
    }
   },
   "outputs": [
    {
     "name": "stderr",
     "output_type": "stream",
     "text": [
      "Could not locate the tokenizer configuration file, will try to use the model config instead.\n",
      "loading configuration file https://huggingface.co/huawei-noah/TinyBERT_General_4L_312D/resolve/main/config.json from cache at /home/robert/.cache/huggingface/transformers/740f3ffeb47194ea97e78563af6f51d8fce8d8346d36d41889c75780869cf609.71ad48e6ad371e0c3ffa4982a5cc1c97e41023678e120b71ebe50addd42ec567\n",
      "Model config BertConfig {\n",
      "  \"attention_probs_dropout_prob\": 0.1,\n",
      "  \"cell\": {},\n",
      "  \"emb_size\": 312,\n",
      "  \"gradient_checkpointing\": false,\n",
      "  \"hidden_act\": \"gelu\",\n",
      "  \"hidden_dropout_prob\": 0.1,\n",
      "  \"hidden_size\": 312,\n",
      "  \"initializer_range\": 0.02,\n",
      "  \"intermediate_size\": 1200,\n",
      "  \"layer_norm_eps\": 1e-12,\n",
      "  \"max_position_embeddings\": 512,\n",
      "  \"model_type\": \"bert\",\n",
      "  \"num_attention_heads\": 12,\n",
      "  \"num_hidden_layers\": 4,\n",
      "  \"pad_token_id\": 0,\n",
      "  \"position_embedding_type\": \"absolute\",\n",
      "  \"pre_trained\": \"\",\n",
      "  \"structure\": [],\n",
      "  \"transformers_version\": \"4.9.2\",\n",
      "  \"type_vocab_size\": 2,\n",
      "  \"use_cache\": true,\n",
      "  \"vocab_size\": 30522\n",
      "}\n",
      "\n",
      "loading file https://huggingface.co/huawei-noah/TinyBERT_General_4L_312D/resolve/main/vocab.txt from cache at /home/robert/.cache/huggingface/transformers/4ec675a1f3cd38f2ddbe71010ce58471a710dd0188687381cf6f06fa7860c86a.d789d64ebfe299b0e416afc4a169632f903f693095b4629a7ea271d5a0cf2c99\n",
      "loading file https://huggingface.co/huawei-noah/TinyBERT_General_4L_312D/resolve/main/tokenizer.json from cache at None\n",
      "loading file https://huggingface.co/huawei-noah/TinyBERT_General_4L_312D/resolve/main/added_tokens.json from cache at None\n",
      "loading file https://huggingface.co/huawei-noah/TinyBERT_General_4L_312D/resolve/main/special_tokens_map.json from cache at None\n",
      "loading file https://huggingface.co/huawei-noah/TinyBERT_General_4L_312D/resolve/main/tokenizer_config.json from cache at None\n",
      "loading configuration file https://huggingface.co/huawei-noah/TinyBERT_General_4L_312D/resolve/main/config.json from cache at /home/robert/.cache/huggingface/transformers/740f3ffeb47194ea97e78563af6f51d8fce8d8346d36d41889c75780869cf609.71ad48e6ad371e0c3ffa4982a5cc1c97e41023678e120b71ebe50addd42ec567\n",
      "Model config BertConfig {\n",
      "  \"attention_probs_dropout_prob\": 0.1,\n",
      "  \"cell\": {},\n",
      "  \"emb_size\": 312,\n",
      "  \"gradient_checkpointing\": false,\n",
      "  \"hidden_act\": \"gelu\",\n",
      "  \"hidden_dropout_prob\": 0.1,\n",
      "  \"hidden_size\": 312,\n",
      "  \"initializer_range\": 0.02,\n",
      "  \"intermediate_size\": 1200,\n",
      "  \"layer_norm_eps\": 1e-12,\n",
      "  \"max_position_embeddings\": 512,\n",
      "  \"model_type\": \"bert\",\n",
      "  \"num_attention_heads\": 12,\n",
      "  \"num_hidden_layers\": 4,\n",
      "  \"pad_token_id\": 0,\n",
      "  \"position_embedding_type\": \"absolute\",\n",
      "  \"pre_trained\": \"\",\n",
      "  \"structure\": [],\n",
      "  \"transformers_version\": \"4.9.2\",\n",
      "  \"type_vocab_size\": 2,\n",
      "  \"use_cache\": true,\n",
      "  \"vocab_size\": 30522\n",
      "}\n",
      "\n",
      "Adding [COL] to the vocabulary\n",
      "Adding [VAL] to the vocabulary\n",
      "Special tokens have been added in the vocabulary, make sure the associated word embeddings are fine-tuned or trained.\n",
      "loading configuration file https://huggingface.co/huawei-noah/TinyBERT_General_4L_312D/resolve/main/config.json from cache at /home/robert/.cache/huggingface/transformers/740f3ffeb47194ea97e78563af6f51d8fce8d8346d36d41889c75780869cf609.71ad48e6ad371e0c3ffa4982a5cc1c97e41023678e120b71ebe50addd42ec567\n",
      "Model config BertConfig {\n",
      "  \"attention_probs_dropout_prob\": 0.1,\n",
      "  \"cell\": {},\n",
      "  \"emb_size\": 312,\n",
      "  \"gradient_checkpointing\": false,\n",
      "  \"hidden_act\": \"gelu\",\n",
      "  \"hidden_dropout_prob\": 0.1,\n",
      "  \"hidden_size\": 312,\n",
      "  \"initializer_range\": 0.02,\n",
      "  \"intermediate_size\": 1200,\n",
      "  \"layer_norm_eps\": 1e-12,\n",
      "  \"max_position_embeddings\": 512,\n",
      "  \"model_type\": \"bert\",\n",
      "  \"num_attention_heads\": 12,\n",
      "  \"num_hidden_layers\": 4,\n",
      "  \"pad_token_id\": 0,\n",
      "  \"position_embedding_type\": \"absolute\",\n",
      "  \"pre_trained\": \"\",\n",
      "  \"structure\": [],\n",
      "  \"transformers_version\": \"4.9.2\",\n",
      "  \"type_vocab_size\": 2,\n",
      "  \"use_cache\": true,\n",
      "  \"vocab_size\": 30522\n",
      "}\n",
      "\n",
      "Special tokens have been added in the vocabulary, make sure the associated word embeddings are fine-tuned or trained.\n",
      "loading configuration file https://huggingface.co/huawei-noah/TinyBERT_General_4L_312D/resolve/main/config.json from cache at /home/robert/.cache/huggingface/transformers/740f3ffeb47194ea97e78563af6f51d8fce8d8346d36d41889c75780869cf609.71ad48e6ad371e0c3ffa4982a5cc1c97e41023678e120b71ebe50addd42ec567\n",
      "Model config BertConfig {\n",
      "  \"attention_probs_dropout_prob\": 0.1,\n",
      "  \"cell\": {},\n",
      "  \"emb_size\": 312,\n",
      "  \"gradient_checkpointing\": false,\n",
      "  \"hidden_act\": \"gelu\",\n",
      "  \"hidden_dropout_prob\": 0.1,\n",
      "  \"hidden_size\": 312,\n",
      "  \"initializer_range\": 0.02,\n",
      "  \"intermediate_size\": 1200,\n",
      "  \"layer_norm_eps\": 1e-12,\n",
      "  \"max_position_embeddings\": 512,\n",
      "  \"model_type\": \"bert\",\n",
      "  \"num_attention_heads\": 12,\n",
      "  \"num_hidden_layers\": 4,\n",
      "  \"pad_token_id\": 0,\n",
      "  \"position_embedding_type\": \"absolute\",\n",
      "  \"pre_trained\": \"\",\n",
      "  \"structure\": [],\n",
      "  \"transformers_version\": \"4.9.2\",\n",
      "  \"type_vocab_size\": 2,\n",
      "  \"use_cache\": true,\n",
      "  \"vocab_size\": 30522\n",
      "}\n",
      "\n",
      "loading weights file https://huggingface.co/huawei-noah/TinyBERT_General_4L_312D/resolve/main/pytorch_model.bin from cache at /home/robert/.cache/huggingface/transformers/4a4dca34df2df30c98747c12bff19ea7ee5380f4f180d8cfbbeff703c02793da.252b81fc76dfdd6968ed3f27881bcf37416e6c4ec326288155a94380bb85ed17\n",
      "Some weights of the model checkpoint at huawei-noah/TinyBERT_General_4L_312D were not used when initializing BertModel: ['cls.predictions.transform.LayerNorm.weight', 'fit_denses.1.bias', 'fit_denses.0.weight', 'cls.predictions.bias', 'cls.predictions.transform.dense.weight', 'fit_denses.3.bias', 'fit_denses.2.weight', 'fit_denses.4.weight', 'fit_denses.2.bias', 'fit_denses.0.bias', 'fit_denses.1.weight', 'cls.predictions.transform.LayerNorm.bias', 'fit_denses.3.weight', 'cls.seq_relationship.weight', 'cls.predictions.decoder.weight', 'cls.predictions.transform.dense.bias', 'cls.seq_relationship.bias', 'fit_denses.4.bias']\n",
      "- This IS expected if you are initializing BertModel from the checkpoint of a model trained on another task or with another architecture (e.g. initializing a BertForSequenceClassification model from a BertForPreTraining model).\n",
      "- This IS NOT expected if you are initializing BertModel from the checkpoint of a model that you expect to be exactly identical (initializing a BertForSequenceClassification model from a BertForSequenceClassification model).\n",
      "All the weights of BertModel were initialized from the model checkpoint at huawei-noah/TinyBERT_General_4L_312D.\n",
      "If your task is similar to the task the model of the checkpoint was trained on, you can already use BertModel for predictions without further training.\n",
      "PyTorch: setting up devices\n",
      "\u001B[34m\u001B[1mwandb\u001B[0m: Downloading large artifact model-278nalif:v0, 54.78MB. 2 files... Done. 0:0:0\n",
      "loading configuration file https://huggingface.co/huawei-noah/TinyBERT_General_4L_312D/resolve/main/config.json from cache at /home/robert/.cache/huggingface/transformers/740f3ffeb47194ea97e78563af6f51d8fce8d8346d36d41889c75780869cf609.71ad48e6ad371e0c3ffa4982a5cc1c97e41023678e120b71ebe50addd42ec567\n",
      "Model config BertConfig {\n",
      "  \"attention_probs_dropout_prob\": 0.1,\n",
      "  \"cell\": {},\n",
      "  \"emb_size\": 312,\n",
      "  \"gradient_checkpointing\": false,\n",
      "  \"hidden_act\": \"gelu\",\n",
      "  \"hidden_dropout_prob\": 0.1,\n",
      "  \"hidden_size\": 312,\n",
      "  \"initializer_range\": 0.02,\n",
      "  \"intermediate_size\": 1200,\n",
      "  \"layer_norm_eps\": 1e-12,\n",
      "  \"max_position_embeddings\": 512,\n",
      "  \"model_type\": \"bert\",\n",
      "  \"num_attention_heads\": 12,\n",
      "  \"num_hidden_layers\": 4,\n",
      "  \"pad_token_id\": 0,\n",
      "  \"position_embedding_type\": \"absolute\",\n",
      "  \"pre_trained\": \"\",\n",
      "  \"structure\": [],\n",
      "  \"transformers_version\": \"4.9.2\",\n",
      "  \"type_vocab_size\": 2,\n",
      "  \"use_cache\": true,\n",
      "  \"vocab_size\": 30522\n",
      "}\n",
      "\n",
      "loading weights file https://huggingface.co/huawei-noah/TinyBERT_General_4L_312D/resolve/main/pytorch_model.bin from cache at /home/robert/.cache/huggingface/transformers/4a4dca34df2df30c98747c12bff19ea7ee5380f4f180d8cfbbeff703c02793da.252b81fc76dfdd6968ed3f27881bcf37416e6c4ec326288155a94380bb85ed17\n",
      "Some weights of the model checkpoint at huawei-noah/TinyBERT_General_4L_312D were not used when initializing BertModel: ['cls.predictions.transform.LayerNorm.weight', 'fit_denses.1.bias', 'fit_denses.0.weight', 'cls.predictions.bias', 'cls.predictions.transform.dense.weight', 'fit_denses.3.bias', 'fit_denses.2.weight', 'fit_denses.4.weight', 'fit_denses.2.bias', 'fit_denses.0.bias', 'fit_denses.1.weight', 'cls.predictions.transform.LayerNorm.bias', 'fit_denses.3.weight', 'cls.seq_relationship.weight', 'cls.predictions.decoder.weight', 'cls.predictions.transform.dense.bias', 'cls.seq_relationship.bias', 'fit_denses.4.bias']\n",
      "- This IS expected if you are initializing BertModel from the checkpoint of a model trained on another task or with another architecture (e.g. initializing a BertForSequenceClassification model from a BertForPreTraining model).\n",
      "- This IS NOT expected if you are initializing BertModel from the checkpoint of a model that you expect to be exactly identical (initializing a BertForSequenceClassification model from a BertForSequenceClassification model).\n",
      "All the weights of BertModel were initialized from the model checkpoint at huawei-noah/TinyBERT_General_4L_312D.\n",
      "If your task is similar to the task the model of the checkpoint was trained on, you can already use BertModel for predictions without further training.\n",
      "No `TrainingArguments` passed, using `output_dir=tmp_trainer`.\n",
      "PyTorch: setting up devices\n",
      "The default value for the training argument `--report_to` will change in v5 (from all installed integrations to none). In v5, you will need to use `--report_to all` to get the same behavior as now. You should start updating your code and make this info disappear :-).\n"
     ]
    },
    {
     "name": "stdout",
     "output_type": "stream",
     "text": [
      "Successfully loaded model from path: ./artifacts/model-278nalif:v0/pytorch_model.bin\n"
     ]
    }
   ],
   "source": [
    "from src.predictors.contrastive import ContrastivePredictor\n",
    "from src.predictors.cross_encoders import DittoPredictor\n",
    "from src.preprocess.configs import ExperimentsArgumentParser\n",
    "\n",
    "predictor = ContrastivePredictor(config_path='configs/model_train/contrastive/frozen_no-aug_batch-pt128_proprietary-scarce.json')\n",
    "\n",
    "arguments = ExperimentsArgumentParser()\n",
    "arguments.parse_args(\"\")\n",
    "arguments.load_wandb_models = True\n",
    "predictor.train(train_set, valid_set, arguments=arguments)"
   ]
  },
  {
   "cell_type": "code",
   "execution_count": 13,
   "metadata": {
    "pycharm": {
     "name": "#%%\n"
    }
   },
   "outputs": [
    {
     "name": "stderr",
     "output_type": "stream",
     "text": [
      "***** Running Prediction *****\n",
      "  Num examples = 613\n",
      "  Batch size = 8\n"
     ]
    },
    {
     "data": {
      "text/plain": "<IPython.core.display.HTML object>",
      "text/html": "\n    <div>\n      \n      <progress value='1' max='77' style='width:300px; height:20px; vertical-align: middle;'></progress>\n      [ 1/77 : < :]\n    </div>\n    "
     },
     "metadata": {},
     "output_type": "display_data"
    },
    {
     "name": "stdout",
     "output_type": "stream",
     "text": [
      "F1 score of loaded model: 0.4196428571428572\n"
     ]
    }
   ],
   "source": [
    "f1 = predictor.test(test_set=test_set)\n",
    "print(f'F1 score of loaded model: {f1}')"
   ]
  },
  {
   "cell_type": "code",
   "execution_count": 14,
   "metadata": {
    "pycharm": {
     "name": "#%%\n"
    }
   },
   "outputs": [
    {
     "name": "stderr",
     "output_type": "stream",
     "text": [
      "***** Running Prediction *****\n",
      "  Num examples = 612\n",
      "  Batch size = 8\n"
     ]
    },
    {
     "name": "stdout",
     "output_type": "stream",
     "text": [
      "F1 score on the validation set of the loaded model: 0.39449541284403666\n"
     ]
    }
   ],
   "source": [
    "f1 = predictor.test(test_set=valid_set)\n",
    "print(f'F1 score on the validation set of the loaded model: {f1}')"
   ]
  },
  {
   "cell_type": "code",
   "execution_count": 16,
   "metadata": {
    "pycharm": {
     "name": "#%%\n"
    }
   },
   "outputs": [
    {
     "name": "stderr",
     "output_type": "stream",
     "text": [
      "***** Running Prediction *****\n",
      "  Num examples = 3474\n",
      "  Batch size = 8\n"
     ]
    },
    {
     "name": "stdout",
     "output_type": "stream",
     "text": [
      "F1 score on the train set of the loaded model: 0.7770177838577291\n"
     ]
    }
   ],
   "source": [
    "f1 = predictor.test(test_set=train_set)\n",
    "print(f'F1 score on the train set of the loaded model: {f1}')"
   ]
  },
  {
   "cell_type": "code",
   "execution_count": 37,
   "metadata": {
    "pycharm": {
     "name": "#%%\n"
    }
   },
   "outputs": [],
   "source": [
    "test_set = train_set"
   ]
  },
  {
   "cell_type": "code",
   "execution_count": 38,
   "metadata": {},
   "outputs": [
    {
     "name": "stderr",
     "output_type": "stream",
     "text": [
      "***** Running Prediction *****\n",
      "  Num examples = 1578\n",
      "  Batch size = 8\n"
     ]
    },
    {
     "name": "stdout",
     "output_type": "stream",
     "text": [
      "[0, 1, 1, 1, 1, 1, 1, 1, 1, 1, 1, 1, 1, 1, 1, 1, 1, 1, 1, 1, 0, 1, 1, 1, 1, 1, 1, 1, 1, 1, 1, 1, 1, 1, 1, 1, 1, 1, 1, 1, 1, 1, 1, 1, 1, 1, 1, 0, 1, 1, 1, 1, 1, 1, 1, 1, 1, 1, 1, 1, 1, 1, 1, 1, 1, 1, 1, 1, 1, 1, 1, 1, 1, 1, 1, 1, 1, 0, 0, 1, 1, 1, 1, 1, 1, 1, 1, 1, 0, 1, 1, 1, 1, 1, 1, 1, 1, 1, 1, 1, 1, 1, 1, 1, 1, 1, 1, 1, 1, 1, 1, 1, 1, 1, 1, 1, 1, 1, 1, 1, 1, 1, 1, 1, 1, 1, 1, 1, 1, 0, 1, 1, 1, 0, 1, 1, 1, 1, 1, 1, 1, 1, 1, 1, 1, 1, 1, 1, 1, 1, 1, 1, 1, 0, 1, 1, 1, 1, 1, 1, 1, 1, 1, 1, 1, 1, 1, 1, 1, 1, 1, 1, 0, 1, 1, 1, 1, 1, 1, 1, 1, 1, 1, 1, 1, 1, 1, 1, 1, 1, 1, 1, 0, 1, 1, 1, 1, 1, 0, 1, 1, 1, 1, 1, 1, 1, 1, 1, 1, 1, 1, 1, 1, 1, 1, 0, 0, 1, 1, 1, 1, 1, 1, 1, 1, 1, 1, 0, 1, 1, 1, 1, 1, 1, 1, 1, 1, 1, 1, 1, 1, 1, 1, 1, 1, 1, 1, 1, 1, 0, 1, 1, 1, 1, 1, 1, 1, 1, 1, 1, 1, 1, 1, 1, 0, 1, 1, 1, 1, 1, 0, 1, 1, 1, 1, 1, 1, 1, 1, 1, 0, 1, 1, 1, 1, 1, 1, 1, 1, 1, 1, 1, 1, 1, 1, 1, 1, 1, 1, 1, 1, 1, 1, 1, 1, 1, 1, 1, 1, 1, 1, 1, 1, 1, 0, 1, 1, 1, 1, 1, 1, 1, 1, 1, 0, 1, 0, 1, 1, 1, 1, 1, 1, 0, 1, 1, 1, 1, 1, 1, 1, 1, 1, 1, 1, 1, 1, 1, 1, 1, 1, 1, 1, 1, 1, 1, 1, 1, 1, 1, 1, 1, 1, 1, 1, 1, 1, 1, 1, 1, 1, 1, 1, 1, 1, 1, 1, 1, 1, 0, 1, 1, 1, 0, 1, 1, 1, 1, 1, 1, 1, 1, 1, 1, 1, 1, 1, 1, 1, 1, 1, 1, 1, 1, 1, 1, 1, 1, 1, 1, 1, 1, 1, 1, 1, 1, 1, 1, 1, 1, 1, 1, 1, 1, 1, 1, 1, 1, 1, 1, 1, 1, 1, 1, 1, 1, 1, 1, 1, 1, 1, 1, 1, 1, 1, 1, 1, 1, 1, 1, 1, 1, 1, 1, 1, 1, 1, 1, 1, 1, 1, 1, 1, 0, 1, 1, 1, 1, 1, 1, 1, 1, 1, 1, 1, 1, 1, 1, 1, 0, 1, 1, 1, 1, 1, 1, 1, 1, 1, 1, 1, 1, 1, 1, 1, 1, 1, 1, 1, 1, 1, 1, 1, 1, 1, 1, 1, 1, 1, 1, 1, 1, 1, 1, 1, 1, 1, 1, 1, 1, 1, 1, 1, 1, 1, 1, 1, 1, 1, 1, 1, 1, 1, 1, 1, 1, 1, 1, 1, 1, 1, 1, 1, 1, 1, 1, 1, 1, 1, 1, 1, 1, 1, 1, 1, 1, 1, 1, 1, 1, 1, 1, 1, 1, 1, 1, 1, 1, 1, 1, 1, 1, 1, 1, 1, 1, 1, 1, 1, 1, 1, 1, 1, 1, 1, 1, 1, 1, 1, 1, 1, 1, 1, 1, 1, 1, 1, 1, 1, 1, 1, 1, 1, 1, 1, 1, 1, 1, 1, 1, 1, 1, 1, 1, 1, 1, 1, 1, 1, 1, 1, 1, 1, 1, 1, 1, 1, 1, 1, 1, 1, 1, 1, 1, 1, 1, 1, 1, 1, 1, 1, 1, 1, 1, 1, 1, 1, 1, 1, 1, 1, 1, 1, 1, 1, 1, 1, 1, 1, 1, 1, 1, 1, 1, 1, 1, 1, 1, 1, 1, 1, 1, 1, 1, 1, 1, 1, 1, 1, 1, 1, 1, 1, 1, 1, 1, 1, 1, 1, 1, 1, 1, 1, 1, 1, 1, 1, 1, 1, 1, 1, 1, 1, 1, 1, 1, 1, 1, 1, 1, 1, 1, 1, 1, 1, 1, 1, 1, 1, 1, 1, 1, 1, 1, 1, 1, 1, 1, 1, 1, 1, 1, 1, 1, 1, 1, 1, 1, 1, 1, 1, 1, 1, 1, 1, 1, 1, 1, 1, 1, 1, 1, 1, 1, 1, 1, 1, 1, 1, 1, 1, 1, 1, 1, 1, 1, 1, 1, 1, 1, 1, 1, 1, 1, 1, 1, 1, 1, 1, 1, 1, 1, 1, 1, 1, 1, 1, 1, 1, 1, 1, 1, 1, 1, 1, 1, 1, 1, 1, 1, 1, 1, 1, 1, 1, 1, 1, 1, 1, 1, 1, 1, 1, 1, 1, 1, 1, 1, 1, 1, 1, 1, 1, 1, 1, 1, 1, 1, 1, 1, 1, 1, 1, 1, 1, 1, 1, 1, 1, 1, 1, 1, 1, 1, 1, 1, 1, 1, 1, 1, 1, 1, 1, 1, 1, 1, 1, 1, 1, 1, 1, 1, 1, 1, 1, 1, 1, 1, 1, 1, 1, 1, 1, 1, 1, 1, 1, 1, 1, 1, 1, 1, 1, 1, 1, 1, 1, 1, 1, 1, 1, 1, 1, 1, 1, 1, 1, 1, 1, 1, 1, 1, 1, 1, 1, 1, 1, 1, 1, 1, 1, 1, 1, 1, 1, 1, 1, 1, 1, 1, 1, 1, 1, 1, 1, 1, 1, 1, 1, 1, 1, 1, 1, 1, 1, 1, 1, 1, 1, 1, 1, 1, 1, 1, 1, 1, 1, 1, 1, 1, 1, 1, 1, 1, 1, 1, 1, 1, 1, 1, 1, 1, 1, 1, 1, 1, 1, 1, 1, 1, 1, 1, 1, 1, 1, 1, 1, 1, 1, 1, 1, 1, 1, 1, 1, 1, 1, 1, 1, 1, 1, 1, 1, 1, 1, 1, 1, 1, 1, 1, 1, 1, 1, 1, 1, 1, 1, 1, 1, 1, 1, 1, 1, 1, 1, 1, 1, 1, 1, 1, 1, 1, 1, 1, 1, 1, 1, 1, 1, 1, 1, 1, 1, 1, 1, 1, 1, 1, 1, 1, 1, 1, 1, 1, 1, 1, 1, 1, 1, 1, 1, 1, 1, 1, 1, 1, 1, 1, 1, 1, 1, 1, 1, 1, 1, 1, 1, 1, 1, 1, 1, 1, 1, 1, 1, 1, 1, 1, 1, 1, 1, 1, 1, 1, 1, 1, 1, 1, 1, 1, 1, 1, 1, 1, 1, 1, 1, 1, 1, 1, 1, 1, 1, 1, 1, 1, 1, 1, 1, 1, 1, 1, 1, 1, 1, 1, 1, 1, 1, 1, 1, 1, 1, 1, 1, 1, 1, 1, 1, 1, 1, 1, 1, 1, 1, 1, 1, 1, 1, 1, 1, 1, 1, 1, 1, 1, 1, 1, 1, 1, 1, 1, 1, 1, 1, 1, 1, 1, 1, 1, 1, 1, 1, 1, 1, 1, 1, 1, 1, 1, 1, 1, 1, 1, 1, 1, 1, 1, 1, 1, 1, 1, 1, 1, 1, 1, 1, 1, 1, 1, 1, 1, 1, 1, 1, 1, 1, 1, 1, 1, 1, 1, 1, 1, 1, 1, 1, 1, 1, 1, 1, 1, 1, 1, 1, 1, 1, 1, 1, 1, 1, 1, 1, 1, 1, 1, 1, 1, 1, 1, 1, 1, 1, 1, 1, 1, 1, 1, 1, 1, 1, 1, 1, 1, 1, 1, 1, 1, 1, 1, 1, 1, 1, 1, 1, 1, 1, 1, 1, 1, 1, 1, 1, 1, 1, 1, 1, 1, 1, 1, 1, 1, 1, 1, 1, 1, 1, 1, 1, 1, 1, 1, 1, 1, 1, 1, 1, 1, 1, 1, 1, 1, 1, 1, 1, 1, 1, 1, 1, 1, 1, 1, 1, 1, 1, 1, 1, 1, 1, 1, 1, 1, 1, 1, 1, 1, 1, 1, 1, 1, 1, 1, 1, 1, 1, 1, 1, 1, 1, 1, 1, 1, 1, 1, 1, 1, 1, 1, 1, 1, 1, 1, 1, 1, 1, 1, 1, 1, 1, 1, 1, 1, 1, 1, 1, 1, 1, 1, 1, 1, 1, 1, 1, 1, 1, 1, 1, 1, 1, 1, 1, 1, 1, 1, 1, 1, 1, 1, 1, 1, 1, 1, 1, 1, 1, 1, 1, 1, 1, 1, 1, 1, 1, 1, 1, 1, 1, 1, 1, 1, 1, 1, 1, 1, 1, 1, 1, 1, 1, 1, 1, 1, 1, 1, 1, 1, 1, 1, 1, 1, 1, 1, 1, 1, 1, 1, 1, 1, 1, 1, 1, 1, 1, 1, 1, 1, 1, 1, 1, 1, 1, 1, 1, 1, 1, 1, 1, 1, 1, 1, 1, 1, 1, 1, 1, 1, 1, 1, 1, 1, 1, 1, 1, 1, 1, 1, 1, 1, 1, 1, 1, 1, 1, 1, 1, 1, 1, 1, 1, 1, 1, 1, 1, 1, 1, 1, 1, 1, 1, 1, 1, 1, 1, 1, 1, 1, 1, 1, 1, 1, 1, 1, 1, 1, 1, 1, 1, 1, 1, 1, 1, 1, 1, 1, 1, 1, 1, 1, 1, 1, 1, 1, 1, 1, 1, 1, 1, 1, 1, 1, 1, 1, 1, 1, 1, 1, 1, 1, 1, 1, 1, 1, 1, 1, 1, 1, 1, 1, 1, 1, 1, 1, 1, 1, 1, 1, 1, 1, 1, 1, 1, 1, 1, 1, 1, 1, 1, 1, 1, 1, 1, 1, 1, 1, 1, 1, 1, 1]\n"
     ]
    }
   ],
   "source": [
    "from src.predictors.base import ClassificationDataset\n",
    "\n",
    "test_dataset = ClassificationDataset(test_set)\n",
    "label_pred = predictor.trainer.predict(test_dataset)\n",
    "label_pred = [v[0] for v in label_pred.predictions]\n",
    "label_true = test_set['label'].tolist()\n",
    "\n",
    "diff = [0 if label_pred[i] != label_true[i] else 1 for i in range(len(label_pred))]\n",
    "print(diff)"
   ]
  },
  {
   "cell_type": "code",
   "execution_count": 39,
   "metadata": {},
   "outputs": [
    {
     "name": "stdout",
     "output_type": "stream",
     "text": [
      "[0, 20, 47, 77, 78, 88, 129, 133, 153, 172, 192, 198, 215, 216, 227, 249, 264, 270, 280, 314, 324, 326, 333, 379, 383, 463, 479]\n",
      "[]\n",
      "27\n",
      "0\n",
      "1578\n",
      "1578\n"
     ]
    }
   ],
   "source": [
    "false_negatives = [i for i in range(len(diff)) if diff[i] == 0 and label_pred[i] == 0]\n",
    "false_positives = [i for i in range(len(diff)) if diff[i] == 0 and label_pred[i] == 1]\n",
    "\n",
    "print(false_negatives)\n",
    "print(false_positives)\n",
    "\n",
    "print(len(false_negatives))\n",
    "print(len(false_positives))\n",
    "print(len(test_set))\n",
    "print(len(train_set))"
   ]
  },
  {
   "cell_type": "code",
   "execution_count": 40,
   "metadata": {},
   "outputs": [],
   "source": [
    "import random\n",
    "# random_sample = random.sample(range(1, len(test_set)), 100)\n",
    "\n",
    "random_sample = false_negatives"
   ]
  },
  {
   "cell_type": "code",
   "execution_count": 41,
   "metadata": {},
   "outputs": [
    {
     "name": "stdout",
     "output_type": "stream",
     "text": [
      "Index: 0\n",
      "Text left: [COL] title [VAL] asus prime x299 deluxe prijzen tweakers [COL] description [VAL] nan [COL] specTableContent [VAL] categorie moederborden merk asus product asus prime x299 deluxe uitvoering asus prime x299 deluxe ean 4712900763881 sku 90mb0ty0 m0eay0 prime x299 deluxe tweakers id 776903 productprijs 398 95 pakketpost nederland 0 ideal 0 totaal 398 95 onjuiste prijs melden productprijs 395 pakketpost 3 95 ideal 0 totaal 398 95 onjuiste prijs melden productprijs 399 verzending 0 ideal 0 totaal 399 onjuiste prijs melden productprijs 399 pakketpost tot 50 0 ideal 0 totaal 399 onjuiste prijs melden productprijs 409 pakketpost vanaf 50 0 ideal 0 totaal 409 onjuiste prijs melden productprijs 409 pakketpost vanaf 25 0 ideal 0 totaal 409 onjuiste prijs melden productprijs 421 pakketpost nederland vanaf 75 0 ideal 0 totaal 421 onjuiste prijs melden productprijs 428 22 opsturen vanaf 50 0 ideal 0 totaal 428 22 onjuiste prijs melden productprijs 427 51 pakketpost dpd 3 95 ideal 0 totaal 431 46 onjuiste prijs melden productprijs 430 10 pakketpost [COL] category [VAL] Computers_and_Accessories\n",
      "Text right: [COL] title [VAL] asus prime x299 deluxe socket 2066 intel atx motherboard motherbo ocuk [COL] description [VAL] support for x series intel core processors sli crossfire support 8x sata ports 2x m 2 gigabit lan realtek alc1220 audio wifi [COL] specTableContent [VAL] nan [COL] category [VAL] Computers_and_Accessories\n",
      "True label: 1\n",
      "Predicted label: 0.0\n",
      "===============================================\n",
      "Index: 20\n",
      "Text left: [COL] title [VAL] gigabyte brix gb bxbt 2807 2 5 hdd celeron barebone mini pc for 134 95 from maplin pricesearcher [COL] description [VAL] features 22nm intel celeron n2807 to deliver to the most intuitive and integrated operating systems in the world supports 2 5 thickness 7 0 9 5mm hard drives 1 x 3gbps ultra compact pc design 0 69l 56 1x 107 6 x 114 4mm 1x so dimm ddr3l slots 1333 mhz preinstall ieee 802 11 b g n wi fi [COL] specTableContent [VAL] nan [COL] category [VAL] Computers_and_Accessories\n",
      "Text right: [COL] title [VAL] gigabyte brix gb bxbt 2807 prijzen tweakers [COL] description [VAL] nan [COL] specTableContent [VAL] categorie barebones merk gigabyte productserie brix product gigabyte brix gb bxbt 2807 uitvoering gigabyte brix gb bxbt 2807 ean 4719331241131 sku gb bxbt 2807 tweakers id 385303 productprijs 115 25 pakketpost vanaf 99 5 95 ideal 0 50 totaal 121 70 onjuiste prijs melden productprijs 126 pakketpost dpd 3 95 ideal 0 totaal 129 95 onjuiste prijs melden productprijs 132 95 pakketpost postnl vanaf 49 95 0 ideal 0 totaal 132 95 onjuiste prijs melden productprijs 134 95 pakketpost nederland 0 ideal 0 totaal 134 95 onjuiste prijs melden productprijs 131 pakketpost 3 95 ideal 0 totaal 134 95 onjuiste prijs melden productprijs 134 95 pakketpost tot 50 0 ideal 0 totaal 134 95 onjuiste prijs melden productprijs 139 99 pakketpost vanaf 20 0 ideal 0 totaal 139 99 onjuiste prijs melden productprijs 139 99 pakketpost 0 ideal 0 totaal 139 99 onjuiste prijs melden productprijs 141 pakketpost nederland vanaf [COL] category [VAL] Computers_and_Accessories\n",
      "True label: 1\n",
      "Predicted label: 0.0\n",
      "===============================================\n",
      "Index: 47\n",
      "Text left: [COL] title [VAL] 491315 001 hp dl380 g6 2p x5560 2 8ghz 12gb , null [COL] description [VAL] description hp proliant dl380 g6 rack mountable 2u 2 way x xeon x5560 80ghz 8mb 95w ddr3 1333 12gb 6 2gb pc3 10600r registered dimms nc382i dual port gigabit adapters smart array p410i 512mb bbwc controller 8 5 inch sff hot swap sas sata bays slim dvd rw drive 750w plug power supplies fans n 1 redundancy standard part 491315 [COL] specTableContent [VAL] nan [COL] category [VAL] Computers_and_Accessories\n",
      "Text right: [COL] title [VAL] hpe proliant dl380 g6 performance xeon x5560 2 8 ghz 12 gb 0 491315 001 x86 based servers cdw com [COL] description [VAL] the hp proliant dl380 g6 server continues to deliver on its heritage of engineering excellence with increased flexibility and performance enterprise class uptime and hp insight control manageability 2 socket intel xeon performance and 2u density for a variety of applications [COL] specTableContent [VAL] nan [COL] category [VAL] Computers_and_Accessories\n",
      "True label: 1\n",
      "Predicted label: 0.0\n",
      "===============================================\n",
      "Index: 77\n",
      "Text left: [COL] title [VAL] amd black edition fx 8350 4 ghz processor fd8350frhkbox add in processors cpus cdw com [COL] description [VAL] amd fx processor unlocks maximum unrestrained processing performance for extreme responsiveness you can see and feel [COL] specTableContent [VAL] nan [COL] category [VAL] Computers_and_Accessories\n",
      "Text right: [COL] title [VAL] micro amd eight core fx 8350 socket [COL] description [VAL] micro amd eight core fx 8350 socket am3 4ghz 2600mhz 125w in box [COL] specTableContent [VAL] nan [COL] category [VAL] Computers_and_Accessories\n",
      "True label: 1\n",
      "Predicted label: 0.0\n",
      "===============================================\n",
      "Index: 78\n",
      "Text left: [COL] title [VAL] hp original 2gb fbd pc2 5300 2x1gb kit new bulk 397411 b21 s detail page server nexus llc [COL] description [VAL] nan [COL] specTableContent [VAL] nan [COL] category [VAL] Computers_and_Accessories\n",
      "Text right: [COL] title [VAL] null , 397411 b21 hp 2gb 2x1gb pc2 5300 sdram kit new wholesale price [COL] description [VAL] description genuine hpe 2gb fbd pc2 5300 2x1gb sdram ddr2 dual rank memory kitpart number s option part 397411 b21 2 modules per kit spare part 416471 001 2 modules per kit assembly part 398706 051 2 modules per kit [COL] specTableContent [VAL] specifications category proliant memory sub category genuine hp memory generation pc2 5300 part number 397411 b21 products id 142198 storage capacity 2gb 2 x 1gb upgrade type system specific technology ddr ii sdram memory speed 667mhz pc2 5300 rank dual application server memory server model hp proliant compatibility hp proliant servers manufacturer hewlett packard hp serial number yes hp logo yes guaranteed genuine hp yes 397411 b21 compatible servers bl20p g4 bl460c bl480c bl680c g5 dl140 g3 dl160 g5 dl180 dl360 g5 dl380 g5 dl580 g5 ml150 g3 ml350 g5 ml370 [COL] category [VAL] Computers_and_Accessories\n",
      "True label: 1\n",
      "Predicted label: 0.0\n",
      "===============================================\n",
      "Index: 88\n",
      "Text left: [COL] title [VAL] cart o mem ria sandisk ultra uhs i microsdhc 32gb classe 10 pcdiga [COL] description [VAL] os dispositivos m veis atuais oferecem recursos avan ados de fotografia e v deo para que voc possa gravar todos os momentos excitantes da vida os cart es de mem ria sandisk ultra permitem que voc capture transporte e mantenha todos esses momentos nas pontas dos dedos classifica o de velocidade classe 10 para captura de v deo full hdeste [COL] specTableContent [VAL] nan [COL] category [VAL] Computers_and_Accessories\n",
      "Text right: [COL] title [VAL] sandisk 32gb ultra microsdhc card buy at connection public sector solutions [COL] description [VAL] nan [COL] specTableContent [VAL] nan [COL] category [VAL] Computers_and_Accessories\n",
      "True label: 1\n",
      "Predicted label: 0.0\n",
      "===============================================\n",
      "Index: 129\n",
      "Text left: [COL] title [VAL] benq zowie xl2430 grijs rood zwart prijzen tweakers [COL] description [VAL] nan [COL] specTableContent [VAL] categorie monitoren merk benq productserie zowie product benq zowie xl2430 uitvoering grijs rood zwart ean 4718755064807 sku 9h lf1lb qbe tweakers id 572937 productprijs 347 pakketpost nederland vanaf 75 0 ideal 0 totaal 347 onjuiste prijs melden productprijs 349 pakketpost nederland 0 ideal 0 totaal 349 onjuiste prijs melden productprijs 349 verzending 0 ideal 0 totaal 349 onjuiste prijs melden productprijs 349 pakketpost vanaf 20 0 ideal 0 totaal 349 onjuiste prijs melden productprijs 349 pakketpost 0 ideal 0 totaal 349 onjuiste prijs melden productprijs 349 pakketpost tot 1 kg 0 ideal 0 totaal 349 onjuiste prijs melden productprijs 352 41 pakketpost vanaf 99 3 95 ideal 0 50 totaal 356 86 onjuiste prijs melden productprijs 358 16 pakketpost vanaf 29 95 0 ideal 0 totaal 358 16 onjuiste prijs melden productprijs 361 79 opsturen 0 ideal 0 totaal 361 79 onjuiste prijs melden productprijs 374 pakketpost dpd 3 95 [COL] category [VAL] Computers_and_Accessories\n",
      "Text right: [COL] title [VAL] xl2430 24 full hd gaming display hp prodisplay p240va 23 8 va negro pantalla para pc blac [COL] description [VAL] nan [COL] specTableContent [VAL] nan [COL] category [VAL] Computers_and_Accessories\n",
      "True label: 1\n",
      "Predicted label: 0.0\n",
      "===============================================\n",
      "Index: 133\n",
      "Text left: [COL] title [VAL] asus h81i plus cat logo powerplanetonline [COL] description [VAL] nan [COL] specTableContent [VAL] nan [COL] category [VAL] Computers_and_Accessories\n",
      "Text right: [COL] title [VAL] haswell h81 uatx valleyseek com asus h81i plus [COL] description [VAL] affordable mini itx build with precise digital power design and superfast usb 3 0 transfer speed new uefi bios and ez mode friendlier easier and more intuitive with helpful info added usb 3 0 boost uasp support 170 faster transfer speeds than traditional usb 3 0 network icontrol real time network bandwidth management ai suite 3 one stop access to [COL] specTableContent [VAL] nan [COL] category [VAL] Computers_and_Accessories\n",
      "True label: 1\n",
      "Predicted label: 0.0\n",
      "===============================================\n",
      "Index: 153\n",
      "Text left: [COL] title [VAL] corsair af120 performance edition twin pack 120mm prijzen tweakers [COL] description [VAL] nan [COL] specTableContent [VAL] categorie ventilatoren merk corsair product corsair af120 performance edition twin pack uitvoering corsair af120 performance edition twin pack 120mm ean 0803982812384 0843591014182 5053460358476 sku co 9050004 ww tweakers id 309413 productprijs 29 pakketpost dpd 3 95 ideal 0 totaal 32 95 onjuiste prijs melden productprijs 27 49 pakketpost tot 99 5 95 ideal 0 50 totaal 33 94 onjuiste prijs melden productprijs 34 45 pakketpost nederland 0 ideal 0 totaal 34 45 onjuiste prijs melden productprijs 29 95 pakketpost vanaf 4 50 ideal 0 totaal 34 45 onjuiste prijs melden productprijs 30 95 pakketpost 3 95 ideal 0 totaal 34 90 onjuiste prijs melden productprijs 31 95 pakketpost tot 1 kg 2 95 ideal 0 totaal 34 90 onjuiste prijs melden productprijs 30 50 pakketpost 0 30 kg 4 95 ideal vanaf 10 0 totaal 35 45 onjuiste prijs melden productprijs 30 95 pakketpost postnl tot 49 95 4 95 [COL] category [VAL] Computers_and_Accessories\n",
      "Text right: [COL] title [VAL] corsair co 9050004 ww co9050004ww 2pk air series af120 120mm performance ed high airflow fan for 26 25 [COL] description [VAL] corsair co 9050004 ww co9050004ww 2pk air series af120 120mm performance ed high airflow fan for 26 25 free shipping on large orders 30 day return policy secure purchasing highly rated company established 1991 [COL] specTableContent [VAL] mfg model corsair co 9050004 ww mfg part co 9050004 ww co9050004ww upc 843591014182 description 2pk air series af120 120mm performance ed high airflow fan price 26 25 [COL] category [VAL] Computers_and_Accessories\n",
      "True label: 1\n",
      "Predicted label: 0.0\n",
      "===============================================\n",
      "Index: 172\n",
      "Text left: [COL] title [VAL] seethru macbook pro with retina display 13 cases [COL] description [VAL] feature tab background color fff padding 1em 2em 3em feature tab h3 font size 1 8em margin 0 5em 0 line height 1 2 feature tab h4 font size 1 4em margin 1 5em 0 0 5em feature tab ul padding left 1em feature tab li line height 1 4 margin top 0 7em list style type disc feature tab [COL] specTableContent [VAL] nan [COL] category [VAL] Computers_and_Accessories\n",
      "Text right: [COL] title [VAL] speck seethru for macbook pro clear 71575 1212 [COL] description [VAL] nan [COL] specTableContent [VAL] nan [COL] category [VAL] Computers_and_Accessories\n",
      "True label: 1\n",
      "Predicted label: 0.0\n",
      "===============================================\n",
      "Index: 192\n",
      "Text left: [COL] title [VAL] gigabyte amd radeon rx 550 2gb gaming oc graphics card ln80157 gv rx550gaming 2gd scan uk [COL] description [VAL] 2gb gigabyte radeon rx 550 gaming oc 14nm polaris 512 streams 1206mhz gpu 7000mhz gddr5 dp hdmi dvi d dl [COL] specTableContent [VAL] nan [COL] category [VAL] Computers_and_Accessories\n",
      "Text right: [COL] title [VAL] gigabyte radeon rx 550 gaming oc 2048mb gddr5 pci express graphics card gr ocuk [COL] description [VAL] gv rx550gaming oc 2gd boost 1219mhz memory 2048mb 7000mhz gddr5 stream processors 512 directx 12 support 3 years warranty [COL] specTableContent [VAL] nan [COL] category [VAL] Computers_and_Accessories\n",
      "True label: 1\n",
      "Predicted label: 0.0\n",
      "===============================================\n",
      "Index: 198\n",
      "Text left: [COL] title [VAL] memoria ddr3 8gb 1333 mhz pc10600 [COL] description [VAL] memoria ddr3 8gb 1333 mhz pc10600 hp servidor proliant [COL] specTableContent [VAL] nan [COL] category [VAL] Computers_and_Accessories\n",
      "Text right: [COL] title [VAL] ram 8gb 2rx8 10600 9 udimm tradineur com [COL] description [VAL] capacidad total 8 gb frecuencia bus clock rate 1 333 mhz tecnolog a ddr3 tft kit no tipolog a dimm analogico generica no [COL] specTableContent [VAL] peso 0 0400 alto 1 50 ancho 9 00 profundo 18 50 fabricante hewlett packard enterprise ref proveedor 647909 b21 marca hewlett packard enterprise [COL] category [VAL] Computers_and_Accessories\n",
      "True label: 1\n",
      "Predicted label: 0.0\n",
      "===============================================\n",
      "Index: 215\n",
      "Text left: [COL] title [VAL] null , 340769 001 hp storageworks internal dlt scsi wholesale price [COL] description [VAL] description storageworks 20 40gb internal dlt scsi tape drivepart number s option part 340769 001 [COL] specTableContent [VAL] specifications category storageworks sub category tape drive generation 20 40gb part number 340769 001 products id 1259 tape type dlt native capacity 20gb interface type scsi enclosure type internal native data transfer rate 1 5mb s compressed capacity 40gb data transfer rate compressed 3mb s platform pc dimensions hxwxd 3 23 in x 5 83 in x 9 61 in [COL] category [VAL] Computers_and_Accessories\n",
      "Text right: [COL] title [VAL] null , hp 340769 001 20 40 gb int scsi dlt wholesale price [COL] description [VAL] description drive 20 40gb dlt 4000 narrow single ended scsi 2 internal drive gray 5 25 inch form factor full height model th5aa hj for dlt4000 not for dlt4000e part number s option part 340769 001 [COL] specTableContent [VAL] nan [COL] category [VAL] Computers_and_Accessories\n",
      "True label: 1\n",
      "Predicted label: 0.0\n",
      "===============================================\n",
      "Index: 216\n",
      "Text left: [COL] title [VAL] hp nc430t pci x quad port gigabit server adapter prijzen tweakers [COL] description [VAL] nan [COL] specTableContent [VAL] categorie netwerkadapters merk hp product hp nc430t pci x quad port gigabit server adapter uitvoering hp nc430t pci x quad port gigabit server adapter ean 0829160915906 sku 391661 b21 tweakers id 160630 productprijs 78 65 pakketpost nederland 12 04 ideal 0 totaal 90 69 onjuiste prijs melden [COL] category [VAL] Computers_and_Accessories\n",
      "Text right: [COL] title [VAL] null , 391661 b21 hp nc340t server adapter [COL] description [VAL] description hp nc340t pci x quad port gigabit server adapterpart number s manufacturer part 391661 b21 [COL] specTableContent [VAL] specifications category proliant controller sub category proliant network adapter generation nc340t part number 391661 b21 products id 458262 manufacturer hp product type server adapter host interface pci x cabling type ethernet 10 1000base t 100base tx form factor internal data transfer rate 1gb s memory 256kb [COL] category [VAL] Computers_and_Accessories\n",
      "True label: 1\n",
      "Predicted label: 0.0\n",
      "===============================================\n",
      "Index: 227\n",
      "Text left: [COL] title [VAL] hp laserjet pro m102w monochrome 159 40 savings 119 11 30 g3q35a bgj laser printers cdw com [COL] description [VAL] keep things simple with an affordable hp laserjet pro powered by jetintelligence toner cartridges produce professional documents from a range of mobile devices and help save energy with a compact laser printer designed for efficiency [COL] specTableContent [VAL] nan [COL] category [VAL] Office_Products\n",
      "Text right: [COL] title [VAL] imprimante hp laserjet pro m102w imprimantes store canada [COL] description [VAL] nan [COL] specTableContent [VAL] nan [COL] category [VAL] Office_Products\n",
      "True label: 1\n",
      "Predicted label: 0.0\n",
      "===============================================\n",
      "Index: 249\n",
      "Text left: [COL] title [VAL] hewlett packard enterprise proliant bl40p intel xeon processor 2 20 ghz 2m 512m 1p server specs servers 345628 b21 [COL] description [VAL] long product name hewlett packard enterprise proliant bl40p intel xeon processor 2 20 ghz 2m 512m 1p server the short editorial description of hewlett packard enterprise proliant bl40p intel xeon processor 2 20 ghz 2m 512m 1p server 4 way blade server using xeon processor technology , more short summary description hewlett packard enterprise proliant bl40p intel xeon processor 2 [COL] specTableContent [VAL] nan [COL] category [VAL] Computers_and_Accessories\n",
      "Text right: [COL] title [VAL] null , 345628 b21 bl40p 1 x2 2ghz 2mb server wholesale price [COL] description [VAL] description bl40p 1 xeon 2 2ghz 2mb 512mb blade server part 345628 b21 [COL] specTableContent [VAL] specifications category proliant server sub category bl40 generation part number 345628 b21 products id 15421 cache memory 2 mb l2 cache cache per processor 2 mb form factor blade 6 u hard drive none monitor none networking ethernet fast ethernet gigabit etherne processor 1 x intel xeon mp 2 2 ghz type server dimensions wxdxh 7 in x 28 9 in x 10 5 in [COL] category [VAL] Computers_and_Accessories\n",
      "True label: 1\n",
      "Predicted label: 0.0\n",
      "===============================================\n",
      "Index: 264\n",
      "Text left: [COL] title [VAL] apple 27 2 7ghz intel quad core i5 imac desktop computer accessories for z0m6tbd2 abt [COL] description [VAL] nan [COL] specTableContent [VAL] nan [COL] category [VAL] Computers_and_Accessories\n",
      "Text right: [COL] title [VAL] apple imac 27 inch 2 7ghz quad core i5 mid 2011 mc813ll a macofalltrades [COL] description [VAL] apple part number mc813ll a hardware configuration 27 inch led backlit glossy widescreen tft lcd display with ips 2560x1440 resolution2 7ghz quad core intel core i5 processor4 0gb 4x1 0gb pc3 10600 1333mhz ddr3 so dimm supports up to 32 0gb480gb flash storagedvd rw cd rw superdrive dlamd radeon hd 6770m graphics with 512mb gddr5 memoryairport extreme wireless card 802 [COL] specTableContent [VAL] nan [COL] category [VAL] Computers_and_Accessories\n",
      "True label: 1\n",
      "Predicted label: 0.0\n",
      "===============================================\n",
      "Index: 270\n",
      "Text left: [COL] title [VAL] acer chromebook 11 n7 c731t c42n 6 celeron n3060 4 gb ram 16 ssd us oetc consortium store [COL] description [VAL] acer chromebook 11 n7 c731t c42n celeron n3060 1 6 ghz chrome os 4 gb ram 16 gb emmc 11 6 ips touchscreen 1366 x 768 hd hd graphics 400 wi fi bluetooth gray kbd us [COL] specTableContent [VAL] spec value type 11 6 ips lcd backlight technology led backlight touchscreen yes multi touch resolution 1366 x 768 hd widescreen yes image brightness 250 cd m features glare cinecrystal spec value cpu intel celeron n3060 1 6 ghz max turbo speed 2 48 ghz number of cores dual core cache l2 2 mb 64 bit computing yes features intel burst technology [COL] category [VAL] Computers_and_Accessories\n",
      "Text right: [COL] title [VAL] augustus deckenleuchte chrom 1xled leuchte globo 41331 modern led glo g nstig mit 2 [COL] description [VAL] augustus deckenleuchte chrom 1xled leuchte globo 41331 modern chrom led [COL] specTableContent [VAL] eigenschaft leuchtmittel fix verbaut fassung sockel led betriebsspannung 230 volt farbtemperatur 3000 kelvin lumen 1640 vergleichswert 120 w lichtleistung der leds 24 w dimmbar nein farbe chrom h he 55 mm durchmesser 475 mm geh usematerial milchig schutzart ip20 gewicht 0 1980 kg leuchtmittel inklusive ja besonders geeignet f r k che anzahl leuchtmittel 1 stromverbrauch 24 w energieeffizienzklasse a [COL] category [VAL] Computers_and_Accessories\n",
      "True label: 1\n",
      "Predicted label: 0.0\n",
      "===============================================\n",
      "Index: 280\n",
      "Text left: [COL] title [VAL] 603608 b21 hp xeon x7560 2 26ghz bl620c g7 , null [COL] description [VAL] description hp intel xeon x7560 bl620c g7 2 26ghz 8 core 24mb 130w full processor option kitpart number s manufacturer part 603608 b21 [COL] specTableContent [VAL] specifications category proliant processor sub category intel xeon generation g7 part number 603608 b21 products id 458175 product type processor processor type intel xeon processor core octa core processor qty 1 clock speed 2 26ghz quickpath interconnect 5 86gt s l2 cache 2mb l3 cache 24mb 64 bit processing yes process technology 32nm processor socket socket lga 1567 thermal design power 105w [COL] category [VAL] Computers_and_Accessories\n",
      "Text right: [COL] title [VAL] hp intel xeon x7560 prijzen tweakers [COL] description [VAL] nan [COL] specTableContent [VAL] categorie processors merk hp product hp intel xeon x7560 uitvoering hp intel xeon x7560 ean 0884962877746 5711045879975 8849628777466 sku 603608 b21 tweakers id 371580 [COL] category [VAL] Computers_and_Accessories\n",
      "True label: 1\n",
      "Predicted label: 0.0\n",
      "===============================================\n",
      "Index: 314\n",
      "Text left: [COL] title [VAL] hp bl460c g7 intel xeon e5607 processor kit prijzen tweakers [COL] description [VAL] nan [COL] specTableContent [VAL] categorie processors merk hp product hp bl460c g7 intel xeon e5607 processor kit uitvoering hp bl460c g7 intel xeon e5607 processor kit ean 0886111098330 sku 637414 b21 tweakers id 356721 productprijs 465 85 pakketpost nederland 12 04 ideal 0 totaal 477 89 onjuiste prijs melden [COL] category [VAL] Computers_and_Accessories\n",
      "Text right: [COL] title [VAL] null , 637414 b21 hp xeon e5607 2 26ghz bl460c g7 new wholesale price [COL] description [VAL] description hp intel xeon e5607 bl460c g7 2 26ghz 4 core 8mb 80w full processor option kitpart number s manufacturer part 637414 b21 [COL] specTableContent [VAL] specifications category proliant processor sub category intel xeon generation g7 part number 637414 b21 products id 458218 product type processor processor type intel xeon processor core quad core processor qty 1 clock speed 2 26ghz quickpath interconnect 4 8gt s l2 cache 1mb l3 cache 8mb 64 bit processing yes process technology 32nm processor socket socket b lga 1366 thermal design power 80w [COL] category [VAL] Computers_and_Accessories\n",
      "True label: 1\n",
      "Predicted label: 0.0\n",
      "===============================================\n",
      "Index: 324\n",
      "Text left: [COL] title [VAL] nzxt phantom 530 full tower gaming case black ocuk [COL] description [VAL] featuring support for even the most extreme performance builds the phantom 530 offers a unique design aesthetic that improves on the highly acclaimed original in every way [COL] specTableContent [VAL] nan [COL] category [VAL] Computers_and_Accessories\n",
      "Text right: [COL] title [VAL] nzxt phantom 530 itx eatx atx micro full tower chassis black [COL] description [VAL] build a computer using this nzxt phantom 530 ca ph530 b1 chassis that fits select itx eatx atx and micro atx motherboards and features 3 external 5 25 drive bays 6 internal 3 5 drive bays and 1 6 internal 2 5 drive bays for easy customization [COL] specTableContent [VAL] nan [COL] category [VAL] Computers_and_Accessories\n",
      "True label: 1\n",
      "Predicted label: 0.0\n",
      "===============================================\n",
      "Index: 326\n",
      "Text left: [COL] title [VAL] core i3 6100 3 70ghz bx80662i36100 [COL] description [VAL] nan [COL] specTableContent [VAL] nan [COL] category [VAL] Computers_and_Accessories\n",
      "Text right: [COL] title [VAL] s1151 core i3 6100 2core 3 7ghz 3mb hd530 51w boite [COL] description [VAL] nan [COL] specTableContent [VAL] nan [COL] category [VAL] Computers_and_Accessories\n",
      "True label: 1\n",
      "Predicted label: 0.0\n",
      "===============================================\n",
      "Index: 333\n",
      "Text left: [COL] title [VAL] corsair vengeance 2x8gb ddr3 etopia technologies [COL] description [VAL] like the legendary dominator enthusiast grade vengeance dram is designed for stability stringently factory tested and backed by the corsair limited lifetime warranty [COL] specTableContent [VAL] nan [COL] category [VAL] Computers_and_Accessories\n",
      "Text right: [COL] title [VAL] corsair vengeance black cmz16gx3m2a1600c10 16gb 2x8gb ddr3 1600 cl10 1 5v dual channel memory kit 1600mhz ncix [COL] description [VAL] nan [COL] specTableContent [VAL] quick specs cas latency cl10 error checking non ecc number of modules 2 x 8 gb number of pins 240 pin signal processing unbuffered limited warranty lifetime form factor dimm memory speed 1600 mhz memory size 16 gb memory technology ddr3 sdram memory standard ddr3 1600 pc3 12800 productid 1021322346 [COL] category [VAL] Computers_and_Accessories\n",
      "True label: 1\n",
      "Predicted label: 0.0\n",
      "===============================================\n",
      "Index: 379\n",
      "Text left: [COL] title [VAL] 495916 b21 hp xeon e5506 4 core 2 13ghz lga1366 mb l3 processor [COL] description [VAL] nan [COL] specTableContent [VAL] general information brand hp part 495916 b21 category processors unboxed oem condition refurbished availability in stock technical specifications type server series xeon speed 2 13 ghz model e5506 cores 4 [COL] category [VAL] Computers_and_Accessories\n",
      "Text right: [COL] title [VAL] null , 495916 b21 hp e5506 2 13ghz ml350 g6 cpu kit new wholesale price [COL] description [VAL] description intel xeon e5506 ml350 g6 2 13ghz 4 core 4mb 80w full processor option kitpart number s option part 495916 b21 [COL] specTableContent [VAL] specifications category proliant processor sub category xeon generation g6 part number 495916 b21 products id 459569 product type processor upgrade processor type intel xeon processor core quad core processor qty 1 clock speed 2 13ghz bus speed 800mhz l2 cache 1mb l3 cache 4mb 64 bit processing yes process technology 45nm processor socket socket b lga 1366 thermal design power 80w [COL] category [VAL] Computers_and_Accessories\n",
      "True label: 1\n",
      "Predicted label: 0.0\n",
      "===============================================\n",
      "Index: 383\n",
      "Text left: [COL] title [VAL] apple mac mini 1 4ghz core i5 late 2014 mgem2ll a macofalltrades [COL] description [VAL] not upgradeable , apple part number mgem2ll a hardware configuration 1 4ghz dual core intel core i5 processor with turbo boost up to 2 7ghz 4 0gb built in 1600mhz lpddr3 memory not upgradeable 500gb serial ata hard disk drive 5400rpm intel hd graphics 5000 graphics card with up to 1 5 gb shared from main memory airport extreme wireless [COL] specTableContent [VAL] nan [COL] category [VAL] Computers_and_Accessories\n",
      "Text right: [COL] title [VAL] apple mac mini 1 4ghz intel core i5 computer mgem2ll a [COL] description [VAL] 1 4ghz dual core intel core i5 turbo boost up to 2 7ghz 3mb l3 cache 500gb 5400rpm hard drive 4gb of 1600mhz lpddr3 memory intel hd graphics 5000 thunderbolt 2 usb 3 sdxc card slot hdmi 802 11ac bluetooth 4 0 aluminum finish [COL] specTableContent [VAL] method estimated delivery cost ground shipping nov 27th 10 24 second day nov 24th 17 41 next day air nov 22nd 35 92 processor speed 1 40ghz system memory ram 4gb hard drive size 500gb graphics card intel hd graphics device type mac mini [COL] category [VAL] Computers_and_Accessories\n",
      "True label: 1\n",
      "Predicted label: 0.0\n",
      "===============================================\n",
      "Index: 463\n",
      "Text left: [COL] title [VAL] 4th generation intel core i3 4160 3 6ghz socket lga1150 coreandtrade bx80646i34160 novatech [COL] description [VAL] dual core technology 3 60ghz clock speed 3mb l3 cache dual channel ddr3 controller 22nm integrated hd 4400 graphics 3yr warranty [COL] specTableContent [VAL] processor number i3 4160 number of cores 2 number of threads 4 clock speed 3 6ghz max turbo frequency n a architecture 22nm technology intel smart cache 3mb instruction set 64 bit instruction set extensions sse4 1 4 2 avx 2 0 embedded options available no lithography 22nm max tdp 65 w max memory size dependant on memory type 32 gb memory types ddr3 1333 1600 number of memory channels 2 max memory bandwidth 25 6 gb s ecc memory supported no processor graphics intel hd graphics 4400 graphics base frequency 350 mhz graphics max dynamic frequency 1 15 ghz intel quick sync video yes intel intru 3d technology yes intel insider yes intel wireless display yes number of displays supported 3 [COL] category [VAL] Computers_and_Accessories\n",
      "Text right: [COL] title [VAL] intel core i3 4160 boxed reviews nieksvd userreviews tweakers [COL] description [VAL] nan [COL] specTableContent [VAL] categorie processors merk intel productserie core i3 product intel core i3 4160 uitvoering boxed ean 0675901298971 0735858287180 0735858287197 4053162795372 5032037066921 5032037066938 5054629489840 6759012989714 7358582871802 sku bx80646i34160 tweakers id 404898 [COL] category [VAL] Computers_and_Accessories\n",
      "True label: 1\n",
      "Predicted label: 0.0\n",
      "===============================================\n",
      "Index: 479\n",
      "Text left: [COL] title [VAL] 376638 b21 hp 1gb pc3200 reg ecc kit , null new wholesale price [COL] description [VAL] description genuine hpe 1gb memory kit 2 x 512mb registered pc3200 sdrampart number s option part 376638 b21 [COL] specTableContent [VAL] specifications category proliant memory sub category genuine hp memory generation 1gb part number 376638 b21 products id 142767 storage capacity 1gb 2 x 512kb upgrade type system specific technology ddr sdram form factor dimm 184 pin memory speed 400mhz pc3200 data integrity check ecc application server memory server model hp proliant compatibility hp proliant servers manufacturer hewlett packard hp serial number yes hp logo yes guaranteed genuine hp yes [COL] category [VAL] Computers_and_Accessories\n",
      "Text right: [COL] title [VAL] hp 376638 b21 ami 1gb 184p pc2700 cl2 5 36c 64x4 registered ecc ddr dimm t027 [COL] description [VAL] 376638 b21 ami 1gb 184p pc2700 cl2 5 36c 64x4 registered ecc ddr dimm t027 [COL] specTableContent [VAL] nan [COL] category [VAL] Computers_and_Accessories\n",
      "True label: 1\n",
      "Predicted label: 0.0\n",
      "===============================================\n"
     ]
    }
   ],
   "source": [
    "for i in range(len(random_sample)):\n",
    "    print(f'Index: {random_sample[i]}')\n",
    "    print(f'Text left: {test_set.iloc[random_sample[i]][\"left_text\"]}')\n",
    "    print(f'Text right: {test_set.iloc[random_sample[i]][\"right_text\"]}')\n",
    "    print(f'True label: {test_set.iloc[random_sample[i]][\"label\"]}')\n",
    "    print(f'Predicted label: {label_pred[random_sample[i]]}')\n",
    "    print('===============================================')"
   ]
  },
  {
   "cell_type": "code",
   "execution_count": 61,
   "metadata": {},
   "outputs": [],
   "source": [
    "raw_test = pd.read_csv('data/raw/amazon_google/test.csv')\n",
    "raw_left = pd.read_csv('data/raw/amazon_google/tableA.csv')\n",
    "raw_right = pd.read_csv('data/raw/amazon_google/tableB.csv')"
   ]
  },
  {
   "cell_type": "code",
   "execution_count": 68,
   "metadata": {},
   "outputs": [
    {
     "data": {
      "text/plain": [
       "ltable_id     369\n",
       "rtable_id    3007\n",
       "label           0\n",
       "Name: 1022, dtype: int64"
      ]
     },
     "execution_count": 68,
     "metadata": {},
     "output_type": "execute_result"
    }
   ],
   "source": [
    "raw_test.iloc[1022]"
   ]
  },
  {
   "cell_type": "code",
   "execution_count": 63,
   "metadata": {},
   "outputs": [
    {
     "name": "stdout",
     "output_type": "stream",
     "text": [
      "id                                                          369\n",
      "title           tlc arthur 's kindergarten learning system 2008\n",
      "manufacturer                                             encore\n",
      "price                                                     19.99\n",
      "Name: 369, dtype: object\n",
      "id                                                    3007\n",
      "title           reader rabbit reading learning system 2007\n",
      "manufacturer                                           NaN\n",
      "price                                                12.95\n",
      "Name: 3007, dtype: object\n"
     ]
    }
   ],
   "source": [
    "print(raw_left.iloc[369])\n",
    "print(raw_right.iloc[3007])"
   ]
  },
  {
   "cell_type": "code",
   "execution_count": 66,
   "metadata": {},
   "outputs": [],
   "source": [
    "processed_test = pd.read_csv('data/processed/contrastive/amazon_google/test.csv')"
   ]
  },
  {
   "cell_type": "code",
   "execution_count": 69,
   "metadata": {},
   "outputs": [
    {
     "data": {
      "text/plain": [
       "left_text     [COL] title [VAL] videostudio 11 plus [COL] ma...\n",
       "right_text    [COL] title [VAL] video studio 11 plus [COL] m...\n",
       "label                                                         0\n",
       "Name: 1022, dtype: object"
      ]
     },
     "execution_count": 69,
     "metadata": {},
     "output_type": "execute_result"
    }
   ],
   "source": [
    "processed_test.iloc[1022]"
   ]
  },
  {
   "cell_type": "code",
   "execution_count": 22,
   "metadata": {},
   "outputs": [],
   "source": [
    "interim_test = pd.read_csv('data/interim/amazon_google/test.csv')"
   ]
  },
  {
   "cell_type": "code",
   "execution_count": 23,
   "metadata": {},
   "outputs": [
    {
     "data": {
      "text/plain": [
       "left_id                                         572\n",
       "left_title            adobe dreamweaver cs3 upgrade\n",
       "left_manufacturer                             adobe\n",
       "right_id                                        954\n",
       "right_title           adobe dreamweaver cs3 upgrade\n",
       "right_manufacturer                              NaN\n",
       "label                                             0\n",
       "Name: 1085, dtype: object"
      ]
     },
     "execution_count": 23,
     "metadata": {},
     "output_type": "execute_result"
    }
   ],
   "source": [
    "interim_test.iloc[1085]"
   ]
  },
  {
   "cell_type": "code",
   "execution_count": 75,
   "metadata": {},
   "outputs": [
    {
     "data": {
      "text/html": [
       "<div>\n",
       "<style scoped>\n",
       "    .dataframe tbody tr th:only-of-type {\n",
       "        vertical-align: middle;\n",
       "    }\n",
       "\n",
       "    .dataframe tbody tr th {\n",
       "        vertical-align: top;\n",
       "    }\n",
       "\n",
       "    .dataframe thead th {\n",
       "        text-align: right;\n",
       "    }\n",
       "</style>\n",
       "<table border=\"1\" class=\"dataframe\">\n",
       "  <thead>\n",
       "    <tr style=\"text-align: right;\">\n",
       "      <th></th>\n",
       "      <th>ltable_id</th>\n",
       "      <th>rtable_id</th>\n",
       "      <th>label</th>\n",
       "    </tr>\n",
       "  </thead>\n",
       "  <tbody>\n",
       "    <tr>\n",
       "      <th>958</th>\n",
       "      <td>572</td>\n",
       "      <td>954</td>\n",
       "      <td>0</td>\n",
       "    </tr>\n",
       "  </tbody>\n",
       "</table>\n",
       "</div>"
      ],
      "text/plain": [
       "     ltable_id  rtable_id  label\n",
       "958        572        954      0"
      ]
     },
     "execution_count": 75,
     "metadata": {},
     "output_type": "execute_result"
    }
   ],
   "source": [
    "raw_test[(raw_test['ltable_id'] == 572) & (raw_test['rtable_id'] == 954)]"
   ]
  },
  {
   "cell_type": "code",
   "execution_count": 76,
   "metadata": {},
   "outputs": [
    {
     "name": "stdout",
     "output_type": "stream",
     "text": [
      "      id                          title manufacturer  price\n",
      "572  572  adobe dreamweaver cs3 upgrade        adobe  199.0\n",
      "      id                          title manufacturer   price\n",
      "954  954  adobe dreamweaver cs3 upgrade          NaN  205.99\n"
     ]
    }
   ],
   "source": [
    "print(raw_left[raw_left['id'] == 572])\n",
    "print(raw_right[raw_right['id'] == 954])"
   ]
  },
  {
   "cell_type": "markdown",
   "metadata": {},
   "source": [
    "TODO: \n",
    "- extract problematic labels as csv to export to google sheets\n",
    "- how much are the problematic labels affecting my f1 score?\n",
    "\n"
   ]
  },
  {
   "cell_type": "code",
   "execution_count": 19,
   "metadata": {},
   "outputs": [
    {
     "name": "stdout",
     "output_type": "stream",
     "text": [
      "25\n",
      "11\n"
     ]
    }
   ],
   "source": [
    "mislabeled = [1022, 1085, 1151, 1201, 1289, 1328, 1390, 1505, 1665, 1782, 1818, 1896, 2026, 2053, 2060, 2061, 2121, 2152, 2156, 2165, 2246, 2270, 2271, 2291, 2088]\n",
    "doubts = [1223, 1412, 1525, 1572, 1961, 2052, 2073, 2118, 2210, 1944, 1289]\n",
    "\n",
    "mislabeled_test_set = test_set[test_set.index.isin(mislabeled)]\n",
    "doubts_test_set = test_set[test_set.index.isin(doubts)]\n",
    "\n",
    "print(len(mislabeled_test_set))\n",
    "print(len(doubts_test_set))"
   ]
  },
  {
   "cell_type": "code",
   "execution_count": 32,
   "metadata": {},
   "outputs": [
    {
     "data": {
      "text/html": [
       "<div>\n",
       "<style scoped>\n",
       "    .dataframe tbody tr th:only-of-type {\n",
       "        vertical-align: middle;\n",
       "    }\n",
       "\n",
       "    .dataframe tbody tr th {\n",
       "        vertical-align: top;\n",
       "    }\n",
       "\n",
       "    .dataframe thead th {\n",
       "        text-align: right;\n",
       "    }\n",
       "</style>\n",
       "<table border=\"1\" class=\"dataframe\">\n",
       "  <thead>\n",
       "    <tr style=\"text-align: right;\">\n",
       "      <th></th>\n",
       "      <th>left_id</th>\n",
       "      <th>left_title</th>\n",
       "      <th>left_manufacturer</th>\n",
       "      <th>right_id</th>\n",
       "      <th>right_title</th>\n",
       "      <th>right_manufacturer</th>\n",
       "      <th>label_x</th>\n",
       "    </tr>\n",
       "  </thead>\n",
       "  <tbody>\n",
       "    <tr>\n",
       "      <th>1022</th>\n",
       "      <td>856</td>\n",
       "      <td>videostudio 11 plus</td>\n",
       "      <td>corel</td>\n",
       "      <td>5</td>\n",
       "      <td>video studio 11 plus</td>\n",
       "      <td>corel corporation</td>\n",
       "      <td>0</td>\n",
       "    </tr>\n",
       "    <tr>\n",
       "      <th>1085</th>\n",
       "      <td>572</td>\n",
       "      <td>adobe dreamweaver cs3 upgrade</td>\n",
       "      <td>adobe</td>\n",
       "      <td>954</td>\n",
       "      <td>adobe dreamweaver cs3 upgrade</td>\n",
       "      <td>NaN</td>\n",
       "      <td>0</td>\n",
       "    </tr>\n",
       "    <tr>\n",
       "      <th>1151</th>\n",
       "      <td>1029</td>\n",
       "      <td>westward</td>\n",
       "      <td>encore software</td>\n",
       "      <td>2081</td>\n",
       "      <td>encore software 13781 westward</td>\n",
       "      <td>NaN</td>\n",
       "      <td>0</td>\n",
       "    </tr>\n",
       "    <tr>\n",
       "      <th>1201</th>\n",
       "      <td>831</td>\n",
       "      <td>rainbow fish and the whale ( win/mac )</td>\n",
       "      <td>global-software-publishing</td>\n",
       "      <td>2970</td>\n",
       "      <td>rainbow fish and the whale</td>\n",
       "      <td>NaN</td>\n",
       "      <td>0</td>\n",
       "    </tr>\n",
       "    <tr>\n",
       "      <th>1289</th>\n",
       "      <td>1334</td>\n",
       "      <td>adobe creative suite cs3 web standard</td>\n",
       "      <td>adobe</td>\n",
       "      <td>566</td>\n",
       "      <td>adobe cs3 web standard</td>\n",
       "      <td>NaN</td>\n",
       "      <td>0</td>\n",
       "    </tr>\n",
       "  </tbody>\n",
       "</table>\n",
       "</div>"
      ],
      "text/plain": [
       "      left_id                              left_title  \\\n",
       "1022      856                     videostudio 11 plus   \n",
       "1085      572           adobe dreamweaver cs3 upgrade   \n",
       "1151     1029                                westward   \n",
       "1201      831  rainbow fish and the whale ( win/mac )   \n",
       "1289     1334   adobe creative suite cs3 web standard   \n",
       "\n",
       "               left_manufacturer  right_id                     right_title  \\\n",
       "1022                       corel         5            video studio 11 plus   \n",
       "1085                       adobe       954   adobe dreamweaver cs3 upgrade   \n",
       "1151             encore software      2081  encore software 13781 westward   \n",
       "1201  global-software-publishing      2970      rainbow fish and the whale   \n",
       "1289                       adobe       566          adobe cs3 web standard   \n",
       "\n",
       "     right_manufacturer  label_x  \n",
       "1022  corel corporation        0  \n",
       "1085                NaN        0  \n",
       "1151                NaN        0  \n",
       "1201                NaN        0  \n",
       "1289                NaN        0  "
      ]
     },
     "execution_count": 32,
     "metadata": {},
     "output_type": "execute_result"
    }
   ],
   "source": [
    "mislabeled_interim = pd.merge(interim_test, mislabeled_test_set, how='inner', left_index=True, right_index=True)\n",
    "mislabeled_interim.drop(['left_text', 'right_text', 'label_y'], axis=1, inplace=True)\n",
    "mislabeled_interim.head()"
   ]
  },
  {
   "cell_type": "code",
   "execution_count": 36,
   "metadata": {},
   "outputs": [],
   "source": [
    "import os\n",
    "\n",
    "if not os.path.exists('output/data/amazong_google'):\n",
    "    os.makedirs('output/data/amazon_google')\n",
    "\n",
    "mislabeled_interim.to_csv('output/data/amazon_google/mislabeled.csv')"
   ]
  },
  {
   "cell_type": "code",
   "execution_count": 40,
   "metadata": {},
   "outputs": [],
   "source": [
    "doubts_interim = pd.merge(interim_test, doubts_test_set, how='inner', left_index=True, right_index=True)\n",
    "doubts_interim.drop(['left_text', 'right_text', 'label_y'], axis=1, inplace=True)\n",
    "doubts_interim.to_csv('output/data/amazon_google/doubts.csv')"
   ]
  },
  {
   "cell_type": "code",
   "execution_count": 48,
   "metadata": {},
   "outputs": [
    {
     "name": "stdout",
     "output_type": "stream",
     "text": [
      "F1 score with original labels: 0.842741935483871\n",
      "F1 score with corrected labels: 0.8944337811900192\n"
     ]
    }
   ],
   "source": [
    "from sklearn.metrics import f1_score\n",
    "\n",
    "f1 = f1_score(label_true, label_pred)\n",
    "print(f'F1 score with original labels: {f1}')\n",
    "\n",
    "label_corrected = label_true.copy()\n",
    "for i in mislabeled: \n",
    "    label_corrected[i] = (label_true[i] + 1) % 2\n",
    "    \n",
    "f1_corrected = f1_score(label_corrected, label_pred)\n",
    "print(f'F1 score with corrected labels: {f1_corrected}')"
   ]
  }
 ],
 "metadata": {
  "kernelspec": {
   "display_name": "thesis",
   "language": "python",
   "name": "thesis"
  },
  "language_info": {
   "codemirror_mode": {
    "name": "ipython",
    "version": 3
   },
   "file_extension": ".py",
   "mimetype": "text/x-python",
   "name": "python",
   "nbconvert_exporter": "python",
   "pygments_lexer": "ipython3",
   "version": "3.8.13"
  }
 },
 "nbformat": 4,
 "nbformat_minor": 1
}